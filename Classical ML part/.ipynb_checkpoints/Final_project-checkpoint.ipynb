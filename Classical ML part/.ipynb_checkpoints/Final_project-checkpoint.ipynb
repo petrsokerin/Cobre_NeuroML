{
 "cells": [
  {
   "cell_type": "code",
   "execution_count": 1,
   "metadata": {
    "colab": {
     "base_uri": "https://localhost:8080/"
    },
    "id": "YTqdP136TQ6_",
    "outputId": "9d2dff23-f7c1-4ede-dff0-55ea426b95b0"
   },
   "outputs": [],
   "source": [
    "try:\n",
    "    import google.colab\n",
    "    IN_COLAB = True\n",
    "except ImportError:\n",
    "    IN_COLAB = False\n",
    "\n",
    "from pathlib import Path\n",
    "if IN_COLAB:\n",
    "    google.colab.drive.mount(\"/content/drive\")\n",
    "    \n",
    "    # Change this if you created the shortcut in a different location\n",
    "    AUX_DATA_ROOT = Path(\"/content/drive/My Drive/FinalProject_NeuroML\")\n",
    "    \n",
    "    assert AUX_DATA_ROOT.is_dir(), \"Have you forgot to 'Add a shortcut to Drive'?\"\n",
    "    \n",
    "    import sys\n",
    "    sys.path.append(str(AUX_DATA_ROOT))\n",
    "else:\n",
    "    AUX_DATA_ROOT = Path(\".\")"
   ]
  },
  {
   "cell_type": "code",
   "execution_count": null,
   "metadata": {},
   "outputs": [
    {
     "name": "stdout",
     "output_type": "stream",
     "text": [
      "Name: seaborn\n",
      "Version: 0.11.2\n",
      "Summary: seaborn: statistical data visualization\n",
      "Home-page: https://seaborn.pydata.org\n",
      "Author: Michael Waskom\n",
      "Author-email: mwaskom@gmail.com\n",
      "License: BSD (3-clause)\n",
      "Location: c:\\users\\user\\anaconda3\\lib\\site-packages\n"
     ]
    },
    {
     "name": "stderr",
     "output_type": "stream",
     "text": [
      "WARNING: Ignoring invalid distribution -vxpy (c:\\users\\user\\anaconda3\\lib\\site-packages)\n",
      "WARNING: Ignoring invalid distribution -cikit-learn (c:\\users\\user\\anaconda3\\lib\\site-packages)\n",
      "WARNING: Ignoring invalid distribution -atplotlib (c:\\users\\user\\anaconda3\\lib\\site-packages)\n"
     ]
    },
    {
     "name": "stdout",
     "output_type": "stream",
     "text": [
      "Requires: matplotlib, numpy, pandas, scipy\n",
      "Required-by: \n",
      "Name: xgboost\n",
      "Version: 1.4.2\n",
      "Summary: XGBoost Python Package\n",
      "Home-page: https://github.com/dmlc/xgboost\n",
      "Author: \n",
      "Author-email: \n",
      "License: Apache-2.0\n"
     ]
    },
    {
     "name": "stderr",
     "output_type": "stream",
     "text": [
      "WARNING: Ignoring invalid distribution -vxpy (c:\\users\\user\\anaconda3\\lib\\site-packages)\n",
      "WARNING: Ignoring invalid distribution -cikit-learn (c:\\users\\user\\anaconda3\\lib\\site-packages)\n",
      "WARNING: Ignoring invalid distribution -atplotlib (c:\\users\\user\\anaconda3\\lib\\site-packages)\n"
     ]
    },
    {
     "name": "stdout",
     "output_type": "stream",
     "text": [
      "Location: c:\\users\\user\\anaconda3\\lib\\site-packages\n",
      "Requires: numpy, scipy\n",
      "Required-by: \n"
     ]
    }
   ],
   "source": [
    "!pip show seaborn\n",
    "!pip show xgboost\n",
    "!pip show tensorly\n",
    "!pip show networkx"
   ]
  },
  {
   "cell_type": "code",
   "execution_count": 2,
   "metadata": {
    "id": "UQhBoI6ETaZ8"
   },
   "outputs": [
    {
     "name": "stderr",
     "output_type": "stream",
     "text": [
      "C:\\Users\\User\\anaconda3\\lib\\site-packages\\numpy\\_distributor_init.py:30: UserWarning: loaded more than 1 DLL from .libs:\n",
      "C:\\Users\\User\\anaconda3\\lib\\site-packages\\numpy\\.libs\\libopenblas.GK7GX5KEQ4F6UYO3P26ULGBQYHGQO7J4.gfortran-win_amd64.dll\n",
      "C:\\Users\\User\\anaconda3\\lib\\site-packages\\numpy\\.libs\\libopenblas.XWYDX2IKJW2NMTWSFYNGFUWKQU3LYTCZ.gfortran-win_amd64.dll\n",
      "  warnings.warn(\"loaded more than 1 DLL from .libs:\"\n",
      "C:\\Users\\User\\anaconda3\\lib\\site-packages\\xgboost\\compat.py:31: FutureWarning: pandas.Int64Index is deprecated and will be removed from pandas in a future version. Use pandas.Index with the appropriate dtype instead.\n",
      "  from pandas import MultiIndex, Int64Index\n"
     ]
    }
   ],
   "source": [
    "import pandas as pd\n",
    "import numpy as np\n",
    "import matplotlib.pyplot as plt\n",
    "import seaborn as sns\n",
    "import pickle\n",
    "from tqdm.notebook import tqdm\n",
    "\n",
    "\n",
    "from sklearn.linear_model import LogisticRegression\n",
    "from sklearn.tree import DecisionTreeClassifier\n",
    "from sklearn.neighbors import KNeighborsClassifier\n",
    "from sklearn.ensemble import RandomForestClassifier\n",
    "from xgboost import XGBClassifier\n",
    "from sklearn.svm import SVC\n",
    "\n",
    "from sklearn.model_selection import train_test_split, cross_val_score\n",
    "from sklearn.model_selection import GridSearchCV\n",
    "from sklearn.feature_selection import SelectKBest\n",
    "\n",
    "from sklearn.preprocessing import StandardScaler\n",
    "from sklearn.decomposition import PCA\n",
    "\n",
    "from tensorly.decomposition import tucker\n",
    "from tensorly.decomposition import parafac\n",
    "import networkx as nx\n",
    "\n",
    "\n",
    "import warnings\n",
    "warnings.filterwarnings(\"ignore\")"
   ]
  },
  {
   "cell_type": "markdown",
   "metadata": {},
   "source": [
    "# Подгрузка данных"
   ]
  },
  {
   "cell_type": "code",
   "execution_count": 3,
   "metadata": {},
   "outputs": [],
   "source": [
    "worker = 'Petr'\n",
    "\n",
    "if worker == 'Petr':\n",
    "    path = 'data/func_conn.csv'\n",
    "else:\n",
    "    path = '/content/drive/My Drive/FinalProject_NeuroML/func_conn.csv'"
   ]
  },
  {
   "cell_type": "code",
   "execution_count": 48,
   "metadata": {},
   "outputs": [
    {
     "data": {
      "text/plain": [
       "array(['No_Known_Disorder', 'Schizophrenia_Strict', 'Schizoaffective'],\n",
       "      dtype=object)"
      ]
     },
     "execution_count": 48,
     "metadata": {},
     "output_type": "execute_result"
    }
   ],
   "source": [
    "data = pd.read_csv(path)\n",
    "data['target'].unique()"
   ]
  },
  {
   "cell_type": "code",
   "execution_count": 4,
   "metadata": {
    "colab": {
     "base_uri": "https://localhost:8080/",
     "height": 540
    },
    "id": "B21rVdMMT1Kq",
    "outputId": "4cf73539-62c6-4fd1-84d0-a356861e0f61"
   },
   "outputs": [
    {
     "name": "stdout",
     "output_type": "stream",
     "text": [
      "(142, 745)\n"
     ]
    },
    {
     "data": {
      "text/html": [
       "<div>\n",
       "<style scoped>\n",
       "    .dataframe tbody tr th:only-of-type {\n",
       "        vertical-align: middle;\n",
       "    }\n",
       "\n",
       "    .dataframe tbody tr th {\n",
       "        vertical-align: top;\n",
       "    }\n",
       "\n",
       "    .dataframe thead th {\n",
       "        text-align: right;\n",
       "    }\n",
       "</style>\n",
       "<table border=\"1\" class=\"dataframe\">\n",
       "  <thead>\n",
       "    <tr style=\"text-align: right;\">\n",
       "      <th></th>\n",
       "      <th>file</th>\n",
       "      <th>ID</th>\n",
       "      <th>target</th>\n",
       "      <th>Sex</th>\n",
       "      <th>L Aud-R Aud</th>\n",
       "      <th>L Aud-Striate</th>\n",
       "      <th>R Aud-Striate</th>\n",
       "      <th>L Aud-L DMN</th>\n",
       "      <th>R Aud-L DMN</th>\n",
       "      <th>Striate-L DMN</th>\n",
       "      <th>...</th>\n",
       "      <th>Broca-R Ant IPS</th>\n",
       "      <th>Sup Front S-R Ant IPS</th>\n",
       "      <th>R TPJ-R Ant IPS</th>\n",
       "      <th>R Pars Op-R Ant IPS</th>\n",
       "      <th>Cereb-R Ant IPS</th>\n",
       "      <th>Dors PCC-R Ant IPS</th>\n",
       "      <th>L Ins-R Ant IPS</th>\n",
       "      <th>Cing-R Ant IPS</th>\n",
       "      <th>R Ins-R Ant IPS</th>\n",
       "      <th>L Ant IPS-R Ant IPS</th>\n",
       "    </tr>\n",
       "  </thead>\n",
       "  <tbody>\n",
       "    <tr>\n",
       "      <th>0</th>\n",
       "      <td>morphometry_A00007409</td>\n",
       "      <td>A00007409</td>\n",
       "      <td>0</td>\n",
       "      <td>0</td>\n",
       "      <td>0.852745</td>\n",
       "      <td>0.472408</td>\n",
       "      <td>0.438451</td>\n",
       "      <td>-0.151586</td>\n",
       "      <td>-0.175817</td>\n",
       "      <td>-0.088072</td>\n",
       "      <td>...</td>\n",
       "      <td>0.157520</td>\n",
       "      <td>0.111554</td>\n",
       "      <td>0.024794</td>\n",
       "      <td>0.074087</td>\n",
       "      <td>0.083605</td>\n",
       "      <td>0.332223</td>\n",
       "      <td>0.299678</td>\n",
       "      <td>0.378165</td>\n",
       "      <td>0.238186</td>\n",
       "      <td>0.633913</td>\n",
       "    </tr>\n",
       "    <tr>\n",
       "      <th>1</th>\n",
       "      <td>morphometry_A00031597</td>\n",
       "      <td>A00031597</td>\n",
       "      <td>1</td>\n",
       "      <td>0</td>\n",
       "      <td>0.748457</td>\n",
       "      <td>0.532091</td>\n",
       "      <td>0.617542</td>\n",
       "      <td>0.090878</td>\n",
       "      <td>0.043540</td>\n",
       "      <td>-0.036074</td>\n",
       "      <td>...</td>\n",
       "      <td>0.374588</td>\n",
       "      <td>0.340460</td>\n",
       "      <td>0.342494</td>\n",
       "      <td>0.249617</td>\n",
       "      <td>0.382124</td>\n",
       "      <td>0.604362</td>\n",
       "      <td>0.168657</td>\n",
       "      <td>0.284299</td>\n",
       "      <td>0.183674</td>\n",
       "      <td>0.626664</td>\n",
       "    </tr>\n",
       "    <tr>\n",
       "      <th>2</th>\n",
       "      <td>morphometry_A00022500</td>\n",
       "      <td>A00022500</td>\n",
       "      <td>1</td>\n",
       "      <td>1</td>\n",
       "      <td>0.592125</td>\n",
       "      <td>0.036093</td>\n",
       "      <td>0.133537</td>\n",
       "      <td>0.082847</td>\n",
       "      <td>0.179051</td>\n",
       "      <td>0.314248</td>\n",
       "      <td>...</td>\n",
       "      <td>-0.253343</td>\n",
       "      <td>-0.049419</td>\n",
       "      <td>0.103218</td>\n",
       "      <td>-0.098405</td>\n",
       "      <td>-0.106043</td>\n",
       "      <td>0.359292</td>\n",
       "      <td>-0.283070</td>\n",
       "      <td>0.194902</td>\n",
       "      <td>-0.112684</td>\n",
       "      <td>0.582636</td>\n",
       "    </tr>\n",
       "    <tr>\n",
       "      <th>3</th>\n",
       "      <td>morphometry_A00024953</td>\n",
       "      <td>A00024953</td>\n",
       "      <td>1</td>\n",
       "      <td>0</td>\n",
       "      <td>0.780837</td>\n",
       "      <td>0.354871</td>\n",
       "      <td>0.420179</td>\n",
       "      <td>0.144601</td>\n",
       "      <td>0.208352</td>\n",
       "      <td>0.168114</td>\n",
       "      <td>...</td>\n",
       "      <td>0.190040</td>\n",
       "      <td>-0.012739</td>\n",
       "      <td>-0.038590</td>\n",
       "      <td>0.150418</td>\n",
       "      <td>0.043712</td>\n",
       "      <td>0.165942</td>\n",
       "      <td>-0.003737</td>\n",
       "      <td>0.316817</td>\n",
       "      <td>-0.003129</td>\n",
       "      <td>0.633039</td>\n",
       "    </tr>\n",
       "    <tr>\n",
       "      <th>4</th>\n",
       "      <td>morphometry_A00001251</td>\n",
       "      <td>A00001251</td>\n",
       "      <td>1</td>\n",
       "      <td>0</td>\n",
       "      <td>0.447026</td>\n",
       "      <td>-0.024045</td>\n",
       "      <td>0.432331</td>\n",
       "      <td>-0.247530</td>\n",
       "      <td>0.113947</td>\n",
       "      <td>0.412405</td>\n",
       "      <td>...</td>\n",
       "      <td>-0.240672</td>\n",
       "      <td>0.271395</td>\n",
       "      <td>-0.054881</td>\n",
       "      <td>0.044233</td>\n",
       "      <td>0.063376</td>\n",
       "      <td>0.387130</td>\n",
       "      <td>0.145573</td>\n",
       "      <td>0.396055</td>\n",
       "      <td>0.112810</td>\n",
       "      <td>0.532662</td>\n",
       "    </tr>\n",
       "    <tr>\n",
       "      <th>...</th>\n",
       "      <td>...</td>\n",
       "      <td>...</td>\n",
       "      <td>...</td>\n",
       "      <td>...</td>\n",
       "      <td>...</td>\n",
       "      <td>...</td>\n",
       "      <td>...</td>\n",
       "      <td>...</td>\n",
       "      <td>...</td>\n",
       "      <td>...</td>\n",
       "      <td>...</td>\n",
       "      <td>...</td>\n",
       "      <td>...</td>\n",
       "      <td>...</td>\n",
       "      <td>...</td>\n",
       "      <td>...</td>\n",
       "      <td>...</td>\n",
       "      <td>...</td>\n",
       "      <td>...</td>\n",
       "      <td>...</td>\n",
       "      <td>...</td>\n",
       "    </tr>\n",
       "    <tr>\n",
       "      <th>160</th>\n",
       "      <td>morphometry_A00022727</td>\n",
       "      <td>A00022727</td>\n",
       "      <td>0</td>\n",
       "      <td>0</td>\n",
       "      <td>0.774414</td>\n",
       "      <td>0.405673</td>\n",
       "      <td>0.400023</td>\n",
       "      <td>0.339639</td>\n",
       "      <td>0.308672</td>\n",
       "      <td>0.281751</td>\n",
       "      <td>...</td>\n",
       "      <td>0.196949</td>\n",
       "      <td>0.151736</td>\n",
       "      <td>0.132126</td>\n",
       "      <td>0.254321</td>\n",
       "      <td>0.455512</td>\n",
       "      <td>0.575565</td>\n",
       "      <td>0.392777</td>\n",
       "      <td>0.510153</td>\n",
       "      <td>0.456932</td>\n",
       "      <td>0.784726</td>\n",
       "    </tr>\n",
       "    <tr>\n",
       "      <th>161</th>\n",
       "      <td>morphometry_A00022653</td>\n",
       "      <td>A00022653</td>\n",
       "      <td>0</td>\n",
       "      <td>1</td>\n",
       "      <td>0.759169</td>\n",
       "      <td>0.461108</td>\n",
       "      <td>0.519548</td>\n",
       "      <td>0.218364</td>\n",
       "      <td>0.214535</td>\n",
       "      <td>0.024717</td>\n",
       "      <td>...</td>\n",
       "      <td>-0.145957</td>\n",
       "      <td>0.005254</td>\n",
       "      <td>-0.061887</td>\n",
       "      <td>-0.158361</td>\n",
       "      <td>0.007258</td>\n",
       "      <td>0.039770</td>\n",
       "      <td>0.106408</td>\n",
       "      <td>0.286061</td>\n",
       "      <td>0.021734</td>\n",
       "      <td>0.650147</td>\n",
       "    </tr>\n",
       "    <tr>\n",
       "      <th>162</th>\n",
       "      <td>morphometry_A00010150</td>\n",
       "      <td>A00010150</td>\n",
       "      <td>0</td>\n",
       "      <td>0</td>\n",
       "      <td>0.868927</td>\n",
       "      <td>0.648932</td>\n",
       "      <td>0.720062</td>\n",
       "      <td>0.489008</td>\n",
       "      <td>0.476444</td>\n",
       "      <td>0.515478</td>\n",
       "      <td>...</td>\n",
       "      <td>0.225095</td>\n",
       "      <td>0.240309</td>\n",
       "      <td>0.483310</td>\n",
       "      <td>0.405209</td>\n",
       "      <td>0.496494</td>\n",
       "      <td>0.602908</td>\n",
       "      <td>0.369484</td>\n",
       "      <td>0.528518</td>\n",
       "      <td>0.436241</td>\n",
       "      <td>0.805875</td>\n",
       "    </tr>\n",
       "    <tr>\n",
       "      <th>163</th>\n",
       "      <td>morphometry_A00016723</td>\n",
       "      <td>A00016723</td>\n",
       "      <td>1</td>\n",
       "      <td>1</td>\n",
       "      <td>0.832522</td>\n",
       "      <td>0.437803</td>\n",
       "      <td>0.398262</td>\n",
       "      <td>0.128198</td>\n",
       "      <td>0.132030</td>\n",
       "      <td>0.262735</td>\n",
       "      <td>...</td>\n",
       "      <td>-0.197654</td>\n",
       "      <td>-0.192431</td>\n",
       "      <td>-0.186040</td>\n",
       "      <td>-0.047725</td>\n",
       "      <td>0.196066</td>\n",
       "      <td>0.269085</td>\n",
       "      <td>0.282149</td>\n",
       "      <td>0.444570</td>\n",
       "      <td>0.166688</td>\n",
       "      <td>0.647736</td>\n",
       "    </tr>\n",
       "    <tr>\n",
       "      <th>164</th>\n",
       "      <td>morphometry_A00014120</td>\n",
       "      <td>A00014120</td>\n",
       "      <td>0</td>\n",
       "      <td>0</td>\n",
       "      <td>0.784681</td>\n",
       "      <td>0.415888</td>\n",
       "      <td>0.270432</td>\n",
       "      <td>0.186615</td>\n",
       "      <td>0.064442</td>\n",
       "      <td>0.349138</td>\n",
       "      <td>...</td>\n",
       "      <td>0.153022</td>\n",
       "      <td>-0.043267</td>\n",
       "      <td>0.023004</td>\n",
       "      <td>0.305232</td>\n",
       "      <td>0.025888</td>\n",
       "      <td>0.096260</td>\n",
       "      <td>0.232993</td>\n",
       "      <td>0.219138</td>\n",
       "      <td>0.241564</td>\n",
       "      <td>0.532937</td>\n",
       "    </tr>\n",
       "  </tbody>\n",
       "</table>\n",
       "<p>142 rows × 745 columns</p>\n",
       "</div>"
      ],
      "text/plain": [
       "                      file         ID  target  Sex  L Aud-R Aud  \\\n",
       "0    morphometry_A00007409  A00007409       0    0     0.852745   \n",
       "1    morphometry_A00031597  A00031597       1    0     0.748457   \n",
       "2    morphometry_A00022500  A00022500       1    1     0.592125   \n",
       "3    morphometry_A00024953  A00024953       1    0     0.780837   \n",
       "4    morphometry_A00001251  A00001251       1    0     0.447026   \n",
       "..                     ...        ...     ...  ...          ...   \n",
       "160  morphometry_A00022727  A00022727       0    0     0.774414   \n",
       "161  morphometry_A00022653  A00022653       0    1     0.759169   \n",
       "162  morphometry_A00010150  A00010150       0    0     0.868927   \n",
       "163  morphometry_A00016723  A00016723       1    1     0.832522   \n",
       "164  morphometry_A00014120  A00014120       0    0     0.784681   \n",
       "\n",
       "     L Aud-Striate  R Aud-Striate  L Aud-L DMN  R Aud-L DMN  Striate-L DMN  \\\n",
       "0         0.472408       0.438451    -0.151586    -0.175817      -0.088072   \n",
       "1         0.532091       0.617542     0.090878     0.043540      -0.036074   \n",
       "2         0.036093       0.133537     0.082847     0.179051       0.314248   \n",
       "3         0.354871       0.420179     0.144601     0.208352       0.168114   \n",
       "4        -0.024045       0.432331    -0.247530     0.113947       0.412405   \n",
       "..             ...            ...          ...          ...            ...   \n",
       "160       0.405673       0.400023     0.339639     0.308672       0.281751   \n",
       "161       0.461108       0.519548     0.218364     0.214535       0.024717   \n",
       "162       0.648932       0.720062     0.489008     0.476444       0.515478   \n",
       "163       0.437803       0.398262     0.128198     0.132030       0.262735   \n",
       "164       0.415888       0.270432     0.186615     0.064442       0.349138   \n",
       "\n",
       "     ...  Broca-R Ant IPS  Sup Front S-R Ant IPS  R TPJ-R Ant IPS  \\\n",
       "0    ...         0.157520               0.111554         0.024794   \n",
       "1    ...         0.374588               0.340460         0.342494   \n",
       "2    ...        -0.253343              -0.049419         0.103218   \n",
       "3    ...         0.190040              -0.012739        -0.038590   \n",
       "4    ...        -0.240672               0.271395        -0.054881   \n",
       "..   ...              ...                    ...              ...   \n",
       "160  ...         0.196949               0.151736         0.132126   \n",
       "161  ...        -0.145957               0.005254        -0.061887   \n",
       "162  ...         0.225095               0.240309         0.483310   \n",
       "163  ...        -0.197654              -0.192431        -0.186040   \n",
       "164  ...         0.153022              -0.043267         0.023004   \n",
       "\n",
       "     R Pars Op-R Ant IPS  Cereb-R Ant IPS  Dors PCC-R Ant IPS  \\\n",
       "0               0.074087         0.083605            0.332223   \n",
       "1               0.249617         0.382124            0.604362   \n",
       "2              -0.098405        -0.106043            0.359292   \n",
       "3               0.150418         0.043712            0.165942   \n",
       "4               0.044233         0.063376            0.387130   \n",
       "..                   ...              ...                 ...   \n",
       "160             0.254321         0.455512            0.575565   \n",
       "161            -0.158361         0.007258            0.039770   \n",
       "162             0.405209         0.496494            0.602908   \n",
       "163            -0.047725         0.196066            0.269085   \n",
       "164             0.305232         0.025888            0.096260   \n",
       "\n",
       "     L Ins-R Ant IPS  Cing-R Ant IPS  R Ins-R Ant IPS  L Ant IPS-R Ant IPS  \n",
       "0           0.299678        0.378165         0.238186             0.633913  \n",
       "1           0.168657        0.284299         0.183674             0.626664  \n",
       "2          -0.283070        0.194902        -0.112684             0.582636  \n",
       "3          -0.003737        0.316817        -0.003129             0.633039  \n",
       "4           0.145573        0.396055         0.112810             0.532662  \n",
       "..               ...             ...              ...                  ...  \n",
       "160         0.392777        0.510153         0.456932             0.784726  \n",
       "161         0.106408        0.286061         0.021734             0.650147  \n",
       "162         0.369484        0.528518         0.436241             0.805875  \n",
       "163         0.282149        0.444570         0.166688             0.647736  \n",
       "164         0.232993        0.219138         0.241564             0.532937  \n",
       "\n",
       "[142 rows x 745 columns]"
      ]
     },
     "execution_count": 4,
     "metadata": {},
     "output_type": "execute_result"
    }
   ],
   "source": [
    "possible_target = ['No_Known_Disorder', 'Schizophrenia_Strict']\n",
    "data = data.query('target in @possible_target')\n",
    "data = data.drop_duplicates()\n",
    "\n",
    "data['target'] = data['target'].apply(lambda x: 0 if x == 'No_Known_Disorder' else 1)\n",
    "data['Sex'] = data['Sex'].apply(lambda x: 0 if x == 'male' else 1)\n",
    "print(data.shape)\n",
    "data"
   ]
  },
  {
   "cell_type": "code",
   "execution_count": 5,
   "metadata": {},
   "outputs": [
    {
     "data": {
      "text/plain": [
       "<AxesSubplot:xlabel='Sex', ylabel='target'>"
      ]
     },
     "execution_count": 5,
     "metadata": {},
     "output_type": "execute_result"
    },
    {
     "data": {
      "image/png": "[encoded data removed]",
      "text/plain": [
       "<Figure size 432x288 with 1 Axes>"
      ]
     },
     "metadata": {
      "needs_background": "light"
     },
     "output_type": "display_data"
    }
   ],
   "source": [
    "sns.barplot(data=data, y='target', x='Sex')"
   ]
  },
  {
   "cell_type": "code",
   "execution_count": 6,
   "metadata": {
    "colab": {
     "base_uri": "https://localhost:8080/",
     "height": 540
    },
    "id": "k3wgNcg_ZHc2",
    "outputId": "4ffc3bfd-3750-4230-e588-5562b2d55cd9"
   },
   "outputs": [
    {
     "data": {
      "text/html": [
       "<div>\n",
       "<style scoped>\n",
       "    .dataframe tbody tr th:only-of-type {\n",
       "        vertical-align: middle;\n",
       "    }\n",
       "\n",
       "    .dataframe tbody tr th {\n",
       "        vertical-align: top;\n",
       "    }\n",
       "\n",
       "    .dataframe thead th {\n",
       "        text-align: right;\n",
       "    }\n",
       "</style>\n",
       "<table border=\"1\" class=\"dataframe\">\n",
       "  <thead>\n",
       "    <tr style=\"text-align: right;\">\n",
       "      <th></th>\n",
       "      <th>file</th>\n",
       "      <th>ID</th>\n",
       "      <th>target</th>\n",
       "      <th>Sex</th>\n",
       "      <th>L Aud-R Aud</th>\n",
       "      <th>L Aud-Striate</th>\n",
       "      <th>R Aud-Striate</th>\n",
       "      <th>L Aud-L DMN</th>\n",
       "      <th>R Aud-L DMN</th>\n",
       "      <th>Striate-L DMN</th>\n",
       "      <th>...</th>\n",
       "      <th>Broca-R Ant IPS</th>\n",
       "      <th>Sup Front S-R Ant IPS</th>\n",
       "      <th>R TPJ-R Ant IPS</th>\n",
       "      <th>R Pars Op-R Ant IPS</th>\n",
       "      <th>Cereb-R Ant IPS</th>\n",
       "      <th>Dors PCC-R Ant IPS</th>\n",
       "      <th>L Ins-R Ant IPS</th>\n",
       "      <th>Cing-R Ant IPS</th>\n",
       "      <th>R Ins-R Ant IPS</th>\n",
       "      <th>L Ant IPS-R Ant IPS</th>\n",
       "    </tr>\n",
       "  </thead>\n",
       "  <tbody>\n",
       "    <tr>\n",
       "      <th>0</th>\n",
       "      <td>morphometry_A00007409</td>\n",
       "      <td>A00007409</td>\n",
       "      <td>0</td>\n",
       "      <td>0</td>\n",
       "      <td>0.852745</td>\n",
       "      <td>0.472408</td>\n",
       "      <td>0.438451</td>\n",
       "      <td>-0.151586</td>\n",
       "      <td>-0.175817</td>\n",
       "      <td>-0.088072</td>\n",
       "      <td>...</td>\n",
       "      <td>0.157520</td>\n",
       "      <td>0.111554</td>\n",
       "      <td>0.024794</td>\n",
       "      <td>0.074087</td>\n",
       "      <td>0.083605</td>\n",
       "      <td>0.332223</td>\n",
       "      <td>0.299678</td>\n",
       "      <td>0.378165</td>\n",
       "      <td>0.238186</td>\n",
       "      <td>0.633913</td>\n",
       "    </tr>\n",
       "    <tr>\n",
       "      <th>1</th>\n",
       "      <td>morphometry_A00031597</td>\n",
       "      <td>A00031597</td>\n",
       "      <td>1</td>\n",
       "      <td>0</td>\n",
       "      <td>0.748457</td>\n",
       "      <td>0.532091</td>\n",
       "      <td>0.617542</td>\n",
       "      <td>0.090878</td>\n",
       "      <td>0.043540</td>\n",
       "      <td>-0.036074</td>\n",
       "      <td>...</td>\n",
       "      <td>0.374588</td>\n",
       "      <td>0.340460</td>\n",
       "      <td>0.342494</td>\n",
       "      <td>0.249617</td>\n",
       "      <td>0.382124</td>\n",
       "      <td>0.604362</td>\n",
       "      <td>0.168657</td>\n",
       "      <td>0.284299</td>\n",
       "      <td>0.183674</td>\n",
       "      <td>0.626664</td>\n",
       "    </tr>\n",
       "    <tr>\n",
       "      <th>2</th>\n",
       "      <td>morphometry_A00022500</td>\n",
       "      <td>A00022500</td>\n",
       "      <td>1</td>\n",
       "      <td>1</td>\n",
       "      <td>0.592125</td>\n",
       "      <td>0.036093</td>\n",
       "      <td>0.133537</td>\n",
       "      <td>0.082847</td>\n",
       "      <td>0.179051</td>\n",
       "      <td>0.314248</td>\n",
       "      <td>...</td>\n",
       "      <td>-0.253343</td>\n",
       "      <td>-0.049419</td>\n",
       "      <td>0.103218</td>\n",
       "      <td>-0.098405</td>\n",
       "      <td>-0.106043</td>\n",
       "      <td>0.359292</td>\n",
       "      <td>-0.283070</td>\n",
       "      <td>0.194902</td>\n",
       "      <td>-0.112684</td>\n",
       "      <td>0.582636</td>\n",
       "    </tr>\n",
       "    <tr>\n",
       "      <th>3</th>\n",
       "      <td>morphometry_A00024953</td>\n",
       "      <td>A00024953</td>\n",
       "      <td>1</td>\n",
       "      <td>0</td>\n",
       "      <td>0.780837</td>\n",
       "      <td>0.354871</td>\n",
       "      <td>0.420179</td>\n",
       "      <td>0.144601</td>\n",
       "      <td>0.208352</td>\n",
       "      <td>0.168114</td>\n",
       "      <td>...</td>\n",
       "      <td>0.190040</td>\n",
       "      <td>-0.012739</td>\n",
       "      <td>-0.038590</td>\n",
       "      <td>0.150418</td>\n",
       "      <td>0.043712</td>\n",
       "      <td>0.165942</td>\n",
       "      <td>-0.003737</td>\n",
       "      <td>0.316817</td>\n",
       "      <td>-0.003129</td>\n",
       "      <td>0.633039</td>\n",
       "    </tr>\n",
       "    <tr>\n",
       "      <th>4</th>\n",
       "      <td>morphometry_A00001251</td>\n",
       "      <td>A00001251</td>\n",
       "      <td>1</td>\n",
       "      <td>0</td>\n",
       "      <td>0.447026</td>\n",
       "      <td>-0.024045</td>\n",
       "      <td>0.432331</td>\n",
       "      <td>-0.247530</td>\n",
       "      <td>0.113947</td>\n",
       "      <td>0.412405</td>\n",
       "      <td>...</td>\n",
       "      <td>-0.240672</td>\n",
       "      <td>0.271395</td>\n",
       "      <td>-0.054881</td>\n",
       "      <td>0.044233</td>\n",
       "      <td>0.063376</td>\n",
       "      <td>0.387130</td>\n",
       "      <td>0.145573</td>\n",
       "      <td>0.396055</td>\n",
       "      <td>0.112810</td>\n",
       "      <td>0.532662</td>\n",
       "    </tr>\n",
       "    <tr>\n",
       "      <th>...</th>\n",
       "      <td>...</td>\n",
       "      <td>...</td>\n",
       "      <td>...</td>\n",
       "      <td>...</td>\n",
       "      <td>...</td>\n",
       "      <td>...</td>\n",
       "      <td>...</td>\n",
       "      <td>...</td>\n",
       "      <td>...</td>\n",
       "      <td>...</td>\n",
       "      <td>...</td>\n",
       "      <td>...</td>\n",
       "      <td>...</td>\n",
       "      <td>...</td>\n",
       "      <td>...</td>\n",
       "      <td>...</td>\n",
       "      <td>...</td>\n",
       "      <td>...</td>\n",
       "      <td>...</td>\n",
       "      <td>...</td>\n",
       "      <td>...</td>\n",
       "    </tr>\n",
       "    <tr>\n",
       "      <th>137</th>\n",
       "      <td>morphometry_A00022727</td>\n",
       "      <td>A00022727</td>\n",
       "      <td>0</td>\n",
       "      <td>0</td>\n",
       "      <td>0.774414</td>\n",
       "      <td>0.405673</td>\n",
       "      <td>0.400023</td>\n",
       "      <td>0.339639</td>\n",
       "      <td>0.308672</td>\n",
       "      <td>0.281751</td>\n",
       "      <td>...</td>\n",
       "      <td>0.196949</td>\n",
       "      <td>0.151736</td>\n",
       "      <td>0.132126</td>\n",
       "      <td>0.254321</td>\n",
       "      <td>0.455512</td>\n",
       "      <td>0.575565</td>\n",
       "      <td>0.392777</td>\n",
       "      <td>0.510153</td>\n",
       "      <td>0.456932</td>\n",
       "      <td>0.784726</td>\n",
       "    </tr>\n",
       "    <tr>\n",
       "      <th>138</th>\n",
       "      <td>morphometry_A00022653</td>\n",
       "      <td>A00022653</td>\n",
       "      <td>0</td>\n",
       "      <td>1</td>\n",
       "      <td>0.759169</td>\n",
       "      <td>0.461108</td>\n",
       "      <td>0.519548</td>\n",
       "      <td>0.218364</td>\n",
       "      <td>0.214535</td>\n",
       "      <td>0.024717</td>\n",
       "      <td>...</td>\n",
       "      <td>-0.145957</td>\n",
       "      <td>0.005254</td>\n",
       "      <td>-0.061887</td>\n",
       "      <td>-0.158361</td>\n",
       "      <td>0.007258</td>\n",
       "      <td>0.039770</td>\n",
       "      <td>0.106408</td>\n",
       "      <td>0.286061</td>\n",
       "      <td>0.021734</td>\n",
       "      <td>0.650147</td>\n",
       "    </tr>\n",
       "    <tr>\n",
       "      <th>139</th>\n",
       "      <td>morphometry_A00010150</td>\n",
       "      <td>A00010150</td>\n",
       "      <td>0</td>\n",
       "      <td>0</td>\n",
       "      <td>0.868927</td>\n",
       "      <td>0.648932</td>\n",
       "      <td>0.720062</td>\n",
       "      <td>0.489008</td>\n",
       "      <td>0.476444</td>\n",
       "      <td>0.515478</td>\n",
       "      <td>...</td>\n",
       "      <td>0.225095</td>\n",
       "      <td>0.240309</td>\n",
       "      <td>0.483310</td>\n",
       "      <td>0.405209</td>\n",
       "      <td>0.496494</td>\n",
       "      <td>0.602908</td>\n",
       "      <td>0.369484</td>\n",
       "      <td>0.528518</td>\n",
       "      <td>0.436241</td>\n",
       "      <td>0.805875</td>\n",
       "    </tr>\n",
       "    <tr>\n",
       "      <th>140</th>\n",
       "      <td>morphometry_A00016723</td>\n",
       "      <td>A00016723</td>\n",
       "      <td>1</td>\n",
       "      <td>1</td>\n",
       "      <td>0.832522</td>\n",
       "      <td>0.437803</td>\n",
       "      <td>0.398262</td>\n",
       "      <td>0.128198</td>\n",
       "      <td>0.132030</td>\n",
       "      <td>0.262735</td>\n",
       "      <td>...</td>\n",
       "      <td>-0.197654</td>\n",
       "      <td>-0.192431</td>\n",
       "      <td>-0.186040</td>\n",
       "      <td>-0.047725</td>\n",
       "      <td>0.196066</td>\n",
       "      <td>0.269085</td>\n",
       "      <td>0.282149</td>\n",
       "      <td>0.444570</td>\n",
       "      <td>0.166688</td>\n",
       "      <td>0.647736</td>\n",
       "    </tr>\n",
       "    <tr>\n",
       "      <th>141</th>\n",
       "      <td>morphometry_A00014120</td>\n",
       "      <td>A00014120</td>\n",
       "      <td>0</td>\n",
       "      <td>0</td>\n",
       "      <td>0.784681</td>\n",
       "      <td>0.415888</td>\n",
       "      <td>0.270432</td>\n",
       "      <td>0.186615</td>\n",
       "      <td>0.064442</td>\n",
       "      <td>0.349138</td>\n",
       "      <td>...</td>\n",
       "      <td>0.153022</td>\n",
       "      <td>-0.043267</td>\n",
       "      <td>0.023004</td>\n",
       "      <td>0.305232</td>\n",
       "      <td>0.025888</td>\n",
       "      <td>0.096260</td>\n",
       "      <td>0.232993</td>\n",
       "      <td>0.219138</td>\n",
       "      <td>0.241564</td>\n",
       "      <td>0.532937</td>\n",
       "    </tr>\n",
       "  </tbody>\n",
       "</table>\n",
       "<p>142 rows × 745 columns</p>\n",
       "</div>"
      ],
      "text/plain": [
       "                      file         ID  target  Sex  L Aud-R Aud  \\\n",
       "0    morphometry_A00007409  A00007409       0    0     0.852745   \n",
       "1    morphometry_A00031597  A00031597       1    0     0.748457   \n",
       "2    morphometry_A00022500  A00022500       1    1     0.592125   \n",
       "3    morphometry_A00024953  A00024953       1    0     0.780837   \n",
       "4    morphometry_A00001251  A00001251       1    0     0.447026   \n",
       "..                     ...        ...     ...  ...          ...   \n",
       "137  morphometry_A00022727  A00022727       0    0     0.774414   \n",
       "138  morphometry_A00022653  A00022653       0    1     0.759169   \n",
       "139  morphometry_A00010150  A00010150       0    0     0.868927   \n",
       "140  morphometry_A00016723  A00016723       1    1     0.832522   \n",
       "141  morphometry_A00014120  A00014120       0    0     0.784681   \n",
       "\n",
       "     L Aud-Striate  R Aud-Striate  L Aud-L DMN  R Aud-L DMN  Striate-L DMN  \\\n",
       "0         0.472408       0.438451    -0.151586    -0.175817      -0.088072   \n",
       "1         0.532091       0.617542     0.090878     0.043540      -0.036074   \n",
       "2         0.036093       0.133537     0.082847     0.179051       0.314248   \n",
       "3         0.354871       0.420179     0.144601     0.208352       0.168114   \n",
       "4        -0.024045       0.432331    -0.247530     0.113947       0.412405   \n",
       "..             ...            ...          ...          ...            ...   \n",
       "137       0.405673       0.400023     0.339639     0.308672       0.281751   \n",
       "138       0.461108       0.519548     0.218364     0.214535       0.024717   \n",
       "139       0.648932       0.720062     0.489008     0.476444       0.515478   \n",
       "140       0.437803       0.398262     0.128198     0.132030       0.262735   \n",
       "141       0.415888       0.270432     0.186615     0.064442       0.349138   \n",
       "\n",
       "     ...  Broca-R Ant IPS  Sup Front S-R Ant IPS  R TPJ-R Ant IPS  \\\n",
       "0    ...         0.157520               0.111554         0.024794   \n",
       "1    ...         0.374588               0.340460         0.342494   \n",
       "2    ...        -0.253343              -0.049419         0.103218   \n",
       "3    ...         0.190040              -0.012739        -0.038590   \n",
       "4    ...        -0.240672               0.271395        -0.054881   \n",
       "..   ...              ...                    ...              ...   \n",
       "137  ...         0.196949               0.151736         0.132126   \n",
       "138  ...        -0.145957               0.005254        -0.061887   \n",
       "139  ...         0.225095               0.240309         0.483310   \n",
       "140  ...        -0.197654              -0.192431        -0.186040   \n",
       "141  ...         0.153022              -0.043267         0.023004   \n",
       "\n",
       "     R Pars Op-R Ant IPS  Cereb-R Ant IPS  Dors PCC-R Ant IPS  \\\n",
       "0               0.074087         0.083605            0.332223   \n",
       "1               0.249617         0.382124            0.604362   \n",
       "2              -0.098405        -0.106043            0.359292   \n",
       "3               0.150418         0.043712            0.165942   \n",
       "4               0.044233         0.063376            0.387130   \n",
       "..                   ...              ...                 ...   \n",
       "137             0.254321         0.455512            0.575565   \n",
       "138            -0.158361         0.007258            0.039770   \n",
       "139             0.405209         0.496494            0.602908   \n",
       "140            -0.047725         0.196066            0.269085   \n",
       "141             0.305232         0.025888            0.096260   \n",
       "\n",
       "     L Ins-R Ant IPS  Cing-R Ant IPS  R Ins-R Ant IPS  L Ant IPS-R Ant IPS  \n",
       "0           0.299678        0.378165         0.238186             0.633913  \n",
       "1           0.168657        0.284299         0.183674             0.626664  \n",
       "2          -0.283070        0.194902        -0.112684             0.582636  \n",
       "3          -0.003737        0.316817        -0.003129             0.633039  \n",
       "4           0.145573        0.396055         0.112810             0.532662  \n",
       "..               ...             ...              ...                  ...  \n",
       "137         0.392777        0.510153         0.456932             0.784726  \n",
       "138         0.106408        0.286061         0.021734             0.650147  \n",
       "139         0.369484        0.528518         0.436241             0.805875  \n",
       "140         0.282149        0.444570         0.166688             0.647736  \n",
       "141         0.232993        0.219138         0.241564             0.532937  \n",
       "\n",
       "[142 rows x 745 columns]"
      ]
     },
     "execution_count": 6,
     "metadata": {},
     "output_type": "execute_result"
    }
   ],
   "source": [
    "data.reset_index(inplace = True)\n",
    "data = data.drop(labels = ['index'], axis = 1)\n",
    "data"
   ]
  },
  {
   "cell_type": "markdown",
   "metadata": {},
   "source": [
    "# Эксперименты"
   ]
  },
  {
   "cell_type": "code",
   "execution_count": 7,
   "metadata": {
    "colab": {
     "base_uri": "https://localhost:8080/"
    },
    "id": "hFQb__ZpamVr",
    "outputId": "38b387e1-2d7b-48d9-bf05-4293ccb96f55"
   },
   "outputs": [],
   "source": [
    "X = data.drop(['file', 'ID', 'target'], axis=1)\n",
    "y = data['target']"
   ]
  },
  {
   "cell_type": "code",
   "execution_count": 8,
   "metadata": {},
   "outputs": [],
   "source": [
    "rs = 42\n",
    "\n",
    "models_dict = {\n",
    "    'lr':LogisticRegression(random_state=rs),\n",
    "    'rf':RandomForestClassifier(random_state=rs),\n",
    "    'xgb':XGBClassifier(random_state=rs, verbosity=0),\n",
    "    'knn':KNeighborsClassifier(),\n",
    "    'svm': SVC(random_state=rs)\n",
    "}\n",
    "\n",
    "params_dict = {\n",
    "    'lr': {'C': np.arange(0.1, 20, )},\n",
    "    'rf': {'n_estimators' : np.arange(10, 150, 20), 'max_depth' : np.arange(5, 60, 5)},\n",
    "    'xgb': {'min_child_weight': [1, 5, 10], 'gamma': [0.5, 1, 1.5, 2, 5], 'subsample': [0.6, 0.8, 1.0], 'colsample_bytree': [0.6, 0.8, 1.0], 'max_depth': [3, 4, 5]},\n",
    "    'knn': {'n_neighbors' : np.arange(2, 102, 4), 'metric':['manhattan', 'euclidean'], 'weights':['uniform', 'distance']},\n",
    "    'svm': {'kernel': ['rbf']} # 'C': [0.1, 1, 10, 100, 1000], 'gamma': [1, 0.1, 0.01, 0.001, 0.0001],\n",
    "}\n",
    "\n",
    "def search_best_clfs(model_dict, param_dict, X, y):\n",
    "    \n",
    "    best_params = {}\n",
    "    clfs = {}\n",
    "    \n",
    "    for model_name in tqdm(model_dict):\n",
    "        \n",
    "        model = model_dict[model_name]\n",
    "        params = param_dict[model_name]\n",
    "        \n",
    "        clf_grid = GridSearchCV(model, params, cv=5, scoring='accuracy', n_jobs=-1)\n",
    "        clf_grid.fit(X, y)\n",
    "        \n",
    "        best_params[model_name] = clf_grid.best_params_\n",
    "        clfs[model_name] = clf_grid.best_estimator_\n",
    "        \n",
    "    return clfs, best_params\n"
   ]
  },
  {
   "cell_type": "code",
   "execution_count": 9,
   "metadata": {},
   "outputs": [],
   "source": [
    "def experiment(exp_name, X, y, models_dict, params_dict, metrics, do_grid_search=False):\n",
    "    if do_grid_search:\n",
    "        \n",
    "        print('starting grid search')\n",
    "\n",
    "        model_best, best_params = search_best_clfs(models_dict, params_dict, X, y)\n",
    "\n",
    "        with open(f'best_params/best_model_dict_{exp_name}.pickle', 'wb') as f:\n",
    "            pickle.dump(model_best, f)\n",
    "\n",
    "        with open(f'best_params/best_params_dict_{exp_name}.pickle', 'wb') as f:\n",
    "            pickle.dump(best_params, f)\n",
    "\n",
    "        models_dict = model_best\n",
    "\n",
    "    score_df = pd.DataFrame(np.zeros([5,5]), index = models_dict.keys(), columns=metrics)\n",
    "    for model_name, model in tqdm(models_dict.items()):\n",
    "        for metric in metrics:\n",
    "            scores = cross_val_score(model, X, y, scoring=metric, cv=5)\n",
    "            mean_score = np.mean(scores)\n",
    "            score_df.loc[model_name, metric] = mean_score\n",
    "\n",
    "\n",
    "    score_df['method'] = [experiment_name] * len(score_df)\n",
    "    score_df = score_df.reset_index().rename(columns={'index':'models'})\n",
    "    \n",
    "    return score_df"
   ]
  },
  {
   "cell_type": "code",
   "execution_count": 10,
   "metadata": {},
   "outputs": [
    {
     "data": {
      "text/html": [
       "<div>\n",
       "<style scoped>\n",
       "    .dataframe tbody tr th:only-of-type {\n",
       "        vertical-align: middle;\n",
       "    }\n",
       "\n",
       "    .dataframe tbody tr th {\n",
       "        vertical-align: top;\n",
       "    }\n",
       "\n",
       "    .dataframe thead th {\n",
       "        text-align: right;\n",
       "    }\n",
       "</style>\n",
       "<table border=\"1\" class=\"dataframe\">\n",
       "  <thead>\n",
       "    <tr style=\"text-align: right;\">\n",
       "      <th></th>\n",
       "    </tr>\n",
       "  </thead>\n",
       "  <tbody>\n",
       "  </tbody>\n",
       "</table>\n",
       "</div>"
      ],
      "text/plain": [
       "Empty DataFrame\n",
       "Columns: []\n",
       "Index: []"
      ]
     },
     "execution_count": 10,
     "metadata": {},
     "output_type": "execute_result"
    }
   ],
   "source": [
    "metrics =  ['roc_auc', 'precision', 'recall', 'accuracy', 'f1']\n",
    "score_df_all = pd.DataFrame([])\n",
    "#score_df_all = pd.read_csv('score_df.csv')\n",
    "score_df_all.head()"
   ]
  },
  {
   "cell_type": "markdown",
   "metadata": {},
   "source": [
    "## classical ML"
   ]
  },
  {
   "cell_type": "code",
   "execution_count": 11,
   "metadata": {},
   "outputs": [
    {
     "name": "stdout",
     "output_type": "stream",
     "text": [
      "starting grid search\n"
     ]
    },
    {
     "data": {
      "application/vnd.jupyter.widget-view+json": {
       "model_id": "6d413f31a9b24b6a93cc74dbc2072b4e",
       "version_major": 2,
       "version_minor": 0
      },
      "text/plain": [
       "  0%|          | 0/5 [00:00<?, ?it/s]"
      ]
     },
     "metadata": {},
     "output_type": "display_data"
    },
    {
     "data": {
      "application/vnd.jupyter.widget-view+json": {
       "model_id": "17bba9f8cf304c8ea41ade54f852b66f",
       "version_major": 2,
       "version_minor": 0
      },
      "text/plain": [
       "  0%|          | 0/5 [00:00<?, ?it/s]"
      ]
     },
     "metadata": {},
     "output_type": "display_data"
    },
    {
     "data": {
      "text/html": [
       "<div>\n",
       "<style scoped>\n",
       "    .dataframe tbody tr th:only-of-type {\n",
       "        vertical-align: middle;\n",
       "    }\n",
       "\n",
       "    .dataframe tbody tr th {\n",
       "        vertical-align: top;\n",
       "    }\n",
       "\n",
       "    .dataframe thead th {\n",
       "        text-align: right;\n",
       "    }\n",
       "</style>\n",
       "<table border=\"1\" class=\"dataframe\">\n",
       "  <thead>\n",
       "    <tr style=\"text-align: right;\">\n",
       "      <th></th>\n",
       "      <th>models</th>\n",
       "      <th>roc_auc</th>\n",
       "      <th>precision</th>\n",
       "      <th>recall</th>\n",
       "      <th>accuracy</th>\n",
       "      <th>f1</th>\n",
       "      <th>method</th>\n",
       "    </tr>\n",
       "  </thead>\n",
       "  <tbody>\n",
       "    <tr>\n",
       "      <th>0</th>\n",
       "      <td>lr</td>\n",
       "      <td>0.753883</td>\n",
       "      <td>0.692805</td>\n",
       "      <td>0.604396</td>\n",
       "      <td>0.689901</td>\n",
       "      <td>0.641346</td>\n",
       "      <td>raw_data</td>\n",
       "    </tr>\n",
       "    <tr>\n",
       "      <th>1</th>\n",
       "      <td>rf</td>\n",
       "      <td>0.768736</td>\n",
       "      <td>0.712704</td>\n",
       "      <td>0.591209</td>\n",
       "      <td>0.697044</td>\n",
       "      <td>0.642081</td>\n",
       "      <td>raw_data</td>\n",
       "    </tr>\n",
       "    <tr>\n",
       "      <th>2</th>\n",
       "      <td>xgb</td>\n",
       "      <td>0.762674</td>\n",
       "      <td>0.725641</td>\n",
       "      <td>0.728571</td>\n",
       "      <td>0.747537</td>\n",
       "      <td>0.726657</td>\n",
       "      <td>raw_data</td>\n",
       "    </tr>\n",
       "    <tr>\n",
       "      <th>3</th>\n",
       "      <td>knn</td>\n",
       "      <td>0.733700</td>\n",
       "      <td>0.695734</td>\n",
       "      <td>0.632967</td>\n",
       "      <td>0.703695</td>\n",
       "      <td>0.658606</td>\n",
       "      <td>raw_data</td>\n",
       "    </tr>\n",
       "    <tr>\n",
       "      <th>4</th>\n",
       "      <td>svm</td>\n",
       "      <td>0.758947</td>\n",
       "      <td>0.682511</td>\n",
       "      <td>0.605495</td>\n",
       "      <td>0.683251</td>\n",
       "      <td>0.640369</td>\n",
       "      <td>raw_data</td>\n",
       "    </tr>\n",
       "  </tbody>\n",
       "</table>\n",
       "</div>"
      ],
      "text/plain": [
       "  models   roc_auc  precision    recall  accuracy        f1    method\n",
       "0     lr  0.753883   0.692805  0.604396  0.689901  0.641346  raw_data\n",
       "1     rf  0.768736   0.712704  0.591209  0.697044  0.642081  raw_data\n",
       "2    xgb  0.762674   0.725641  0.728571  0.747537  0.726657  raw_data\n",
       "3    knn  0.733700   0.695734  0.632967  0.703695  0.658606  raw_data\n",
       "4    svm  0.758947   0.682511  0.605495  0.683251  0.640369  raw_data"
      ]
     },
     "execution_count": 11,
     "metadata": {},
     "output_type": "execute_result"
    }
   ],
   "source": [
    "experiment_name = 'raw_data'\n",
    "do_grid_search = True\n",
    "\n",
    "score_df = experiment(experiment_name, X, y, models_dict, params_dict, metrics, do_grid_search=do_grid_search)\n",
    "score_df_all  =pd.concat([score_df_all, score_df])\n",
    "score_df"
   ]
  },
  {
   "cell_type": "code",
   "execution_count": 12,
   "metadata": {
    "id": "VE-CgkaXh5UN"
   },
   "outputs": [
    {
     "name": "stdout",
     "output_type": "stream",
     "text": [
      "starting grid search\n"
     ]
    },
    {
     "data": {
      "application/vnd.jupyter.widget-view+json": {
       "model_id": "67d1a00ba3484dac83515527387cb913",
       "version_major": 2,
       "version_minor": 0
      },
      "text/plain": [
       "  0%|          | 0/5 [00:00<?, ?it/s]"
      ]
     },
     "metadata": {},
     "output_type": "display_data"
    },
    {
     "data": {
      "application/vnd.jupyter.widget-view+json": {
       "model_id": "4039131893b04fdb83d7c389eb1b0c90",
       "version_major": 2,
       "version_minor": 0
      },
      "text/plain": [
       "  0%|          | 0/5 [00:00<?, ?it/s]"
      ]
     },
     "metadata": {},
     "output_type": "display_data"
    },
    {
     "data": {
      "text/html": [
       "<div>\n",
       "<style scoped>\n",
       "    .dataframe tbody tr th:only-of-type {\n",
       "        vertical-align: middle;\n",
       "    }\n",
       "\n",
       "    .dataframe tbody tr th {\n",
       "        vertical-align: top;\n",
       "    }\n",
       "\n",
       "    .dataframe thead th {\n",
       "        text-align: right;\n",
       "    }\n",
       "</style>\n",
       "<table border=\"1\" class=\"dataframe\">\n",
       "  <thead>\n",
       "    <tr style=\"text-align: right;\">\n",
       "      <th></th>\n",
       "      <th>models</th>\n",
       "      <th>roc_auc</th>\n",
       "      <th>precision</th>\n",
       "      <th>recall</th>\n",
       "      <th>accuracy</th>\n",
       "      <th>f1</th>\n",
       "      <th>method</th>\n",
       "    </tr>\n",
       "  </thead>\n",
       "  <tbody>\n",
       "    <tr>\n",
       "      <th>0</th>\n",
       "      <td>lr</td>\n",
       "      <td>0.784158</td>\n",
       "      <td>0.732684</td>\n",
       "      <td>0.728571</td>\n",
       "      <td>0.746305</td>\n",
       "      <td>0.727153</td>\n",
       "      <td>k best</td>\n",
       "    </tr>\n",
       "    <tr>\n",
       "      <th>1</th>\n",
       "      <td>rf</td>\n",
       "      <td>0.760925</td>\n",
       "      <td>0.772634</td>\n",
       "      <td>0.712088</td>\n",
       "      <td>0.767241</td>\n",
       "      <td>0.737755</td>\n",
       "      <td>k best</td>\n",
       "    </tr>\n",
       "    <tr>\n",
       "      <th>2</th>\n",
       "      <td>xgb</td>\n",
       "      <td>0.740737</td>\n",
       "      <td>0.749878</td>\n",
       "      <td>0.710989</td>\n",
       "      <td>0.753448</td>\n",
       "      <td>0.725119</td>\n",
       "      <td>k best</td>\n",
       "    </tr>\n",
       "    <tr>\n",
       "      <th>3</th>\n",
       "      <td>knn</td>\n",
       "      <td>0.786886</td>\n",
       "      <td>0.773160</td>\n",
       "      <td>0.713187</td>\n",
       "      <td>0.767734</td>\n",
       "      <td>0.740148</td>\n",
       "      <td>k best</td>\n",
       "    </tr>\n",
       "    <tr>\n",
       "      <th>4</th>\n",
       "      <td>svm</td>\n",
       "      <td>0.782527</td>\n",
       "      <td>0.770340</td>\n",
       "      <td>0.651648</td>\n",
       "      <td>0.746305</td>\n",
       "      <td>0.699410</td>\n",
       "      <td>k best</td>\n",
       "    </tr>\n",
       "  </tbody>\n",
       "</table>\n",
       "</div>"
      ],
      "text/plain": [
       "  models   roc_auc  precision    recall  accuracy        f1  method\n",
       "0     lr  0.784158   0.732684  0.728571  0.746305  0.727153  k best\n",
       "1     rf  0.760925   0.772634  0.712088  0.767241  0.737755  k best\n",
       "2    xgb  0.740737   0.749878  0.710989  0.753448  0.725119  k best\n",
       "3    knn  0.786886   0.773160  0.713187  0.767734  0.740148  k best\n",
       "4    svm  0.782527   0.770340  0.651648  0.746305  0.699410  k best"
      ]
     },
     "execution_count": 12,
     "metadata": {},
     "output_type": "execute_result"
    }
   ],
   "source": [
    "k = 10\n",
    "k_best_model = SelectKBest(k = k).fit(X, y)\n",
    "best_cols = X.columns[k_best_model.get_support()]\n",
    "X_best = X[best_cols]\n",
    "\n",
    "experiment_name = f'k best'\n",
    "do_grid_search = True\n",
    "\n",
    "score_df = experiment(experiment_name, X_best, y, models_dict, \n",
    "                      params_dict, metrics, do_grid_search)\n",
    "score_df_all  =pd.concat([score_df_all, score_df])\n",
    "score_df"
   ]
  },
  {
   "cell_type": "code",
   "execution_count": 13,
   "metadata": {},
   "outputs": [
    {
     "name": "stdout",
     "output_type": "stream",
     "text": [
      "starting grid search\n"
     ]
    },
    {
     "data": {
      "application/vnd.jupyter.widget-view+json": {
       "model_id": "9df2dcfa179145b88ba87ac7fed45c57",
       "version_major": 2,
       "version_minor": 0
      },
      "text/plain": [
       "  0%|          | 0/5 [00:00<?, ?it/s]"
      ]
     },
     "metadata": {},
     "output_type": "display_data"
    },
    {
     "data": {
      "application/vnd.jupyter.widget-view+json": {
       "model_id": "0a9623f21dd6420296fb15f623be88ec",
       "version_major": 2,
       "version_minor": 0
      },
      "text/plain": [
       "  0%|          | 0/5 [00:00<?, ?it/s]"
      ]
     },
     "metadata": {},
     "output_type": "display_data"
    },
    {
     "data": {
      "text/html": [
       "<div>\n",
       "<style scoped>\n",
       "    .dataframe tbody tr th:only-of-type {\n",
       "        vertical-align: middle;\n",
       "    }\n",
       "\n",
       "    .dataframe tbody tr th {\n",
       "        vertical-align: top;\n",
       "    }\n",
       "\n",
       "    .dataframe thead th {\n",
       "        text-align: right;\n",
       "    }\n",
       "</style>\n",
       "<table border=\"1\" class=\"dataframe\">\n",
       "  <thead>\n",
       "    <tr style=\"text-align: right;\">\n",
       "      <th></th>\n",
       "      <th>models</th>\n",
       "      <th>roc_auc</th>\n",
       "      <th>precision</th>\n",
       "      <th>recall</th>\n",
       "      <th>accuracy</th>\n",
       "      <th>f1</th>\n",
       "      <th>method</th>\n",
       "    </tr>\n",
       "  </thead>\n",
       "  <tbody>\n",
       "    <tr>\n",
       "      <th>0</th>\n",
       "      <td>lr</td>\n",
       "      <td>0.772949</td>\n",
       "      <td>0.721146</td>\n",
       "      <td>0.728571</td>\n",
       "      <td>0.739163</td>\n",
       "      <td>0.721615</td>\n",
       "      <td>scaler_best</td>\n",
       "    </tr>\n",
       "    <tr>\n",
       "      <th>1</th>\n",
       "      <td>rf</td>\n",
       "      <td>0.760925</td>\n",
       "      <td>0.772634</td>\n",
       "      <td>0.712088</td>\n",
       "      <td>0.767241</td>\n",
       "      <td>0.737755</td>\n",
       "      <td>scaler_best</td>\n",
       "    </tr>\n",
       "    <tr>\n",
       "      <th>2</th>\n",
       "      <td>xgb</td>\n",
       "      <td>0.740737</td>\n",
       "      <td>0.749878</td>\n",
       "      <td>0.710989</td>\n",
       "      <td>0.753448</td>\n",
       "      <td>0.725119</td>\n",
       "      <td>scaler_best</td>\n",
       "    </tr>\n",
       "    <tr>\n",
       "      <th>3</th>\n",
       "      <td>knn</td>\n",
       "      <td>0.781832</td>\n",
       "      <td>0.773160</td>\n",
       "      <td>0.713187</td>\n",
       "      <td>0.767734</td>\n",
       "      <td>0.740148</td>\n",
       "      <td>scaler_best</td>\n",
       "    </tr>\n",
       "    <tr>\n",
       "      <th>4</th>\n",
       "      <td>svm</td>\n",
       "      <td>0.779908</td>\n",
       "      <td>0.770340</td>\n",
       "      <td>0.651648</td>\n",
       "      <td>0.746305</td>\n",
       "      <td>0.699410</td>\n",
       "      <td>scaler_best</td>\n",
       "    </tr>\n",
       "  </tbody>\n",
       "</table>\n",
       "</div>"
      ],
      "text/plain": [
       "  models   roc_auc  precision    recall  accuracy        f1       method\n",
       "0     lr  0.772949   0.721146  0.728571  0.739163  0.721615  scaler_best\n",
       "1     rf  0.760925   0.772634  0.712088  0.767241  0.737755  scaler_best\n",
       "2    xgb  0.740737   0.749878  0.710989  0.753448  0.725119  scaler_best\n",
       "3    knn  0.781832   0.773160  0.713187  0.767734  0.740148  scaler_best\n",
       "4    svm  0.779908   0.770340  0.651648  0.746305  0.699410  scaler_best"
      ]
     },
     "execution_count": 13,
     "metadata": {},
     "output_type": "execute_result"
    }
   ],
   "source": [
    "scaler = StandardScaler()\n",
    "X_standard = scaler.fit_transform(X_best)\n",
    "\n",
    "\n",
    "experiment_name = f'scaler_best'\n",
    "do_grid_search = True\n",
    "\n",
    "score_df = experiment(experiment_name, X_standard, y, models_dict, \n",
    "                      params_dict, metrics, do_grid_search)\n",
    "score_df_all  =pd.concat([score_df_all, score_df])\n",
    "score_df"
   ]
  },
  {
   "cell_type": "code",
   "execution_count": 14,
   "metadata": {},
   "outputs": [
    {
     "name": "stdout",
     "output_type": "stream",
     "text": [
      "starting grid search\n"
     ]
    },
    {
     "data": {
      "application/vnd.jupyter.widget-view+json": {
       "model_id": "b48c531435c845798d49faee3261392a",
       "version_major": 2,
       "version_minor": 0
      },
      "text/plain": [
       "  0%|          | 0/5 [00:00<?, ?it/s]"
      ]
     },
     "metadata": {},
     "output_type": "display_data"
    },
    {
     "data": {
      "application/vnd.jupyter.widget-view+json": {
       "model_id": "af0a86fceef64de2a54984b079550972",
       "version_major": 2,
       "version_minor": 0
      },
      "text/plain": [
       "  0%|          | 0/5 [00:00<?, ?it/s]"
      ]
     },
     "metadata": {},
     "output_type": "display_data"
    },
    {
     "data": {
      "text/html": [
       "<div>\n",
       "<style scoped>\n",
       "    .dataframe tbody tr th:only-of-type {\n",
       "        vertical-align: middle;\n",
       "    }\n",
       "\n",
       "    .dataframe tbody tr th {\n",
       "        vertical-align: top;\n",
       "    }\n",
       "\n",
       "    .dataframe thead th {\n",
       "        text-align: right;\n",
       "    }\n",
       "</style>\n",
       "<table border=\"1\" class=\"dataframe\">\n",
       "  <thead>\n",
       "    <tr style=\"text-align: right;\">\n",
       "      <th></th>\n",
       "      <th>models</th>\n",
       "      <th>roc_auc</th>\n",
       "      <th>precision</th>\n",
       "      <th>recall</th>\n",
       "      <th>accuracy</th>\n",
       "      <th>f1</th>\n",
       "      <th>method</th>\n",
       "    </tr>\n",
       "  </thead>\n",
       "  <tbody>\n",
       "    <tr>\n",
       "      <th>0</th>\n",
       "      <td>lr</td>\n",
       "      <td>0.672921</td>\n",
       "      <td>0.648889</td>\n",
       "      <td>0.603297</td>\n",
       "      <td>0.654926</td>\n",
       "      <td>0.614096</td>\n",
       "      <td>pca</td>\n",
       "    </tr>\n",
       "    <tr>\n",
       "      <th>1</th>\n",
       "      <td>rf</td>\n",
       "      <td>0.697427</td>\n",
       "      <td>0.739524</td>\n",
       "      <td>0.395604</td>\n",
       "      <td>0.654433</td>\n",
       "      <td>0.500140</td>\n",
       "      <td>pca</td>\n",
       "    </tr>\n",
       "    <tr>\n",
       "      <th>2</th>\n",
       "      <td>xgb</td>\n",
       "      <td>0.707299</td>\n",
       "      <td>0.730144</td>\n",
       "      <td>0.605495</td>\n",
       "      <td>0.704187</td>\n",
       "      <td>0.657791</td>\n",
       "      <td>pca</td>\n",
       "    </tr>\n",
       "    <tr>\n",
       "      <th>3</th>\n",
       "      <td>knn</td>\n",
       "      <td>0.729579</td>\n",
       "      <td>0.678889</td>\n",
       "      <td>0.602198</td>\n",
       "      <td>0.682266</td>\n",
       "      <td>0.633012</td>\n",
       "      <td>pca</td>\n",
       "    </tr>\n",
       "    <tr>\n",
       "      <th>4</th>\n",
       "      <td>svm</td>\n",
       "      <td>0.752930</td>\n",
       "      <td>0.701010</td>\n",
       "      <td>0.619780</td>\n",
       "      <td>0.697044</td>\n",
       "      <td>0.654537</td>\n",
       "      <td>pca</td>\n",
       "    </tr>\n",
       "  </tbody>\n",
       "</table>\n",
       "</div>"
      ],
      "text/plain": [
       "  models   roc_auc  precision    recall  accuracy        f1 method\n",
       "0     lr  0.672921   0.648889  0.603297  0.654926  0.614096    pca\n",
       "1     rf  0.697427   0.739524  0.395604  0.654433  0.500140    pca\n",
       "2    xgb  0.707299   0.730144  0.605495  0.704187  0.657791    pca\n",
       "3    knn  0.729579   0.678889  0.602198  0.682266  0.633012    pca\n",
       "4    svm  0.752930   0.701010  0.619780  0.697044  0.654537    pca"
      ]
     },
     "execution_count": 14,
     "metadata": {},
     "output_type": "execute_result"
    }
   ],
   "source": [
    "X_all_standard = StandardScaler().fit_transform(X)\n",
    "X_pca = PCA(n_components = 100).fit_transform(X_all_standard)\n",
    "\n",
    "experiment_name = f'pca'\n",
    "do_grid_search = True\n",
    "\n",
    "score_df = experiment(experiment_name, X_pca, y, models_dict, \n",
    "                      params_dict, metrics, do_grid_search)\n",
    "score_df_all  =pd.concat([score_df_all, score_df])\n",
    "score_df"
   ]
  },
  {
   "cell_type": "markdown",
   "metadata": {},
   "source": [
    "## графы и тензоры"
   ]
  },
  {
   "cell_type": "code",
   "execution_count": 15,
   "metadata": {},
   "outputs": [
    {
     "data": {
      "text/html": [
       "<div>\n",
       "<style scoped>\n",
       "    .dataframe tbody tr th:only-of-type {\n",
       "        vertical-align: middle;\n",
       "    }\n",
       "\n",
       "    .dataframe tbody tr th {\n",
       "        vertical-align: top;\n",
       "    }\n",
       "\n",
       "    .dataframe thead th {\n",
       "        text-align: right;\n",
       "    }\n",
       "</style>\n",
       "<table border=\"1\" class=\"dataframe\">\n",
       "  <thead>\n",
       "    <tr style=\"text-align: right;\">\n",
       "      <th></th>\n",
       "      <th>L Aud-R Aud</th>\n",
       "      <th>L Aud-Striate</th>\n",
       "      <th>R Aud-Striate</th>\n",
       "      <th>L Aud-L DMN</th>\n",
       "      <th>R Aud-L DMN</th>\n",
       "      <th>Striate-L DMN</th>\n",
       "      <th>L Aud-Med DMN</th>\n",
       "      <th>R Aud-Med DMN</th>\n",
       "      <th>Striate-Med DMN</th>\n",
       "      <th>L DMN-Med DMN</th>\n",
       "      <th>...</th>\n",
       "      <th>Broca-R Ant IPS</th>\n",
       "      <th>Sup Front S-R Ant IPS</th>\n",
       "      <th>R TPJ-R Ant IPS</th>\n",
       "      <th>R Pars Op-R Ant IPS</th>\n",
       "      <th>Cereb-R Ant IPS</th>\n",
       "      <th>Dors PCC-R Ant IPS</th>\n",
       "      <th>L Ins-R Ant IPS</th>\n",
       "      <th>Cing-R Ant IPS</th>\n",
       "      <th>R Ins-R Ant IPS</th>\n",
       "      <th>L Ant IPS-R Ant IPS</th>\n",
       "    </tr>\n",
       "  </thead>\n",
       "  <tbody>\n",
       "    <tr>\n",
       "      <th>0</th>\n",
       "      <td>0.852745</td>\n",
       "      <td>0.472408</td>\n",
       "      <td>0.438451</td>\n",
       "      <td>-0.151586</td>\n",
       "      <td>-0.175817</td>\n",
       "      <td>-0.088072</td>\n",
       "      <td>0.328715</td>\n",
       "      <td>0.232928</td>\n",
       "      <td>0.281118</td>\n",
       "      <td>0.105860</td>\n",
       "      <td>...</td>\n",
       "      <td>0.157520</td>\n",
       "      <td>0.111554</td>\n",
       "      <td>0.024794</td>\n",
       "      <td>0.074087</td>\n",
       "      <td>0.083605</td>\n",
       "      <td>0.332223</td>\n",
       "      <td>0.299678</td>\n",
       "      <td>0.378165</td>\n",
       "      <td>0.238186</td>\n",
       "      <td>0.633913</td>\n",
       "    </tr>\n",
       "    <tr>\n",
       "      <th>1</th>\n",
       "      <td>0.748457</td>\n",
       "      <td>0.532091</td>\n",
       "      <td>0.617542</td>\n",
       "      <td>0.090878</td>\n",
       "      <td>0.043540</td>\n",
       "      <td>-0.036074</td>\n",
       "      <td>0.363859</td>\n",
       "      <td>0.391996</td>\n",
       "      <td>0.460223</td>\n",
       "      <td>0.586827</td>\n",
       "      <td>...</td>\n",
       "      <td>0.374588</td>\n",
       "      <td>0.340460</td>\n",
       "      <td>0.342494</td>\n",
       "      <td>0.249617</td>\n",
       "      <td>0.382124</td>\n",
       "      <td>0.604362</td>\n",
       "      <td>0.168657</td>\n",
       "      <td>0.284299</td>\n",
       "      <td>0.183674</td>\n",
       "      <td>0.626664</td>\n",
       "    </tr>\n",
       "    <tr>\n",
       "      <th>2</th>\n",
       "      <td>0.592125</td>\n",
       "      <td>0.036093</td>\n",
       "      <td>0.133537</td>\n",
       "      <td>0.082847</td>\n",
       "      <td>0.179051</td>\n",
       "      <td>0.314248</td>\n",
       "      <td>-0.008541</td>\n",
       "      <td>0.023696</td>\n",
       "      <td>0.264882</td>\n",
       "      <td>0.476750</td>\n",
       "      <td>...</td>\n",
       "      <td>-0.253343</td>\n",
       "      <td>-0.049419</td>\n",
       "      <td>0.103218</td>\n",
       "      <td>-0.098405</td>\n",
       "      <td>-0.106043</td>\n",
       "      <td>0.359292</td>\n",
       "      <td>-0.283070</td>\n",
       "      <td>0.194902</td>\n",
       "      <td>-0.112684</td>\n",
       "      <td>0.582636</td>\n",
       "    </tr>\n",
       "    <tr>\n",
       "      <th>3</th>\n",
       "      <td>0.780837</td>\n",
       "      <td>0.354871</td>\n",
       "      <td>0.420179</td>\n",
       "      <td>0.144601</td>\n",
       "      <td>0.208352</td>\n",
       "      <td>0.168114</td>\n",
       "      <td>0.448530</td>\n",
       "      <td>0.359084</td>\n",
       "      <td>0.338741</td>\n",
       "      <td>0.298082</td>\n",
       "      <td>...</td>\n",
       "      <td>0.190040</td>\n",
       "      <td>-0.012739</td>\n",
       "      <td>-0.038590</td>\n",
       "      <td>0.150418</td>\n",
       "      <td>0.043712</td>\n",
       "      <td>0.165942</td>\n",
       "      <td>-0.003737</td>\n",
       "      <td>0.316817</td>\n",
       "      <td>-0.003129</td>\n",
       "      <td>0.633039</td>\n",
       "    </tr>\n",
       "    <tr>\n",
       "      <th>4</th>\n",
       "      <td>0.447026</td>\n",
       "      <td>-0.024045</td>\n",
       "      <td>0.432331</td>\n",
       "      <td>-0.247530</td>\n",
       "      <td>0.113947</td>\n",
       "      <td>0.412405</td>\n",
       "      <td>-0.157010</td>\n",
       "      <td>0.159231</td>\n",
       "      <td>0.519857</td>\n",
       "      <td>0.606334</td>\n",
       "      <td>...</td>\n",
       "      <td>-0.240672</td>\n",
       "      <td>0.271395</td>\n",
       "      <td>-0.054881</td>\n",
       "      <td>0.044233</td>\n",
       "      <td>0.063376</td>\n",
       "      <td>0.387130</td>\n",
       "      <td>0.145573</td>\n",
       "      <td>0.396055</td>\n",
       "      <td>0.112810</td>\n",
       "      <td>0.532662</td>\n",
       "    </tr>\n",
       "  </tbody>\n",
       "</table>\n",
       "<p>5 rows × 741 columns</p>\n",
       "</div>"
      ],
      "text/plain": [
       "   L Aud-R Aud  L Aud-Striate  R Aud-Striate  L Aud-L DMN  R Aud-L DMN  \\\n",
       "0     0.852745       0.472408       0.438451    -0.151586    -0.175817   \n",
       "1     0.748457       0.532091       0.617542     0.090878     0.043540   \n",
       "2     0.592125       0.036093       0.133537     0.082847     0.179051   \n",
       "3     0.780837       0.354871       0.420179     0.144601     0.208352   \n",
       "4     0.447026      -0.024045       0.432331    -0.247530     0.113947   \n",
       "\n",
       "   Striate-L DMN  L Aud-Med DMN  R Aud-Med DMN  Striate-Med DMN  \\\n",
       "0      -0.088072       0.328715       0.232928         0.281118   \n",
       "1      -0.036074       0.363859       0.391996         0.460223   \n",
       "2       0.314248      -0.008541       0.023696         0.264882   \n",
       "3       0.168114       0.448530       0.359084         0.338741   \n",
       "4       0.412405      -0.157010       0.159231         0.519857   \n",
       "\n",
       "   L DMN-Med DMN  ...  Broca-R Ant IPS  Sup Front S-R Ant IPS  \\\n",
       "0       0.105860  ...         0.157520               0.111554   \n",
       "1       0.586827  ...         0.374588               0.340460   \n",
       "2       0.476750  ...        -0.253343              -0.049419   \n",
       "3       0.298082  ...         0.190040              -0.012739   \n",
       "4       0.606334  ...        -0.240672               0.271395   \n",
       "\n",
       "   R TPJ-R Ant IPS  R Pars Op-R Ant IPS  Cereb-R Ant IPS  Dors PCC-R Ant IPS  \\\n",
       "0         0.024794             0.074087         0.083605            0.332223   \n",
       "1         0.342494             0.249617         0.382124            0.604362   \n",
       "2         0.103218            -0.098405        -0.106043            0.359292   \n",
       "3        -0.038590             0.150418         0.043712            0.165942   \n",
       "4        -0.054881             0.044233         0.063376            0.387130   \n",
       "\n",
       "   L Ins-R Ant IPS  Cing-R Ant IPS  R Ins-R Ant IPS  L Ant IPS-R Ant IPS  \n",
       "0         0.299678        0.378165         0.238186             0.633913  \n",
       "1         0.168657        0.284299         0.183674             0.626664  \n",
       "2        -0.283070        0.194902        -0.112684             0.582636  \n",
       "3        -0.003737        0.316817        -0.003129             0.633039  \n",
       "4         0.145573        0.396055         0.112810             0.532662  \n",
       "\n",
       "[5 rows x 741 columns]"
      ]
     },
     "execution_count": 15,
     "metadata": {},
     "output_type": "execute_result"
    }
   ],
   "source": [
    "matrix = X.drop(['Sex'], axis=1)\n",
    "matrix.head()"
   ]
  },
  {
   "cell_type": "code",
   "execution_count": 16,
   "metadata": {},
   "outputs": [],
   "source": [
    "def get_adj_matrix(matrix_df):\n",
    "    cols = matrix_df.columns\n",
    "\n",
    "    set_cols = set()\n",
    "\n",
    "    for col in cols:\n",
    "        #print(col.split('-'))\n",
    "        el0, el1 = col.split('-')\n",
    "        set_cols.add(el0)\n",
    "        set_cols.add(el1)\n",
    "\n",
    "    encode_col_name = dict(zip(set_cols, range(len(set_cols))))\n",
    "    adj_tensor = np.zeros([len(matrix_df), len(set_cols), len(set_cols)])\n",
    "    \n",
    "    for i, row in matrix_df.iterrows():\n",
    "        for col in cols:\n",
    "            el0, el1 = col.split('-') \n",
    "            ind0, ind1 = encode_col_name[el0], encode_col_name[el1]\n",
    "            adj_tensor[i, ind0, ind1] = row[col]\n",
    "            adj_tensor[i, ind1, ind0] = row[col]\n",
    "            \n",
    "    return adj_tensor\n",
    "\n",
    "def get_L_matrix(matrix):\n",
    "    \n",
    "    adj_tensor = get_adj_matrix(matrix)\n",
    "    L_tensor = []\n",
    "\n",
    "    for adj_mat in adj_tensor:\n",
    "        G = nx.from_numpy_matrix(np.matrix(adj_mat))\n",
    "        L = nx.laplacian_matrix(G).toarray()\n",
    "        L_tensor.append(L)\n",
    "    L_tensor = np.array(L_tensor)\n",
    "    \n",
    "    return L_tensor"
   ]
  },
  {
   "cell_type": "code",
   "execution_count": 17,
   "metadata": {},
   "outputs": [
    {
     "name": "stdout",
     "output_type": "stream",
     "text": [
      "starting grid search\n"
     ]
    },
    {
     "data": {
      "application/vnd.jupyter.widget-view+json": {
       "model_id": "6545c15ae87c4d6b80bd9d2ef086093a",
       "version_major": 2,
       "version_minor": 0
      },
      "text/plain": [
       "  0%|          | 0/5 [00:00<?, ?it/s]"
      ]
     },
     "metadata": {},
     "output_type": "display_data"
    },
    {
     "data": {
      "application/vnd.jupyter.widget-view+json": {
       "model_id": "c9488ad10c4d419e866c1c6427deb587",
       "version_major": 2,
       "version_minor": 0
      },
      "text/plain": [
       "  0%|          | 0/5 [00:00<?, ?it/s]"
      ]
     },
     "metadata": {},
     "output_type": "display_data"
    },
    {
     "name": "stdout",
     "output_type": "stream",
     "text": [
      "starting grid search\n"
     ]
    },
    {
     "data": {
      "application/vnd.jupyter.widget-view+json": {
       "model_id": "38fd0fd686a94944965571009386e8b5",
       "version_major": 2,
       "version_minor": 0
      },
      "text/plain": [
       "  0%|          | 0/5 [00:00<?, ?it/s]"
      ]
     },
     "metadata": {},
     "output_type": "display_data"
    },
    {
     "data": {
      "application/vnd.jupyter.widget-view+json": {
       "model_id": "b231af2675394221a92a6d9788d0119a",
       "version_major": 2,
       "version_minor": 0
      },
      "text/plain": [
       "  0%|          | 0/5 [00:00<?, ?it/s]"
      ]
     },
     "metadata": {},
     "output_type": "display_data"
    },
    {
     "name": "stdout",
     "output_type": "stream",
     "text": [
      "starting grid search\n"
     ]
    },
    {
     "data": {
      "application/vnd.jupyter.widget-view+json": {
       "model_id": "95675b05cdd84acbb78596e0d44fd138",
       "version_major": 2,
       "version_minor": 0
      },
      "text/plain": [
       "  0%|          | 0/5 [00:00<?, ?it/s]"
      ]
     },
     "metadata": {},
     "output_type": "display_data"
    },
    {
     "data": {
      "application/vnd.jupyter.widget-view+json": {
       "model_id": "70165e97d148414db9d13c03b6735e49",
       "version_major": 2,
       "version_minor": 0
      },
      "text/plain": [
       "  0%|          | 0/5 [00:00<?, ?it/s]"
      ]
     },
     "metadata": {},
     "output_type": "display_data"
    },
    {
     "name": "stdout",
     "output_type": "stream",
     "text": [
      "starting grid search\n"
     ]
    },
    {
     "data": {
      "application/vnd.jupyter.widget-view+json": {
       "model_id": "06ddc58100ce4b33831faa187fbb1c7b",
       "version_major": 2,
       "version_minor": 0
      },
      "text/plain": [
       "  0%|          | 0/5 [00:00<?, ?it/s]"
      ]
     },
     "metadata": {},
     "output_type": "display_data"
    },
    {
     "data": {
      "application/vnd.jupyter.widget-view+json": {
       "model_id": "5554a8c35165490faee7df7f15b33111",
       "version_major": 2,
       "version_minor": 0
      },
      "text/plain": [
       "  0%|          | 0/5 [00:00<?, ?it/s]"
      ]
     },
     "metadata": {},
     "output_type": "display_data"
    }
   ],
   "source": [
    "matrix = X.drop(['Sex'], axis=1)\n",
    "adj_tensor = get_adj_matrix(matrix)\n",
    "\n",
    "\n",
    "##### CP ##############\n",
    "\n",
    "\n",
    "factors = parafac(adj_tensor, rank=39)\n",
    "X_cp = factors[1][0]\n",
    "X_cp_sex = np.hstack([X_cp, data['Sex'].values.reshape(-1, 1)])\n",
    "\n",
    "experiment_name = f'cp_decomp_adj'\n",
    "do_grid_search = True\n",
    "score_df = experiment(experiment_name, X_cp, y, models_dict, params_dict, \n",
    "                      metrics, do_grid_search)\n",
    "score_df_all  =pd.concat([score_df_all, score_df])\n",
    "\n",
    "experiment_name = f'cp_decomp_adj_sex'\n",
    "do_grid_search = True\n",
    "score_df = experiment(experiment_name, X_cp_sex, y, models_dict, params_dict, \n",
    "                      metrics, do_grid_search)\n",
    "score_df_all  =pd.concat([score_df_all, score_df])\n",
    "\n",
    "##### TUCKER ##############\n",
    "\n",
    "factors = tucker(adj_tensor, rank=39)\n",
    "X_tucker = factors[1][0]\n",
    "X_tucker_sex = np.hstack([X_cp, data['Sex'].values.reshape(-1, 1)])\n",
    "\n",
    "experiment_name = f'tucker_decomp_adj'\n",
    "do_grid_search = True\n",
    "\n",
    "score_df = experiment(experiment_name, X_tucker, y, models_dict, params_dict, \n",
    "                      metrics, do_grid_search)\n",
    "score_df_all  =pd.concat([score_df_all, score_df])\n",
    "\n",
    "experiment_name = f'tucker_decomp_adj_sex'\n",
    "do_grid_search = True\n",
    "\n",
    "score_df = experiment(experiment_name, X_tucker_sex, y, models_dict, params_dict, \n",
    "                      metrics, do_grid_search)\n",
    "score_df_all  =pd.concat([score_df_all, score_df])"
   ]
  },
  {
   "cell_type": "code",
   "execution_count": 18,
   "metadata": {},
   "outputs": [
    {
     "name": "stdout",
     "output_type": "stream",
     "text": [
      "starting grid search\n"
     ]
    },
    {
     "data": {
      "application/vnd.jupyter.widget-view+json": {
       "model_id": "1ad1146e93c64837a363b82a30b0c51f",
       "version_major": 2,
       "version_minor": 0
      },
      "text/plain": [
       "  0%|          | 0/5 [00:00<?, ?it/s]"
      ]
     },
     "metadata": {},
     "output_type": "display_data"
    },
    {
     "data": {
      "application/vnd.jupyter.widget-view+json": {
       "model_id": "7dd6d5b13c57437085a305156d60837e",
       "version_major": 2,
       "version_minor": 0
      },
      "text/plain": [
       "  0%|          | 0/5 [00:00<?, ?it/s]"
      ]
     },
     "metadata": {},
     "output_type": "display_data"
    },
    {
     "name": "stdout",
     "output_type": "stream",
     "text": [
      "starting grid search\n"
     ]
    },
    {
     "data": {
      "application/vnd.jupyter.widget-view+json": {
       "model_id": "11ac7a6df2894521952a20900f5ba0ed",
       "version_major": 2,
       "version_minor": 0
      },
      "text/plain": [
       "  0%|          | 0/5 [00:00<?, ?it/s]"
      ]
     },
     "metadata": {},
     "output_type": "display_data"
    },
    {
     "data": {
      "application/vnd.jupyter.widget-view+json": {
       "model_id": "ac25a0e956cd424c884e661fa90ff7ca",
       "version_major": 2,
       "version_minor": 0
      },
      "text/plain": [
       "  0%|          | 0/5 [00:00<?, ?it/s]"
      ]
     },
     "metadata": {},
     "output_type": "display_data"
    },
    {
     "name": "stdout",
     "output_type": "stream",
     "text": [
      "starting grid search\n"
     ]
    },
    {
     "data": {
      "application/vnd.jupyter.widget-view+json": {
       "model_id": "4889b8f19d9a48dfac7aff2f1b5349c4",
       "version_major": 2,
       "version_minor": 0
      },
      "text/plain": [
       "  0%|          | 0/5 [00:00<?, ?it/s]"
      ]
     },
     "metadata": {},
     "output_type": "display_data"
    },
    {
     "data": {
      "application/vnd.jupyter.widget-view+json": {
       "model_id": "4efa00765fc04a30ad788f660c5f2685",
       "version_major": 2,
       "version_minor": 0
      },
      "text/plain": [
       "  0%|          | 0/5 [00:00<?, ?it/s]"
      ]
     },
     "metadata": {},
     "output_type": "display_data"
    },
    {
     "name": "stdout",
     "output_type": "stream",
     "text": [
      "starting grid search\n"
     ]
    },
    {
     "data": {
      "application/vnd.jupyter.widget-view+json": {
       "model_id": "ab6b27a5a4a64c10a237c7da326e7b02",
       "version_major": 2,
       "version_minor": 0
      },
      "text/plain": [
       "  0%|          | 0/5 [00:00<?, ?it/s]"
      ]
     },
     "metadata": {},
     "output_type": "display_data"
    },
    {
     "data": {
      "application/vnd.jupyter.widget-view+json": {
       "model_id": "6e42c045cf9643879337fa4579d35c0e",
       "version_major": 2,
       "version_minor": 0
      },
      "text/plain": [
       "  0%|          | 0/5 [00:00<?, ?it/s]"
      ]
     },
     "metadata": {},
     "output_type": "display_data"
    }
   ],
   "source": [
    "# L_tensor = []\n",
    "\n",
    "# for adj_mat in adj_tensor:\n",
    "#     G = nx.from_numpy_matrix(np.matrix(adj_mat))\n",
    "#     L = nx.laplacian_matrix(G).toarray()\n",
    "#     L_tensor.append(L)\n",
    "L_tensor = get_L_matrix(matrix)\n",
    "\n",
    "\n",
    "##### CP ##############\n",
    "\n",
    "factors = parafac(L_tensor, rank=39)\n",
    "X_cp = factors[1][0]\n",
    "X_cp_sex = np.hstack([X_cp, data['Sex'].values.reshape(-1, 1)])\n",
    "\n",
    "experiment_name = f'cp_decomp_L'\n",
    "do_grid_search = True\n",
    "score_df = experiment(experiment_name, X_cp, y, models_dict, \n",
    "                      params_dict, metrics, do_grid_search)\n",
    "score_df_all  =pd.concat([score_df_all, score_df])\n",
    "\n",
    "experiment_name = f'cp_decomp_L_sex'\n",
    "do_grid_search = True\n",
    "score_df = experiment(experiment_name, X_cp_sex, y, models_dict, \n",
    "                      params_dict, metrics, do_grid_search)\n",
    "score_df_all  =pd.concat([score_df_all, score_df])\n",
    "\n",
    "##### TUCKER ##############\n",
    "\n",
    "factors = tucker(L_tensor, rank=39)\n",
    "X_tucker = factors[1][0]\n",
    "X_tucker_sex = np.hstack([X_cp, data['Sex'].values.reshape(-1, 1)])\n",
    "\n",
    "experiment_name = f'tucker_decomp_L'\n",
    "do_grid_search = True\n",
    "\n",
    "score_df = experiment(experiment_name, X_tucker, y, models_dict, \n",
    "                      params_dict, metrics, do_grid_search)\n",
    "score_df_all  =pd.concat([score_df_all, score_df])\n",
    "\n",
    "experiment_name = f'tucker_decomp_L_sex'\n",
    "do_grid_search = True\n",
    "\n",
    "score_df = experiment(experiment_name, X_tucker_sex, y, models_dict, \n",
    "                      params_dict, metrics, do_grid_search)\n",
    "score_df_all  =pd.concat([score_df_all, score_df])"
   ]
  },
  {
   "cell_type": "code",
   "execution_count": 19,
   "metadata": {},
   "outputs": [
    {
     "name": "stdout",
     "output_type": "stream",
     "text": [
      "starting grid search\n"
     ]
    },
    {
     "data": {
      "application/vnd.jupyter.widget-view+json": {
       "model_id": "cb450c7e59184fefac25df8e0f309396",
       "version_major": 2,
       "version_minor": 0
      },
      "text/plain": [
       "  0%|          | 0/5 [00:00<?, ?it/s]"
      ]
     },
     "metadata": {},
     "output_type": "display_data"
    },
    {
     "data": {
      "application/vnd.jupyter.widget-view+json": {
       "model_id": "42ec863822244db8b1d2e238ee92c66a",
       "version_major": 2,
       "version_minor": 0
      },
      "text/plain": [
       "  0%|          | 0/5 [00:00<?, ?it/s]"
      ]
     },
     "metadata": {},
     "output_type": "display_data"
    },
    {
     "data": {
      "text/html": [
       "<div>\n",
       "<style scoped>\n",
       "    .dataframe tbody tr th:only-of-type {\n",
       "        vertical-align: middle;\n",
       "    }\n",
       "\n",
       "    .dataframe tbody tr th {\n",
       "        vertical-align: top;\n",
       "    }\n",
       "\n",
       "    .dataframe thead th {\n",
       "        text-align: right;\n",
       "    }\n",
       "</style>\n",
       "<table border=\"1\" class=\"dataframe\">\n",
       "  <thead>\n",
       "    <tr style=\"text-align: right;\">\n",
       "      <th></th>\n",
       "      <th>models</th>\n",
       "      <th>roc_auc</th>\n",
       "      <th>precision</th>\n",
       "      <th>recall</th>\n",
       "      <th>accuracy</th>\n",
       "      <th>f1</th>\n",
       "      <th>method</th>\n",
       "    </tr>\n",
       "  </thead>\n",
       "  <tbody>\n",
       "    <tr>\n",
       "      <th>0</th>\n",
       "      <td>lr</td>\n",
       "      <td>0.709350</td>\n",
       "      <td>0.653462</td>\n",
       "      <td>0.620879</td>\n",
       "      <td>0.655419</td>\n",
       "      <td>0.623418</td>\n",
       "      <td>spect_L</td>\n",
       "    </tr>\n",
       "    <tr>\n",
       "      <th>1</th>\n",
       "      <td>rf</td>\n",
       "      <td>0.615971</td>\n",
       "      <td>0.591082</td>\n",
       "      <td>0.502198</td>\n",
       "      <td>0.598276</td>\n",
       "      <td>0.531666</td>\n",
       "      <td>spect_L</td>\n",
       "    </tr>\n",
       "    <tr>\n",
       "      <th>2</th>\n",
       "      <td>xgb</td>\n",
       "      <td>0.680224</td>\n",
       "      <td>0.671865</td>\n",
       "      <td>0.562637</td>\n",
       "      <td>0.662315</td>\n",
       "      <td>0.603615</td>\n",
       "      <td>spect_L</td>\n",
       "    </tr>\n",
       "    <tr>\n",
       "      <th>3</th>\n",
       "      <td>knn</td>\n",
       "      <td>0.658370</td>\n",
       "      <td>0.641632</td>\n",
       "      <td>0.561538</td>\n",
       "      <td>0.648522</td>\n",
       "      <td>0.597431</td>\n",
       "      <td>spect_L</td>\n",
       "    </tr>\n",
       "    <tr>\n",
       "      <th>4</th>\n",
       "      <td>svm</td>\n",
       "      <td>0.680595</td>\n",
       "      <td>0.650000</td>\n",
       "      <td>0.469231</td>\n",
       "      <td>0.633744</td>\n",
       "      <td>0.538964</td>\n",
       "      <td>spect_L</td>\n",
       "    </tr>\n",
       "  </tbody>\n",
       "</table>\n",
       "</div>"
      ],
      "text/plain": [
       "  models   roc_auc  precision    recall  accuracy        f1   method\n",
       "0     lr  0.709350   0.653462  0.620879  0.655419  0.623418  spect_L\n",
       "1     rf  0.615971   0.591082  0.502198  0.598276  0.531666  spect_L\n",
       "2    xgb  0.680224   0.671865  0.562637  0.662315  0.603615  spect_L\n",
       "3    knn  0.658370   0.641632  0.561538  0.648522  0.597431  spect_L\n",
       "4    svm  0.680595   0.650000  0.469231  0.633744  0.538964  spect_L"
      ]
     },
     "execution_count": 19,
     "metadata": {},
     "output_type": "execute_result"
    }
   ],
   "source": [
    "L_spect_emb = []\n",
    "\n",
    "for adj_mat in adj_tensor:\n",
    "    G = nx.from_numpy_matrix(np.matrix(adj_mat))\n",
    "    spect = nx.laplacian_spectrum(G)\n",
    "    L_spect_emb.append(spect)\n",
    "L_spect_emb = np.array(L_spect_emb)\n",
    "\n",
    "X_spect = L_spect_emb\n",
    "X_spect_sex = np.hstack([X_spect, data['Sex'].values.reshape(-1, 1)])\n",
    "\n",
    "experiment_name = f'spect_L'\n",
    "do_grid_search = True\n",
    "\n",
    "score_df = experiment(experiment_name, X_spect_sex, y, models_dict, \n",
    "                      params_dict, metrics, do_grid_search)\n",
    "score_df_all = pd.concat([score_df_all, score_df])\n",
    "score_df"
   ]
  },
  {
   "cell_type": "markdown",
   "metadata": {},
   "source": [
    "### раздельные эмбеддинги по полу"
   ]
  },
  {
   "cell_type": "code",
   "execution_count": 20,
   "metadata": {},
   "outputs": [],
   "source": [
    "def get_sex_devided_X(matrix, tensor_dev_method):\n",
    "    \n",
    "    matrix = X.drop(['Sex'], axis=1)\n",
    "    matrix_f = X[X['Sex'] == 1].drop(['Sex'], axis=1).reset_index(drop=True)\n",
    "    matrix_m = X[X['Sex'] == 0].drop(['Sex'], axis=1).reset_index(drop=True)\n",
    "\n",
    "    adj_tensor_f = get_adj_matrix(matrix_f)\n",
    "    adj_tensor_m = get_adj_matrix(matrix_m)\n",
    "    \n",
    "    \n",
    "    factors_f = tensor_dev_method(adj_tensor_f, rank=30)[1][0]\n",
    "    factors_m = tensor_dev_method(adj_tensor_m, rank=30)[1][0]\n",
    "    tensor_dev_method\n",
    "    "
   ]
  },
  {
   "cell_type": "code",
   "execution_count": 21,
   "metadata": {},
   "outputs": [],
   "source": [
    "# matrix = X.drop(['Sex'], axis=1)\n",
    "# matrix_f = X[X['Sex'] == 1].drop(['Sex'], axis=1).reset_index(drop=True)\n",
    "# matrix_m = X[X['Sex'] == 0].drop(['Sex'], axis=1).reset_index(drop=True)\n",
    "\n",
    "# adj_tensor_f = get_adj_matrix(matrix_f)\n",
    "# adj_tensor_m = get_adj_matrix(matrix_m)\n",
    "\n",
    "# # ##### CP ##############\n",
    "\n",
    "# factors_f = parafac(adj_tensor_f, rank=30)[1][0]\n",
    "# factors_m = parafac(adj_tensor_m, rank=30)[1][0]\n",
    "\n",
    "# X_cp = np.concatenate([factors_f, factors_m])\n",
    "\n",
    "# n_f, n_m = len(adj_tensor_f), len(adj_tensor_m)\n",
    "# sex_label = np.concatenate([np.ones([n_f]), np.zeros([n_m])])\n",
    "# X_cp_sex = np.hstack([X_cp, sex_label.reshape(-1, 1)])\n",
    "\n",
    "\n",
    "# experiment_name = f'cp_decomp_adj_sex_devided'\n",
    "# do_grid_search = True\n",
    "# score_df = experiment(experiment_name, X_cp, y, models_dict, params_dict, \n",
    "#                       metrics, do_grid_search)\n",
    "# score_df_all  =pd.concat([score_df_all, score_df])\n",
    "# score_df"
   ]
  },
  {
   "cell_type": "code",
   "execution_count": 22,
   "metadata": {},
   "outputs": [],
   "source": [
    "# matrix = X.drop(['Sex'], axis=1)\n",
    "# adj_tensor = get_adj_matrix(matrix)\n",
    "\n",
    "\n",
    "# ##### CP ##############\n",
    "# factors = parafac(adj_tensor, rank=39)\n",
    "# X_cp = factors[1][0]\n",
    "# X_cp_sex = np.hstack([X_cp, data['Sex'].values.reshape(-1, 1)])\n",
    "\n",
    "# experiment_name = f'cp_decomp_adj'\n",
    "# do_grid_search = True\n",
    "# score_df = experiment(experiment_name, X_cp, y, models_dict, params_dict, \n",
    "#                       metrics, do_grid_search)"
   ]
  },
  {
   "cell_type": "markdown",
   "metadata": {},
   "source": [
    "## Ваще все + K best"
   ]
  },
  {
   "cell_type": "code",
   "execution_count": 23,
   "metadata": {},
   "outputs": [
    {
     "name": "stdout",
     "output_type": "stream",
     "text": [
      "starting grid search\n"
     ]
    },
    {
     "data": {
      "application/vnd.jupyter.widget-view+json": {
       "model_id": "a4812a155d6b4699ac0edeeb6bb70fa3",
       "version_major": 2,
       "version_minor": 0
      },
      "text/plain": [
       "  0%|          | 0/5 [00:00<?, ?it/s]"
      ]
     },
     "metadata": {},
     "output_type": "display_data"
    },
    {
     "data": {
      "application/vnd.jupyter.widget-view+json": {
       "model_id": "5402c839ca094e689a1ca3f62c8e707b",
       "version_major": 2,
       "version_minor": 0
      },
      "text/plain": [
       "  0%|          | 0/5 [00:00<?, ?it/s]"
      ]
     },
     "metadata": {},
     "output_type": "display_data"
    },
    {
     "data": {
      "text/html": [
       "<div>\n",
       "<style scoped>\n",
       "    .dataframe tbody tr th:only-of-type {\n",
       "        vertical-align: middle;\n",
       "    }\n",
       "\n",
       "    .dataframe tbody tr th {\n",
       "        vertical-align: top;\n",
       "    }\n",
       "\n",
       "    .dataframe thead th {\n",
       "        text-align: right;\n",
       "    }\n",
       "</style>\n",
       "<table border=\"1\" class=\"dataframe\">\n",
       "  <thead>\n",
       "    <tr style=\"text-align: right;\">\n",
       "      <th></th>\n",
       "      <th>models</th>\n",
       "      <th>roc_auc</th>\n",
       "      <th>precision</th>\n",
       "      <th>recall</th>\n",
       "      <th>accuracy</th>\n",
       "      <th>f1</th>\n",
       "      <th>method</th>\n",
       "    </tr>\n",
       "  </thead>\n",
       "  <tbody>\n",
       "    <tr>\n",
       "      <th>0</th>\n",
       "      <td>lr</td>\n",
       "      <td>0.715833</td>\n",
       "      <td>0.648077</td>\n",
       "      <td>0.665934</td>\n",
       "      <td>0.676355</td>\n",
       "      <td>0.656410</td>\n",
       "      <td>k best all</td>\n",
       "    </tr>\n",
       "    <tr>\n",
       "      <th>1</th>\n",
       "      <td>rf</td>\n",
       "      <td>0.797422</td>\n",
       "      <td>0.741414</td>\n",
       "      <td>0.713187</td>\n",
       "      <td>0.738670</td>\n",
       "      <td>0.716065</td>\n",
       "      <td>k best all</td>\n",
       "    </tr>\n",
       "    <tr>\n",
       "      <th>2</th>\n",
       "      <td>xgb</td>\n",
       "      <td>0.797248</td>\n",
       "      <td>0.750361</td>\n",
       "      <td>0.667033</td>\n",
       "      <td>0.739409</td>\n",
       "      <td>0.700902</td>\n",
       "      <td>k best all</td>\n",
       "    </tr>\n",
       "    <tr>\n",
       "      <th>3</th>\n",
       "      <td>knn</td>\n",
       "      <td>0.746593</td>\n",
       "      <td>0.719360</td>\n",
       "      <td>0.709890</td>\n",
       "      <td>0.732266</td>\n",
       "      <td>0.712028</td>\n",
       "      <td>k best all</td>\n",
       "    </tr>\n",
       "    <tr>\n",
       "      <th>4</th>\n",
       "      <td>svm</td>\n",
       "      <td>0.744808</td>\n",
       "      <td>0.682352</td>\n",
       "      <td>0.500000</td>\n",
       "      <td>0.654926</td>\n",
       "      <td>0.572145</td>\n",
       "      <td>k best all</td>\n",
       "    </tr>\n",
       "  </tbody>\n",
       "</table>\n",
       "</div>"
      ],
      "text/plain": [
       "  models   roc_auc  precision    recall  accuracy        f1      method\n",
       "0     lr  0.715833   0.648077  0.665934  0.676355  0.656410  k best all\n",
       "1     rf  0.797422   0.741414  0.713187  0.738670  0.716065  k best all\n",
       "2    xgb  0.797248   0.750361  0.667033  0.739409  0.700902  k best all\n",
       "3    knn  0.746593   0.719360  0.709890  0.732266  0.712028  k best all\n",
       "4    svm  0.744808   0.682352  0.500000  0.654926  0.572145  k best all"
      ]
     },
     "execution_count": 23,
     "metadata": {},
     "output_type": "execute_result"
    }
   ],
   "source": [
    "k = 50\n",
    "\n",
    "X_all = np.hstack([X_standard, X_tucker, X_cp, X_spect])\n",
    "X_best = SelectKBest(k = k).fit_transform(X_all, y)\n",
    "\n",
    "experiment_name = f'k best all'\n",
    "do_grid_search = True\n",
    "\n",
    "score_df = experiment(experiment_name, X_best, y, models_dict,\n",
    "                      params_dict, metrics, do_grid_search)\n",
    "score_df_all  =pd.concat([score_df_all, score_df])\n",
    "score_df"
   ]
  },
  {
   "cell_type": "markdown",
   "metadata": {
    "id": "mB-2b_j5ea4_"
   },
   "source": [
    "# Analysis"
   ]
  },
  {
   "cell_type": "code",
   "execution_count": 24,
   "metadata": {},
   "outputs": [],
   "source": [
    "score_df_all.to_csv('score_df.csv', index=False)"
   ]
  },
  {
   "cell_type": "code",
   "execution_count": 31,
   "metadata": {},
   "outputs": [
    {
     "data": {
      "image/png": "[encoded data removed]",
      "text/plain": [
       "<Figure size 720x504 with 1 Axes>"
      ]
     },
     "metadata": {
      "needs_background": "light"
     },
     "output_type": "display_data"
    },
    {
     "data": {
      "text/html": [
       "<div>\n",
       "<style scoped>\n",
       "    .dataframe tbody tr th:only-of-type {\n",
       "        vertical-align: middle;\n",
       "    }\n",
       "\n",
       "    .dataframe tbody tr th {\n",
       "        vertical-align: top;\n",
       "    }\n",
       "\n",
       "    .dataframe thead th {\n",
       "        text-align: right;\n",
       "    }\n",
       "</style>\n",
       "<table border=\"1\" class=\"dataframe\">\n",
       "  <thead>\n",
       "    <tr style=\"text-align: right;\">\n",
       "      <th></th>\n",
       "      <th>models</th>\n",
       "      <th>roc_auc</th>\n",
       "      <th>precision</th>\n",
       "      <th>recall</th>\n",
       "      <th>accuracy</th>\n",
       "      <th>f1</th>\n",
       "      <th>method</th>\n",
       "      <th>Model + Method</th>\n",
       "    </tr>\n",
       "  </thead>\n",
       "  <tbody>\n",
       "    <tr>\n",
       "      <th>3</th>\n",
       "      <td>knn</td>\n",
       "      <td>0.781832</td>\n",
       "      <td>0.773160</td>\n",
       "      <td>0.713187</td>\n",
       "      <td>0.767734</td>\n",
       "      <td>0.740148</td>\n",
       "      <td>scaler_best</td>\n",
       "      <td>knn scaler_best</td>\n",
       "    </tr>\n",
       "    <tr>\n",
       "      <th>3</th>\n",
       "      <td>knn</td>\n",
       "      <td>0.786886</td>\n",
       "      <td>0.773160</td>\n",
       "      <td>0.713187</td>\n",
       "      <td>0.767734</td>\n",
       "      <td>0.740148</td>\n",
       "      <td>k best</td>\n",
       "      <td>knn k best</td>\n",
       "    </tr>\n",
       "    <tr>\n",
       "      <th>1</th>\n",
       "      <td>rf</td>\n",
       "      <td>0.760925</td>\n",
       "      <td>0.772634</td>\n",
       "      <td>0.712088</td>\n",
       "      <td>0.767241</td>\n",
       "      <td>0.737755</td>\n",
       "      <td>k best</td>\n",
       "      <td>rf k best</td>\n",
       "    </tr>\n",
       "    <tr>\n",
       "      <th>1</th>\n",
       "      <td>rf</td>\n",
       "      <td>0.760925</td>\n",
       "      <td>0.772634</td>\n",
       "      <td>0.712088</td>\n",
       "      <td>0.767241</td>\n",
       "      <td>0.737755</td>\n",
       "      <td>scaler_best</td>\n",
       "      <td>rf scaler_best</td>\n",
       "    </tr>\n",
       "    <tr>\n",
       "      <th>2</th>\n",
       "      <td>xgb</td>\n",
       "      <td>0.740737</td>\n",
       "      <td>0.749878</td>\n",
       "      <td>0.710989</td>\n",
       "      <td>0.753448</td>\n",
       "      <td>0.725119</td>\n",
       "      <td>scaler_best</td>\n",
       "      <td>xgb scaler_best</td>\n",
       "    </tr>\n",
       "    <tr>\n",
       "      <th>2</th>\n",
       "      <td>xgb</td>\n",
       "      <td>0.740737</td>\n",
       "      <td>0.749878</td>\n",
       "      <td>0.710989</td>\n",
       "      <td>0.753448</td>\n",
       "      <td>0.725119</td>\n",
       "      <td>k best</td>\n",
       "      <td>xgb k best</td>\n",
       "    </tr>\n",
       "    <tr>\n",
       "      <th>2</th>\n",
       "      <td>xgb</td>\n",
       "      <td>0.762674</td>\n",
       "      <td>0.725641</td>\n",
       "      <td>0.728571</td>\n",
       "      <td>0.747537</td>\n",
       "      <td>0.726657</td>\n",
       "      <td>raw_data</td>\n",
       "      <td>xgb raw_data</td>\n",
       "    </tr>\n",
       "    <tr>\n",
       "      <th>0</th>\n",
       "      <td>lr</td>\n",
       "      <td>0.784158</td>\n",
       "      <td>0.732684</td>\n",
       "      <td>0.728571</td>\n",
       "      <td>0.746305</td>\n",
       "      <td>0.727153</td>\n",
       "      <td>k best</td>\n",
       "      <td>lr k best</td>\n",
       "    </tr>\n",
       "    <tr>\n",
       "      <th>4</th>\n",
       "      <td>svm</td>\n",
       "      <td>0.779908</td>\n",
       "      <td>0.770340</td>\n",
       "      <td>0.651648</td>\n",
       "      <td>0.746305</td>\n",
       "      <td>0.699410</td>\n",
       "      <td>scaler_best</td>\n",
       "      <td>svm scaler_best</td>\n",
       "    </tr>\n",
       "    <tr>\n",
       "      <th>4</th>\n",
       "      <td>svm</td>\n",
       "      <td>0.782527</td>\n",
       "      <td>0.770340</td>\n",
       "      <td>0.651648</td>\n",
       "      <td>0.746305</td>\n",
       "      <td>0.699410</td>\n",
       "      <td>k best</td>\n",
       "      <td>svm k best</td>\n",
       "    </tr>\n",
       "  </tbody>\n",
       "</table>\n",
       "</div>"
      ],
      "text/plain": [
       "  models   roc_auc  precision    recall  accuracy        f1       method  \\\n",
       "3    knn  0.781832   0.773160  0.713187  0.767734  0.740148  scaler_best   \n",
       "3    knn  0.786886   0.773160  0.713187  0.767734  0.740148       k best   \n",
       "1     rf  0.760925   0.772634  0.712088  0.767241  0.737755       k best   \n",
       "1     rf  0.760925   0.772634  0.712088  0.767241  0.737755  scaler_best   \n",
       "2    xgb  0.740737   0.749878  0.710989  0.753448  0.725119  scaler_best   \n",
       "2    xgb  0.740737   0.749878  0.710989  0.753448  0.725119       k best   \n",
       "2    xgb  0.762674   0.725641  0.728571  0.747537  0.726657     raw_data   \n",
       "0     lr  0.784158   0.732684  0.728571  0.746305  0.727153       k best   \n",
       "4    svm  0.779908   0.770340  0.651648  0.746305  0.699410  scaler_best   \n",
       "4    svm  0.782527   0.770340  0.651648  0.746305  0.699410       k best   \n",
       "\n",
       "    Model + Method  \n",
       "3  knn scaler_best  \n",
       "3       knn k best  \n",
       "1        rf k best  \n",
       "1   rf scaler_best  \n",
       "2  xgb scaler_best  \n",
       "2       xgb k best  \n",
       "2     xgb raw_data  \n",
       "0        lr k best  \n",
       "4  svm scaler_best  \n",
       "4       svm k best  "
      ]
     },
     "execution_count": 31,
     "metadata": {},
     "output_type": "execute_result"
    }
   ],
   "source": [
    "best_accuracy = score_df_all.sort_values(by='accuracy', ascending=False).head(10)\n",
    "best_accuracy['Model + Method'] = best_accuracy['models'] + \" \" + best_accuracy['method']\n",
    "\n",
    "plt.figure(figsize=(10, 7))\n",
    "ax = sns.barplot(data=best_accuracy, x='Model + Method', y = 'accuracy')\n",
    "\n",
    "ax.bar_label(ax.containers[0], fmt='%.3f', fontsize=18)\n",
    "plt.grid()\n",
    "plt.xticks(rotation=45, fontsize=18)\n",
    "plt.yticks(fontsize=18)\n",
    "plt.xlabel('Method + model', fontsize=22)\n",
    "plt.ylabel('Accuracy', fontsize=22)\n",
    "plt.ylim(0.74, 0.78)\n",
    "plt.show()\n",
    "\n",
    "best_accuracy"
   ]
  },
  {
   "cell_type": "code",
   "execution_count": 42,
   "metadata": {},
   "outputs": [
    {
     "data": {
      "image/png": "[encoded data removed]",
      "text/plain": [
       "<Figure size 720x504 with 1 Axes>"
      ]
     },
     "metadata": {
      "needs_background": "light"
     },
     "output_type": "display_data"
    },
    {
     "data": {
      "text/html": [
       "<div>\n",
       "<style scoped>\n",
       "    .dataframe tbody tr th:only-of-type {\n",
       "        vertical-align: middle;\n",
       "    }\n",
       "\n",
       "    .dataframe tbody tr th {\n",
       "        vertical-align: top;\n",
       "    }\n",
       "\n",
       "    .dataframe thead th {\n",
       "        text-align: right;\n",
       "    }\n",
       "</style>\n",
       "<table border=\"1\" class=\"dataframe\">\n",
       "  <thead>\n",
       "    <tr style=\"text-align: right;\">\n",
       "      <th></th>\n",
       "      <th>models</th>\n",
       "      <th>roc_auc</th>\n",
       "      <th>precision</th>\n",
       "      <th>recall</th>\n",
       "      <th>accuracy</th>\n",
       "      <th>f1</th>\n",
       "      <th>method</th>\n",
       "      <th>Model + Method</th>\n",
       "    </tr>\n",
       "  </thead>\n",
       "  <tbody>\n",
       "    <tr>\n",
       "      <th>0</th>\n",
       "      <td>rf</td>\n",
       "      <td>0.797422</td>\n",
       "      <td>0.741414</td>\n",
       "      <td>0.713187</td>\n",
       "      <td>0.738670</td>\n",
       "      <td>0.716065</td>\n",
       "      <td>k best all</td>\n",
       "      <td>rf k best</td>\n",
       "    </tr>\n",
       "    <tr>\n",
       "      <th>1</th>\n",
       "      <td>xgb</td>\n",
       "      <td>0.797248</td>\n",
       "      <td>0.750361</td>\n",
       "      <td>0.667033</td>\n",
       "      <td>0.739409</td>\n",
       "      <td>0.700902</td>\n",
       "      <td>k best all</td>\n",
       "      <td>xgb k best</td>\n",
       "    </tr>\n",
       "    <tr>\n",
       "      <th>2</th>\n",
       "      <td>knn</td>\n",
       "      <td>0.786886</td>\n",
       "      <td>0.773160</td>\n",
       "      <td>0.713187</td>\n",
       "      <td>0.767734</td>\n",
       "      <td>0.740148</td>\n",
       "      <td>k best</td>\n",
       "      <td>xgb scaler_best</td>\n",
       "    </tr>\n",
       "    <tr>\n",
       "      <th>3</th>\n",
       "      <td>lr</td>\n",
       "      <td>0.784158</td>\n",
       "      <td>0.732684</td>\n",
       "      <td>0.728571</td>\n",
       "      <td>0.746305</td>\n",
       "      <td>0.727153</td>\n",
       "      <td>k best</td>\n",
       "      <td>knn scaler_best</td>\n",
       "    </tr>\n",
       "    <tr>\n",
       "      <th>4</th>\n",
       "      <td>svm</td>\n",
       "      <td>0.782527</td>\n",
       "      <td>0.770340</td>\n",
       "      <td>0.651648</td>\n",
       "      <td>0.746305</td>\n",
       "      <td>0.699410</td>\n",
       "      <td>k best</td>\n",
       "      <td>knn k best</td>\n",
       "    </tr>\n",
       "    <tr>\n",
       "      <th>5</th>\n",
       "      <td>knn</td>\n",
       "      <td>0.781832</td>\n",
       "      <td>0.773160</td>\n",
       "      <td>0.713187</td>\n",
       "      <td>0.767734</td>\n",
       "      <td>0.740148</td>\n",
       "      <td>scaler_best</td>\n",
       "      <td>knn raw_data</td>\n",
       "    </tr>\n",
       "    <tr>\n",
       "      <th>6</th>\n",
       "      <td>svm</td>\n",
       "      <td>0.779908</td>\n",
       "      <td>0.770340</td>\n",
       "      <td>0.651648</td>\n",
       "      <td>0.746305</td>\n",
       "      <td>0.699410</td>\n",
       "      <td>scaler_best</td>\n",
       "      <td>lr scaler_best</td>\n",
       "    </tr>\n",
       "    <tr>\n",
       "      <th>7</th>\n",
       "      <td>lr</td>\n",
       "      <td>0.772949</td>\n",
       "      <td>0.721146</td>\n",
       "      <td>0.728571</td>\n",
       "      <td>0.739163</td>\n",
       "      <td>0.721615</td>\n",
       "      <td>scaler_best</td>\n",
       "      <td>lr k best</td>\n",
       "    </tr>\n",
       "    <tr>\n",
       "      <th>8</th>\n",
       "      <td>rf</td>\n",
       "      <td>0.768736</td>\n",
       "      <td>0.712704</td>\n",
       "      <td>0.591209</td>\n",
       "      <td>0.697044</td>\n",
       "      <td>0.642081</td>\n",
       "      <td>raw_data</td>\n",
       "      <td>svm scaler_best</td>\n",
       "    </tr>\n",
       "    <tr>\n",
       "      <th>9</th>\n",
       "      <td>rf</td>\n",
       "      <td>0.765980</td>\n",
       "      <td>0.743074</td>\n",
       "      <td>0.619780</td>\n",
       "      <td>0.716995</td>\n",
       "      <td>0.670804</td>\n",
       "      <td>cp_decomp_adj</td>\n",
       "      <td>svm k best</td>\n",
       "    </tr>\n",
       "  </tbody>\n",
       "</table>\n",
       "</div>"
      ],
      "text/plain": [
       "  models   roc_auc  precision    recall  accuracy        f1         method  \\\n",
       "0     rf  0.797422   0.741414  0.713187  0.738670  0.716065     k best all   \n",
       "1    xgb  0.797248   0.750361  0.667033  0.739409  0.700902     k best all   \n",
       "2    knn  0.786886   0.773160  0.713187  0.767734  0.740148         k best   \n",
       "3     lr  0.784158   0.732684  0.728571  0.746305  0.727153         k best   \n",
       "4    svm  0.782527   0.770340  0.651648  0.746305  0.699410         k best   \n",
       "5    knn  0.781832   0.773160  0.713187  0.767734  0.740148    scaler_best   \n",
       "6    svm  0.779908   0.770340  0.651648  0.746305  0.699410    scaler_best   \n",
       "7     lr  0.772949   0.721146  0.728571  0.739163  0.721615    scaler_best   \n",
       "8     rf  0.768736   0.712704  0.591209  0.697044  0.642081       raw_data   \n",
       "9     rf  0.765980   0.743074  0.619780  0.716995  0.670804  cp_decomp_adj   \n",
       "\n",
       "    Model + Method  \n",
       "0        rf k best  \n",
       "1       xgb k best  \n",
       "2  xgb scaler_best  \n",
       "3  knn scaler_best  \n",
       "4       knn k best  \n",
       "5     knn raw_data  \n",
       "6   lr scaler_best  \n",
       "7        lr k best  \n",
       "8  svm scaler_best  \n",
       "9       svm k best  "
      ]
     },
     "execution_count": 42,
     "metadata": {},
     "output_type": "execute_result"
    }
   ],
   "source": [
    "best_roc_auc = score_df_all.sort_values(by='roc_auc', ascending=False).head(10).reset_index(drop=True)\n",
    "best_roc_auc['Model + Method'] = (best_roc_auc['models'] + \" \" + best_accuracy['method']).reset_index(drop=True)\n",
    "\n",
    "plt.figure(figsize=(10, 7))\n",
    "ax = sns.barplot(data=best_roc_auc, x='Model + Method', y = 'roc_auc')\n",
    "\n",
    "ax.bar_label(ax.containers[0], fmt='%.3f', fontsize=18)\n",
    "plt.grid()\n",
    "plt.xticks(rotation=45, fontsize=18)\n",
    "plt.yticks(fontsize=18)\n",
    "plt.xlabel('Method + model', fontsize=22)\n",
    "plt.ylabel('ROC-AUC', fontsize=22)\n",
    "plt.ylim(0.76, 0.82)\n",
    "plt.show()\n",
    "\n",
    "best_roc_auc"
   ]
  },
  {
   "cell_type": "code",
   "execution_count": 43,
   "metadata": {},
   "outputs": [
    {
     "data": {
      "text/html": [
       "<div>\n",
       "<style scoped>\n",
       "    .dataframe tbody tr th:only-of-type {\n",
       "        vertical-align: middle;\n",
       "    }\n",
       "\n",
       "    .dataframe tbody tr th {\n",
       "        vertical-align: top;\n",
       "    }\n",
       "\n",
       "    .dataframe thead th {\n",
       "        text-align: right;\n",
       "    }\n",
       "</style>\n",
       "<table border=\"1\" class=\"dataframe\">\n",
       "  <thead>\n",
       "    <tr style=\"text-align: right;\">\n",
       "      <th></th>\n",
       "      <th>models</th>\n",
       "      <th>roc_auc</th>\n",
       "      <th>precision</th>\n",
       "      <th>recall</th>\n",
       "      <th>accuracy</th>\n",
       "      <th>f1</th>\n",
       "      <th>method</th>\n",
       "      <th>Model + Method</th>\n",
       "    </tr>\n",
       "  </thead>\n",
       "  <tbody>\n",
       "    <tr>\n",
       "      <th>0</th>\n",
       "      <td>rf</td>\n",
       "      <td>0.797422</td>\n",
       "      <td>0.741414</td>\n",
       "      <td>0.713187</td>\n",
       "      <td>0.738670</td>\n",
       "      <td>0.716065</td>\n",
       "      <td>k best all</td>\n",
       "      <td>rf k best</td>\n",
       "    </tr>\n",
       "    <tr>\n",
       "      <th>1</th>\n",
       "      <td>xgb</td>\n",
       "      <td>0.797248</td>\n",
       "      <td>0.750361</td>\n",
       "      <td>0.667033</td>\n",
       "      <td>0.739409</td>\n",
       "      <td>0.700902</td>\n",
       "      <td>k best all</td>\n",
       "      <td>xgb k best</td>\n",
       "    </tr>\n",
       "    <tr>\n",
       "      <th>2</th>\n",
       "      <td>knn</td>\n",
       "      <td>0.786886</td>\n",
       "      <td>0.773160</td>\n",
       "      <td>0.713187</td>\n",
       "      <td>0.767734</td>\n",
       "      <td>0.740148</td>\n",
       "      <td>k best</td>\n",
       "      <td>xgb scaler_best</td>\n",
       "    </tr>\n",
       "    <tr>\n",
       "      <th>3</th>\n",
       "      <td>lr</td>\n",
       "      <td>0.784158</td>\n",
       "      <td>0.732684</td>\n",
       "      <td>0.728571</td>\n",
       "      <td>0.746305</td>\n",
       "      <td>0.727153</td>\n",
       "      <td>k best</td>\n",
       "      <td>knn scaler_best</td>\n",
       "    </tr>\n",
       "    <tr>\n",
       "      <th>4</th>\n",
       "      <td>svm</td>\n",
       "      <td>0.782527</td>\n",
       "      <td>0.770340</td>\n",
       "      <td>0.651648</td>\n",
       "      <td>0.746305</td>\n",
       "      <td>0.699410</td>\n",
       "      <td>k best</td>\n",
       "      <td>knn k best</td>\n",
       "    </tr>\n",
       "    <tr>\n",
       "      <th>5</th>\n",
       "      <td>knn</td>\n",
       "      <td>0.781832</td>\n",
       "      <td>0.773160</td>\n",
       "      <td>0.713187</td>\n",
       "      <td>0.767734</td>\n",
       "      <td>0.740148</td>\n",
       "      <td>scaler_best</td>\n",
       "      <td>knn raw_data</td>\n",
       "    </tr>\n",
       "    <tr>\n",
       "      <th>6</th>\n",
       "      <td>svm</td>\n",
       "      <td>0.779908</td>\n",
       "      <td>0.770340</td>\n",
       "      <td>0.651648</td>\n",
       "      <td>0.746305</td>\n",
       "      <td>0.699410</td>\n",
       "      <td>scaler_best</td>\n",
       "      <td>lr scaler_best</td>\n",
       "    </tr>\n",
       "    <tr>\n",
       "      <th>7</th>\n",
       "      <td>lr</td>\n",
       "      <td>0.772949</td>\n",
       "      <td>0.721146</td>\n",
       "      <td>0.728571</td>\n",
       "      <td>0.739163</td>\n",
       "      <td>0.721615</td>\n",
       "      <td>scaler_best</td>\n",
       "      <td>lr k best</td>\n",
       "    </tr>\n",
       "    <tr>\n",
       "      <th>8</th>\n",
       "      <td>rf</td>\n",
       "      <td>0.768736</td>\n",
       "      <td>0.712704</td>\n",
       "      <td>0.591209</td>\n",
       "      <td>0.697044</td>\n",
       "      <td>0.642081</td>\n",
       "      <td>raw_data</td>\n",
       "      <td>svm scaler_best</td>\n",
       "    </tr>\n",
       "    <tr>\n",
       "      <th>9</th>\n",
       "      <td>rf</td>\n",
       "      <td>0.765980</td>\n",
       "      <td>0.743074</td>\n",
       "      <td>0.619780</td>\n",
       "      <td>0.716995</td>\n",
       "      <td>0.670804</td>\n",
       "      <td>cp_decomp_adj</td>\n",
       "      <td>svm k best</td>\n",
       "    </tr>\n",
       "  </tbody>\n",
       "</table>\n",
       "</div>"
      ],
      "text/plain": [
       "  models   roc_auc  precision    recall  accuracy        f1         method  \\\n",
       "0     rf  0.797422   0.741414  0.713187  0.738670  0.716065     k best all   \n",
       "1    xgb  0.797248   0.750361  0.667033  0.739409  0.700902     k best all   \n",
       "2    knn  0.786886   0.773160  0.713187  0.767734  0.740148         k best   \n",
       "3     lr  0.784158   0.732684  0.728571  0.746305  0.727153         k best   \n",
       "4    svm  0.782527   0.770340  0.651648  0.746305  0.699410         k best   \n",
       "5    knn  0.781832   0.773160  0.713187  0.767734  0.740148    scaler_best   \n",
       "6    svm  0.779908   0.770340  0.651648  0.746305  0.699410    scaler_best   \n",
       "7     lr  0.772949   0.721146  0.728571  0.739163  0.721615    scaler_best   \n",
       "8     rf  0.768736   0.712704  0.591209  0.697044  0.642081       raw_data   \n",
       "9     rf  0.765980   0.743074  0.619780  0.716995  0.670804  cp_decomp_adj   \n",
       "\n",
       "    Model + Method  \n",
       "0        rf k best  \n",
       "1       xgb k best  \n",
       "2  xgb scaler_best  \n",
       "3  knn scaler_best  \n",
       "4       knn k best  \n",
       "5     knn raw_data  \n",
       "6   lr scaler_best  \n",
       "7        lr k best  \n",
       "8  svm scaler_best  \n",
       "9       svm k best  "
      ]
     },
     "execution_count": 43,
     "metadata": {},
     "output_type": "execute_result"
    }
   ],
   "source": [
    "best_roc_auc"
   ]
  },
  {
   "cell_type": "code",
   "execution_count": 44,
   "metadata": {},
   "outputs": [
    {
     "data": {
      "image/png": "[encoded data removed]",
      "text/plain": [
       "<Figure size 720x504 with 1 Axes>"
      ]
     },
     "metadata": {
      "needs_background": "light"
     },
     "output_type": "display_data"
    }
   ],
   "source": [
    "plt.figure(figsize=(10, 7))\n",
    "ax = sns.barplot(data=best_accuracy, x='Model + Method', y = 'accuracy')\n",
    "\n",
    "ax.bar_label(ax.containers[0], fmt='%.3f', fontsize=18)\n",
    "plt.grid()\n",
    "plt.xticks(rotation=45, fontsize=18)\n",
    "plt.yticks(fontsize=18)\n",
    "plt.xlabel('Method + model', fontsize=22)\n",
    "plt.ylabel('Accuracy', fontsize=22)\n",
    "plt.ylim(0.74, 0.78)\n",
    "plt.show()"
   ]
  },
  {
   "cell_type": "code",
   "execution_count": 45,
   "metadata": {},
   "outputs": [
    {
     "data": {
      "text/html": [
       "<div>\n",
       "<style scoped>\n",
       "    .dataframe tbody tr th:only-of-type {\n",
       "        vertical-align: middle;\n",
       "    }\n",
       "\n",
       "    .dataframe tbody tr th {\n",
       "        vertical-align: top;\n",
       "    }\n",
       "\n",
       "    .dataframe thead th {\n",
       "        text-align: right;\n",
       "    }\n",
       "</style>\n",
       "<table border=\"1\" class=\"dataframe\">\n",
       "  <thead>\n",
       "    <tr style=\"text-align: right;\">\n",
       "      <th></th>\n",
       "      <th>method</th>\n",
       "      <th>models</th>\n",
       "      <th>accuracy</th>\n",
       "      <th>roc_auc</th>\n",
       "      <th>f1</th>\n",
       "      <th>precision</th>\n",
       "      <th>recall</th>\n",
       "    </tr>\n",
       "  </thead>\n",
       "  <tbody>\n",
       "    <tr>\n",
       "      <th>3</th>\n",
       "      <td>k best</td>\n",
       "      <td>knn</td>\n",
       "      <td>0.767734</td>\n",
       "      <td>0.786886</td>\n",
       "      <td>0.740148</td>\n",
       "      <td>0.773160</td>\n",
       "      <td>0.713187</td>\n",
       "    </tr>\n",
       "    <tr>\n",
       "      <th>3</th>\n",
       "      <td>scaler_best</td>\n",
       "      <td>knn</td>\n",
       "      <td>0.767734</td>\n",
       "      <td>0.781832</td>\n",
       "      <td>0.740148</td>\n",
       "      <td>0.773160</td>\n",
       "      <td>0.713187</td>\n",
       "    </tr>\n",
       "    <tr>\n",
       "      <th>2</th>\n",
       "      <td>raw_data</td>\n",
       "      <td>xgb</td>\n",
       "      <td>0.747537</td>\n",
       "      <td>0.762674</td>\n",
       "      <td>0.726657</td>\n",
       "      <td>0.725641</td>\n",
       "      <td>0.728571</td>\n",
       "    </tr>\n",
       "    <tr>\n",
       "      <th>2</th>\n",
       "      <td>k best all</td>\n",
       "      <td>xgb</td>\n",
       "      <td>0.739409</td>\n",
       "      <td>0.797248</td>\n",
       "      <td>0.700902</td>\n",
       "      <td>0.750361</td>\n",
       "      <td>0.667033</td>\n",
       "    </tr>\n",
       "    <tr>\n",
       "      <th>2</th>\n",
       "      <td>cp_decomp_L</td>\n",
       "      <td>xgb</td>\n",
       "      <td>0.732759</td>\n",
       "      <td>0.741703</td>\n",
       "      <td>0.702232</td>\n",
       "      <td>0.742998</td>\n",
       "      <td>0.683516</td>\n",
       "    </tr>\n",
       "    <tr>\n",
       "      <th>2</th>\n",
       "      <td>cp_decomp_L_sex</td>\n",
       "      <td>xgb</td>\n",
       "      <td>0.732759</td>\n",
       "      <td>0.741703</td>\n",
       "      <td>0.702232</td>\n",
       "      <td>0.742998</td>\n",
       "      <td>0.683516</td>\n",
       "    </tr>\n",
       "    <tr>\n",
       "      <th>2</th>\n",
       "      <td>tucker_decomp_L_sex</td>\n",
       "      <td>xgb</td>\n",
       "      <td>0.732759</td>\n",
       "      <td>0.741703</td>\n",
       "      <td>0.702232</td>\n",
       "      <td>0.742998</td>\n",
       "      <td>0.683516</td>\n",
       "    </tr>\n",
       "    <tr>\n",
       "      <th>1</th>\n",
       "      <td>cp_decomp_adj</td>\n",
       "      <td>rf</td>\n",
       "      <td>0.716995</td>\n",
       "      <td>0.765980</td>\n",
       "      <td>0.670804</td>\n",
       "      <td>0.743074</td>\n",
       "      <td>0.619780</td>\n",
       "    </tr>\n",
       "    <tr>\n",
       "      <th>2</th>\n",
       "      <td>pca</td>\n",
       "      <td>xgb</td>\n",
       "      <td>0.704187</td>\n",
       "      <td>0.707299</td>\n",
       "      <td>0.657791</td>\n",
       "      <td>0.730144</td>\n",
       "      <td>0.605495</td>\n",
       "    </tr>\n",
       "    <tr>\n",
       "      <th>2</th>\n",
       "      <td>tucker_decomp_adj</td>\n",
       "      <td>xgb</td>\n",
       "      <td>0.703202</td>\n",
       "      <td>0.744982</td>\n",
       "      <td>0.659043</td>\n",
       "      <td>0.701010</td>\n",
       "      <td>0.632967</td>\n",
       "    </tr>\n",
       "    <tr>\n",
       "      <th>2</th>\n",
       "      <td>tucker_decomp_L</td>\n",
       "      <td>xgb</td>\n",
       "      <td>0.703202</td>\n",
       "      <td>0.717234</td>\n",
       "      <td>0.664823</td>\n",
       "      <td>0.704755</td>\n",
       "      <td>0.636264</td>\n",
       "    </tr>\n",
       "    <tr>\n",
       "      <th>2</th>\n",
       "      <td>cp_decomp_adj_sex</td>\n",
       "      <td>xgb</td>\n",
       "      <td>0.674877</td>\n",
       "      <td>0.686264</td>\n",
       "      <td>0.641607</td>\n",
       "      <td>0.672597</td>\n",
       "      <td>0.618681</td>\n",
       "    </tr>\n",
       "    <tr>\n",
       "      <th>2</th>\n",
       "      <td>tucker_decomp_adj_sex</td>\n",
       "      <td>xgb</td>\n",
       "      <td>0.674877</td>\n",
       "      <td>0.686264</td>\n",
       "      <td>0.641607</td>\n",
       "      <td>0.672597</td>\n",
       "      <td>0.618681</td>\n",
       "    </tr>\n",
       "    <tr>\n",
       "      <th>2</th>\n",
       "      <td>spect_L</td>\n",
       "      <td>xgb</td>\n",
       "      <td>0.662315</td>\n",
       "      <td>0.680224</td>\n",
       "      <td>0.603615</td>\n",
       "      <td>0.671865</td>\n",
       "      <td>0.562637</td>\n",
       "    </tr>\n",
       "  </tbody>\n",
       "</table>\n",
       "</div>"
      ],
      "text/plain": [
       "                  method models  accuracy   roc_auc        f1  precision  \\\n",
       "3                 k best    knn  0.767734  0.786886  0.740148   0.773160   \n",
       "3            scaler_best    knn  0.767734  0.781832  0.740148   0.773160   \n",
       "2               raw_data    xgb  0.747537  0.762674  0.726657   0.725641   \n",
       "2             k best all    xgb  0.739409  0.797248  0.700902   0.750361   \n",
       "2            cp_decomp_L    xgb  0.732759  0.741703  0.702232   0.742998   \n",
       "2        cp_decomp_L_sex    xgb  0.732759  0.741703  0.702232   0.742998   \n",
       "2    tucker_decomp_L_sex    xgb  0.732759  0.741703  0.702232   0.742998   \n",
       "1          cp_decomp_adj     rf  0.716995  0.765980  0.670804   0.743074   \n",
       "2                    pca    xgb  0.704187  0.707299  0.657791   0.730144   \n",
       "2      tucker_decomp_adj    xgb  0.703202  0.744982  0.659043   0.701010   \n",
       "2        tucker_decomp_L    xgb  0.703202  0.717234  0.664823   0.704755   \n",
       "2      cp_decomp_adj_sex    xgb  0.674877  0.686264  0.641607   0.672597   \n",
       "2  tucker_decomp_adj_sex    xgb  0.674877  0.686264  0.641607   0.672597   \n",
       "2                spect_L    xgb  0.662315  0.680224  0.603615   0.671865   \n",
       "\n",
       "     recall  \n",
       "3  0.713187  \n",
       "3  0.713187  \n",
       "2  0.728571  \n",
       "2  0.667033  \n",
       "2  0.683516  \n",
       "2  0.683516  \n",
       "2  0.683516  \n",
       "1  0.619780  \n",
       "2  0.605495  \n",
       "2  0.632967  \n",
       "2  0.636264  \n",
       "2  0.618681  \n",
       "2  0.618681  \n",
       "2  0.562637  "
      ]
     },
     "execution_count": 45,
     "metadata": {},
     "output_type": "execute_result"
    }
   ],
   "source": [
    "idx = score_df_all.groupby(['method'])['accuracy'].transform(max) == score_df_all['accuracy']\n",
    "best_per_method = score_df_all[idx].sort_values(by='accuracy', ascending=False)\n",
    "best_per_method = best_per_method[['method', 'models', 'accuracy', 'roc_auc', 'f1', 'precision', 'recall']]\n",
    "best_per_method.to_excel('best_methods.xlsx')\n",
    "best_per_method"
   ]
  },
  {
   "cell_type": "code",
   "execution_count": null,
   "metadata": {},
   "outputs": [],
   "source": []
  }
 ],
 "metadata": {
  "colab": {
   "provenance": [],
   "toc_visible": true
  },
  "kernelspec": {
   "display_name": "Python 3",
   "language": "python",
   "name": "python3"
  },
  "language_info": {
   "codemirror_mode": {
    "name": "ipython",
    "version": 3
   },
   "file_extension": ".py",
   "mimetype": "text/x-python",
   "name": "python",
   "nbconvert_exporter": "python",
   "pygments_lexer": "ipython3",
   "version": "3.8.8"
  },
  "widgets": {
   "application/vnd.jupyter.widget-state+json": {
    "state": {
     "01c6bf8749ad4dbfaf9423effc542438": {
      "model_module": "@jupyter-widgets/controls",
      "model_module_version": "1.5.0",
      "model_name": "FloatProgressModel",
      "state": {
       "bar_style": "success",
       "layout": "IPY_MODEL_52820c0a807248ea8b86a5900a5613f2",
       "max": 5,
       "style": "IPY_MODEL_a90439b9af1b4183adb8000d22128269",
       "value": 5
      }
     },
     "0200cb8616aa4ee7bff87989fd194ae5": {
      "model_module": "@jupyter-widgets/base",
      "model_module_version": "1.2.0",
      "model_name": "LayoutModel",
      "state": {}
     },
     "027b2edfdf14453b8d67a5dfc00b9d2a": {
      "model_module": "@jupyter-widgets/controls",
      "model_module_version": "1.5.0",
      "model_name": "DescriptionStyleModel",
      "state": {
       "description_width": ""
      }
     },
     "03e35e688931426abc2222fc5290df0a": {
      "model_module": "@jupyter-widgets/controls",
      "model_module_version": "1.5.0",
      "model_name": "HTMLModel",
      "state": {
       "layout": "IPY_MODEL_26248555e56849b29267777c40c061f5",
       "style": "IPY_MODEL_55418fec8a814b2b977d8d21bcc19862",
       "value": "100%"
      }
     },
     "06be184f7c3746809adecbb6b6465dcc": {
      "model_module": "@jupyter-widgets/controls",
      "model_module_version": "1.5.0",
      "model_name": "FloatProgressModel",
      "state": {
       "bar_style": "success",
       "layout": "IPY_MODEL_4a94c9e4c1e543d98f3fef7092cf86e4",
       "max": 5,
       "style": "IPY_MODEL_c62f9db773534ca18cf599df0f4049a2",
       "value": 5
      }
     },
     "07e8e985b5b6474eac05deed6ac157aa": {
      "model_module": "@jupyter-widgets/base",
      "model_module_version": "1.2.0",
      "model_name": "LayoutModel",
      "state": {}
     },
     "08926aa46e6346a987acbf7acf341ff3": {
      "model_module": "@jupyter-widgets/base",
      "model_module_version": "1.2.0",
      "model_name": "LayoutModel",
      "state": {}
     },
     "09213cac742b4bc58b82bc4366b88924": {
      "model_module": "@jupyter-widgets/base",
      "model_module_version": "1.2.0",
      "model_name": "LayoutModel",
      "state": {}
     },
     "09269308c37e46419b39f48d248e8fdc": {
      "model_module": "@jupyter-widgets/controls",
      "model_module_version": "1.5.0",
      "model_name": "HTMLModel",
      "state": {
       "layout": "IPY_MODEL_4ff3bf1593df4213b2e49b8e646dd689",
       "style": "IPY_MODEL_9c14918ddff042a0a24163ef793a186e",
       "value": "100%"
      }
     },
     "09c1d51f426943c7a91e226a69f987d8": {
      "model_module": "@jupyter-widgets/controls",
      "model_module_version": "1.5.0",
      "model_name": "HTMLModel",
      "state": {
       "layout": "IPY_MODEL_0b4753b00f8e46318c471438d5e4935c",
       "style": "IPY_MODEL_9848049a0bc341e7b0f6736f5dbb9f2d",
       "value": "100%"
      }
     },
     "09d509802e4545e495dfd620aeb1f858": {
      "model_module": "@jupyter-widgets/controls",
      "model_module_version": "1.5.0",
      "model_name": "ProgressStyleModel",
      "state": {
       "description_width": ""
      }
     },
     "0b1c7998393f4e6abdd529802d62c6ed": {
      "model_module": "@jupyter-widgets/base",
      "model_module_version": "1.2.0",
      "model_name": "LayoutModel",
      "state": {}
     },
     "0b4753b00f8e46318c471438d5e4935c": {
      "model_module": "@jupyter-widgets/base",
      "model_module_version": "1.2.0",
      "model_name": "LayoutModel",
      "state": {}
     },
     "0b6a835057d7480998162043f7b66d1b": {
      "model_module": "@jupyter-widgets/base",
      "model_module_version": "1.2.0",
      "model_name": "LayoutModel",
      "state": {}
     },
     "0bf90df9b52e4837a3e9d9477bda8a80": {
      "model_module": "@jupyter-widgets/controls",
      "model_module_version": "1.5.0",
      "model_name": "DescriptionStyleModel",
      "state": {
       "description_width": ""
      }
     },
     "0c29132ae90146f8aabe09ea85de1fa7": {
      "model_module": "@jupyter-widgets/controls",
      "model_module_version": "1.5.0",
      "model_name": "DescriptionStyleModel",
      "state": {
       "description_width": ""
      }
     },
     "0d47a13cbcb3406f923e74a351928b9a": {
      "model_module": "@jupyter-widgets/controls",
      "model_module_version": "1.5.0",
      "model_name": "FloatProgressModel",
      "state": {
       "bar_style": "success",
       "layout": "IPY_MODEL_2b6eed77c381452d86448fd97f3e40bf",
       "max": 5,
       "style": "IPY_MODEL_61335a0f919245668ee81fb42a7c510b",
       "value": 5
      }
     },
     "0d9758a6921e4621945e082ae1e594bc": {
      "model_module": "@jupyter-widgets/controls",
      "model_module_version": "1.5.0",
      "model_name": "HBoxModel",
      "state": {
       "children": [
        "IPY_MODEL_a36aa0cc3c544e2ab8f0a66780fda894",
        "IPY_MODEL_d7dbeea2a8ba4b1898974f7e6742edf1",
        "IPY_MODEL_5dea785c415341d7979e44af258e0194"
       ],
       "layout": "IPY_MODEL_b66427e672804cf5895421ca93aaa426"
      }
     },
     "0ed44ec80b2a413392199bc06e7c66ce": {
      "model_module": "@jupyter-widgets/controls",
      "model_module_version": "1.5.0",
      "model_name": "DescriptionStyleModel",
      "state": {
       "description_width": ""
      }
     },
     "0f2df4921305477099014ae31eb3c3e3": {
      "model_module": "@jupyter-widgets/base",
      "model_module_version": "1.2.0",
      "model_name": "LayoutModel",
      "state": {}
     },
     "0f736beff86d4826be6f76cf050906fa": {
      "model_module": "@jupyter-widgets/controls",
      "model_module_version": "1.5.0",
      "model_name": "HBoxModel",
      "state": {
       "children": [
        "IPY_MODEL_c82402e2a8c74bbe85731a8535cb6614",
        "IPY_MODEL_835d1bf10d5243888f61b5e12da674b5",
        "IPY_MODEL_2511b3ebf30a45aea8e3384cc6850719"
       ],
       "layout": "IPY_MODEL_298ca02286c34f0aa060ec5c525302de"
      }
     },
     "0fa0ef87be974d4e9e950c867b368151": {
      "model_module": "@jupyter-widgets/base",
      "model_module_version": "1.2.0",
      "model_name": "LayoutModel",
      "state": {}
     },
     "12257d2a18a64aca8d1a4f5d4ba4b782": {
      "model_module": "@jupyter-widgets/controls",
      "model_module_version": "1.5.0",
      "model_name": "ProgressStyleModel",
      "state": {
       "description_width": ""
      }
     },
     "125b4a09cb73405b93249226ebf53b21": {
      "model_module": "@jupyter-widgets/base",
      "model_module_version": "1.2.0",
      "model_name": "LayoutModel",
      "state": {}
     },
     "125d703f44df40dc81d4127660338555": {
      "model_module": "@jupyter-widgets/controls",
      "model_module_version": "1.5.0",
      "model_name": "HTMLModel",
      "state": {
       "layout": "IPY_MODEL_343a6327e9974025a942740d202c8a55",
       "style": "IPY_MODEL_65bc761f78ff42afae6e19e370e6a91d",
       "value": "100%"
      }
     },
     "127ad68f4237421c8d9b8c52797a349c": {
      "model_module": "@jupyter-widgets/controls",
      "model_module_version": "1.5.0",
      "model_name": "HTMLModel",
      "state": {
       "layout": "IPY_MODEL_0200cb8616aa4ee7bff87989fd194ae5",
       "style": "IPY_MODEL_9d9dec0ecd4c434da82a7aaf07a6a5cd",
       "value": " 5/5 [00:07&lt;00:00,  1.06s/it]"
      }
     },
     "139e0d46182a4299a47d21f176d25d98": {
      "model_module": "@jupyter-widgets/controls",
      "model_module_version": "1.5.0",
      "model_name": "DescriptionStyleModel",
      "state": {
       "description_width": ""
      }
     },
     "1442564cddfb45d682561627c2318bcd": {
      "model_module": "@jupyter-widgets/base",
      "model_module_version": "1.2.0",
      "model_name": "LayoutModel",
      "state": {}
     },
     "1493e69575d344c0bca707335f30ae72": {
      "model_module": "@jupyter-widgets/controls",
      "model_module_version": "1.5.0",
      "model_name": "HBoxModel",
      "state": {
       "children": [
        "IPY_MODEL_68466f06044a4b148cca6a0c8630a385",
        "IPY_MODEL_e5b2d172edbc478d910f15efada4e8c2",
        "IPY_MODEL_be83c259dd484d0081ec7f2eef4a380f"
       ],
       "layout": "IPY_MODEL_0b6a835057d7480998162043f7b66d1b"
      }
     },
     "1557b357e8a8478c92f175782387a813": {
      "model_module": "@jupyter-widgets/controls",
      "model_module_version": "1.5.0",
      "model_name": "DescriptionStyleModel",
      "state": {
       "description_width": ""
      }
     },
     "15873699753d4365830b2a4a91df4165": {
      "model_module": "@jupyter-widgets/controls",
      "model_module_version": "1.5.0",
      "model_name": "ProgressStyleModel",
      "state": {
       "description_width": ""
      }
     },
     "1606c45edfdb4309b461428473afa55d": {
      "model_module": "@jupyter-widgets/controls",
      "model_module_version": "1.5.0",
      "model_name": "HBoxModel",
      "state": {
       "children": [
        "IPY_MODEL_26abe1d275be4be5bcd17f241b7b9f99",
        "IPY_MODEL_e2d4cbe330c04b528706dc800311619f",
        "IPY_MODEL_58ad84202c944e899369fbb8cedae75f"
       ],
       "layout": "IPY_MODEL_08926aa46e6346a987acbf7acf341ff3"
      }
     },
     "1676b24612044e93aa6795fa01962594": {
      "model_module": "@jupyter-widgets/controls",
      "model_module_version": "1.5.0",
      "model_name": "DescriptionStyleModel",
      "state": {
       "description_width": ""
      }
     },
     "191c137423a74024815b0bb2f56c2cae": {
      "model_module": "@jupyter-widgets/base",
      "model_module_version": "1.2.0",
      "model_name": "LayoutModel",
      "state": {}
     },
     "1a1a1884774a47bb8f339f14838fbe61": {
      "model_module": "@jupyter-widgets/base",
      "model_module_version": "1.2.0",
      "model_name": "LayoutModel",
      "state": {}
     },
     "1a9a331d15bb46f1aa73df97cc6699ba": {
      "model_module": "@jupyter-widgets/controls",
      "model_module_version": "1.5.0",
      "model_name": "DescriptionStyleModel",
      "state": {
       "description_width": ""
      }
     },
     "1ad6955f4f9141a29ecb292c22fb1bf1": {
      "model_module": "@jupyter-widgets/base",
      "model_module_version": "1.2.0",
      "model_name": "LayoutModel",
      "state": {}
     },
     "1af61b80935349539a513d0bd9c47f79": {
      "model_module": "@jupyter-widgets/controls",
      "model_module_version": "1.5.0",
      "model_name": "HTMLModel",
      "state": {
       "layout": "IPY_MODEL_dab15b796d584afbae24b8c20278c118",
       "style": "IPY_MODEL_6ed9da4be51f4ca8a7fa07fce2bb0673",
       "value": " 5/5 [00:03&lt;00:00,  1.54it/s]"
      }
     },
     "1afe249ab9544f8c8f379bddb9e13bfc": {
      "model_module": "@jupyter-widgets/base",
      "model_module_version": "1.2.0",
      "model_name": "LayoutModel",
      "state": {}
     },
     "1b8d9359271941cf9a19f1c6c208fc9d": {
      "model_module": "@jupyter-widgets/controls",
      "model_module_version": "1.5.0",
      "model_name": "HTMLModel",
      "state": {
       "layout": "IPY_MODEL_ec35af8b3f1146caaf282118886899c3",
       "style": "IPY_MODEL_4e73ebcfcd8f4ca2bcfe05155b72519e",
       "value": "100%"
      }
     },
     "1df0bc469aa54fe09da22ec66a0fccb9": {
      "model_module": "@jupyter-widgets/controls",
      "model_module_version": "1.5.0",
      "model_name": "HBoxModel",
      "state": {
       "children": [
        "IPY_MODEL_6c2a8080563c4edd8788b77964b7b8cc",
        "IPY_MODEL_cfa8b727ad124485b3010ba20ad7103d",
        "IPY_MODEL_49b56824b23c4f4cb2614f8689b18708"
       ],
       "layout": "IPY_MODEL_0b1c7998393f4e6abdd529802d62c6ed"
      }
     },
     "1e78f5904fb34febaf69c286f3a8cb95": {
      "model_module": "@jupyter-widgets/controls",
      "model_module_version": "1.5.0",
      "model_name": "HTMLModel",
      "state": {
       "layout": "IPY_MODEL_b1633c0c972e44f084111bea58401479",
       "style": "IPY_MODEL_21e7c7f11d5e4857b52dc97555dfba70",
       "value": "100%"
      }
     },
     "1eddc1da991b4dd3a0ff3d66d9d95d90": {
      "model_module": "@jupyter-widgets/base",
      "model_module_version": "1.2.0",
      "model_name": "LayoutModel",
      "state": {}
     },
     "1fa97821b3984b94845aab5ff8d61dae": {
      "model_module": "@jupyter-widgets/controls",
      "model_module_version": "1.5.0",
      "model_name": "HBoxModel",
      "state": {
       "children": [
        "IPY_MODEL_451d3bd5813f4ef9b0fb46da9b448b71",
        "IPY_MODEL_cacb529331614d40bccdc2803937dd59",
        "IPY_MODEL_6d97a3dd306647fbb0e985cf0a367973"
       ],
       "layout": "IPY_MODEL_9a16db38dcee4de493c7f8ad00829b20"
      }
     },
     "1fb784402fec42dc9fa3e3b2faf74563": {
      "model_module": "@jupyter-widgets/controls",
      "model_module_version": "1.5.0",
      "model_name": "DescriptionStyleModel",
      "state": {
       "description_width": ""
      }
     },
     "20b56b361ee647a5b83400a9750a9a92": {
      "model_module": "@jupyter-widgets/controls",
      "model_module_version": "1.5.0",
      "model_name": "ProgressStyleModel",
      "state": {
       "description_width": ""
      }
     },
     "21e537b2937e48bdaa4f150c3ef196ff": {
      "model_module": "@jupyter-widgets/controls",
      "model_module_version": "1.5.0",
      "model_name": "HTMLModel",
      "state": {
       "layout": "IPY_MODEL_743f0d23218c4fe294709cd31ffaaf45",
       "style": "IPY_MODEL_8bc512514d0c4a4aad8373521d5ccda8",
       "value": "100%"
      }
     },
     "21e7c7f11d5e4857b52dc97555dfba70": {
      "model_module": "@jupyter-widgets/controls",
      "model_module_version": "1.5.0",
      "model_name": "DescriptionStyleModel",
      "state": {
       "description_width": ""
      }
     },
     "23492e85d7c24016917a80d50e3a4c80": {
      "model_module": "@jupyter-widgets/base",
      "model_module_version": "1.2.0",
      "model_name": "LayoutModel",
      "state": {}
     },
     "23b1957b65fb465a9389f2cd4f667ce1": {
      "model_module": "@jupyter-widgets/base",
      "model_module_version": "1.2.0",
      "model_name": "LayoutModel",
      "state": {}
     },
     "23bd53c80b0049d3b85ae9218f196a56": {
      "model_module": "@jupyter-widgets/controls",
      "model_module_version": "1.5.0",
      "model_name": "DescriptionStyleModel",
      "state": {
       "description_width": ""
      }
     },
     "2438a09b6f0c409bb272464b752b7a77": {
      "model_module": "@jupyter-widgets/controls",
      "model_module_version": "1.5.0",
      "model_name": "ProgressStyleModel",
      "state": {
       "description_width": ""
      }
     },
     "246d7dff56bd495c9d9373dca362eb87": {
      "model_module": "@jupyter-widgets/controls",
      "model_module_version": "1.5.0",
      "model_name": "HTMLModel",
      "state": {
       "layout": "IPY_MODEL_3438c69ba01141838062d6ba00640bcd",
       "style": "IPY_MODEL_23bd53c80b0049d3b85ae9218f196a56",
       "value": " 5/5 [00:06&lt;00:00,  1.18it/s]"
      }
     },
     "24d554578bc245f0bb1cc0e91fc8a6d7": {
      "model_module": "@jupyter-widgets/controls",
      "model_module_version": "1.5.0",
      "model_name": "ProgressStyleModel",
      "state": {
       "description_width": ""
      }
     },
     "24e83004f6ce419e8e39966dc76172bb": {
      "model_module": "@jupyter-widgets/controls",
      "model_module_version": "1.5.0",
      "model_name": "DescriptionStyleModel",
      "state": {
       "description_width": ""
      }
     },
     "24fe5f80d62349dca566ac08e14da5b2": {
      "model_module": "@jupyter-widgets/controls",
      "model_module_version": "1.5.0",
      "model_name": "ProgressStyleModel",
      "state": {
       "description_width": ""
      }
     },
     "2511b3ebf30a45aea8e3384cc6850719": {
      "model_module": "@jupyter-widgets/controls",
      "model_module_version": "1.5.0",
      "model_name": "HTMLModel",
      "state": {
       "layout": "IPY_MODEL_b279874006424b6c97bf18dc7702444f",
       "style": "IPY_MODEL_027b2edfdf14453b8d67a5dfc00b9d2a",
       "value": " 5/5 [00:07&lt;00:00,  1.22s/it]"
      }
     },
     "2514a42fd6094b06a9b052baa07fe60a": {
      "model_module": "@jupyter-widgets/base",
      "model_module_version": "1.2.0",
      "model_name": "LayoutModel",
      "state": {}
     },
     "26248555e56849b29267777c40c061f5": {
      "model_module": "@jupyter-widgets/base",
      "model_module_version": "1.2.0",
      "model_name": "LayoutModel",
      "state": {}
     },
     "268390a2f3e04df99428b8be1fbb92b7": {
      "model_module": "@jupyter-widgets/controls",
      "model_module_version": "1.5.0",
      "model_name": "DescriptionStyleModel",
      "state": {
       "description_width": ""
      }
     },
     "26abe1d275be4be5bcd17f241b7b9f99": {
      "model_module": "@jupyter-widgets/controls",
      "model_module_version": "1.5.0",
      "model_name": "HTMLModel",
      "state": {
       "layout": "IPY_MODEL_cb3e073299404be591ba256bfc51c754",
       "style": "IPY_MODEL_e22f9b4afc3042608b15f685335692af",
       "value": "100%"
      }
     },
     "278f12e0b90348d0aa2919e92814852f": {
      "model_module": "@jupyter-widgets/controls",
      "model_module_version": "1.5.0",
      "model_name": "DescriptionStyleModel",
      "state": {
       "description_width": ""
      }
     },
     "27e310a1fb7740f39eb7bc931b66de9a": {
      "model_module": "@jupyter-widgets/controls",
      "model_module_version": "1.5.0",
      "model_name": "HTMLModel",
      "state": {
       "layout": "IPY_MODEL_34ef8cf671be45f39a064e58c74146e7",
       "style": "IPY_MODEL_d58af5c233f249759ef0f7d6ba8a2271",
       "value": " 5/5 [00:07&lt;00:00,  1.16s/it]"
      }
     },
     "28638ec309c7492b983eb8a4c6b767a3": {
      "model_module": "@jupyter-widgets/base",
      "model_module_version": "1.2.0",
      "model_name": "LayoutModel",
      "state": {}
     },
     "298ca02286c34f0aa060ec5c525302de": {
      "model_module": "@jupyter-widgets/base",
      "model_module_version": "1.2.0",
      "model_name": "LayoutModel",
      "state": {}
     },
     "2a6a73a183974d4da3c2351e761872fc": {
      "model_module": "@jupyter-widgets/controls",
      "model_module_version": "1.5.0",
      "model_name": "DescriptionStyleModel",
      "state": {
       "description_width": ""
      }
     },
     "2b6eed77c381452d86448fd97f3e40bf": {
      "model_module": "@jupyter-widgets/base",
      "model_module_version": "1.2.0",
      "model_name": "LayoutModel",
      "state": {}
     },
     "2beddd7d88aa4401aaea3bf42b8fbbcd": {
      "model_module": "@jupyter-widgets/controls",
      "model_module_version": "1.5.0",
      "model_name": "DescriptionStyleModel",
      "state": {
       "description_width": ""
      }
     },
     "2c13d5b6402f43c1b9761aeb773ffa37": {
      "model_module": "@jupyter-widgets/base",
      "model_module_version": "1.2.0",
      "model_name": "LayoutModel",
      "state": {}
     },
     "2c8813c7899c43f299407e1b64030d34": {
      "model_module": "@jupyter-widgets/controls",
      "model_module_version": "1.5.0",
      "model_name": "HTMLModel",
      "state": {
       "layout": "IPY_MODEL_883d83b720a445f687da67b81b6948c7",
       "style": "IPY_MODEL_2beddd7d88aa4401aaea3bf42b8fbbcd",
       "value": "100%"
      }
     },
     "2d2d0465b8fd4c9fbe9c4a1330764363": {
      "model_module": "@jupyter-widgets/base",
      "model_module_version": "1.2.0",
      "model_name": "LayoutModel",
      "state": {}
     },
     "2e7b9a01e912432c9e7f207fe5d66a91": {
      "model_module": "@jupyter-widgets/controls",
      "model_module_version": "1.5.0",
      "model_name": "HBoxModel",
      "state": {
       "children": [
        "IPY_MODEL_cd8a2ca3dcbd4212a6c96d2e92e4fdf2",
        "IPY_MODEL_01c6bf8749ad4dbfaf9423effc542438",
        "IPY_MODEL_127ad68f4237421c8d9b8c52797a349c"
       ],
       "layout": "IPY_MODEL_f32ce2aa06c6459a911cf8cd83c10a28"
      }
     },
     "2fac2431c57a42d8abd04578a73efa66": {
      "model_module": "@jupyter-widgets/controls",
      "model_module_version": "1.5.0",
      "model_name": "DescriptionStyleModel",
      "state": {
       "description_width": ""
      }
     },
     "2fc67a73a1994fb0b06ee66538885a08": {
      "model_module": "@jupyter-widgets/base",
      "model_module_version": "1.2.0",
      "model_name": "LayoutModel",
      "state": {}
     },
     "3044e6d1760647f1945ea2d75a7df687": {
      "model_module": "@jupyter-widgets/controls",
      "model_module_version": "1.5.0",
      "model_name": "HBoxModel",
      "state": {
       "children": [
        "IPY_MODEL_09c1d51f426943c7a91e226a69f987d8",
        "IPY_MODEL_6b282ef1139c4135b1f2ffbd3684b251",
        "IPY_MODEL_63e2418b4764429fa25b334dc95fd91a"
       ],
       "layout": "IPY_MODEL_78f25f844169463b8cb4dbb39161d594"
      }
     },
     "32397ad4f08a49d396188fed834e3272": {
      "model_module": "@jupyter-widgets/controls",
      "model_module_version": "1.5.0",
      "model_name": "HTMLModel",
      "state": {
       "layout": "IPY_MODEL_23b1957b65fb465a9389f2cd4f667ce1",
       "style": "IPY_MODEL_aa40c89311544f4282ee1a9df8b1046e",
       "value": "100%"
      }
     },
     "33ecf014e062490a9b2aec1b7a79148b": {
      "model_module": "@jupyter-widgets/controls",
      "model_module_version": "1.5.0",
      "model_name": "DescriptionStyleModel",
      "state": {
       "description_width": ""
      }
     },
     "33fa1e77f16c4575a6acc9b8abf356c5": {
      "model_module": "@jupyter-widgets/controls",
      "model_module_version": "1.5.0",
      "model_name": "HBoxModel",
      "state": {
       "children": [
        "IPY_MODEL_32397ad4f08a49d396188fed834e3272",
        "IPY_MODEL_e2dbc2ded3af43d38b6dbf1a01aba19b",
        "IPY_MODEL_54c04912b87544059369cfc3bfce7b68"
       ],
       "layout": "IPY_MODEL_60e23ca799f14b1385788661a648aa19"
      }
     },
     "3438c69ba01141838062d6ba00640bcd": {
      "model_module": "@jupyter-widgets/base",
      "model_module_version": "1.2.0",
      "model_name": "LayoutModel",
      "state": {}
     },
     "343a6327e9974025a942740d202c8a55": {
      "model_module": "@jupyter-widgets/base",
      "model_module_version": "1.2.0",
      "model_name": "LayoutModel",
      "state": {}
     },
     "34ef8cf671be45f39a064e58c74146e7": {
      "model_module": "@jupyter-widgets/base",
      "model_module_version": "1.2.0",
      "model_name": "LayoutModel",
      "state": {}
     },
     "351730f6988e48aca6a5c6f1563a6614": {
      "model_module": "@jupyter-widgets/controls",
      "model_module_version": "1.5.0",
      "model_name": "FloatProgressModel",
      "state": {
       "bar_style": "success",
       "layout": "IPY_MODEL_e5748f17daf24d9fb1a9319e412aa155",
       "max": 5,
       "style": "IPY_MODEL_581f942f5e084393b7e4797d2e320a63",
       "value": 5
      }
     },
     "361b6580ec234dbf94db6d641277a5c1": {
      "model_module": "@jupyter-widgets/controls",
      "model_module_version": "1.5.0",
      "model_name": "DescriptionStyleModel",
      "state": {
       "description_width": ""
      }
     },
     "363f3fa113a24c4b90a11adcf910e33e": {
      "model_module": "@jupyter-widgets/controls",
      "model_module_version": "1.5.0",
      "model_name": "HBoxModel",
      "state": {
       "children": [
        "IPY_MODEL_4bfe0ec7c7154c8697cd24d1f5daaf35",
        "IPY_MODEL_f96a1f0adaaa4ca78962d22916545689",
        "IPY_MODEL_f7e1cd3e9b5347549a390a43666f4ee2"
       ],
       "layout": "IPY_MODEL_b817837232f74ddea274fd6f840a435a"
      }
     },
     "37b6b179aaec4fa6b14a498ee46eb2a2": {
      "model_module": "@jupyter-widgets/controls",
      "model_module_version": "1.5.0",
      "model_name": "FloatProgressModel",
      "state": {
       "bar_style": "success",
       "layout": "IPY_MODEL_a788f13fe0404e7292b3c468a870ed11",
       "max": 5,
       "style": "IPY_MODEL_09d509802e4545e495dfd620aeb1f858",
       "value": 5
      }
     },
     "385705b9fa454bc6b60997eaff94d7f0": {
      "model_module": "@jupyter-widgets/controls",
      "model_module_version": "1.5.0",
      "model_name": "ProgressStyleModel",
      "state": {
       "description_width": ""
      }
     },
     "3870ae35b1fc4d858cc5fbf4d111a1d1": {
      "model_module": "@jupyter-widgets/controls",
      "model_module_version": "1.5.0",
      "model_name": "HTMLModel",
      "state": {
       "layout": "IPY_MODEL_fe930141e37345da920fac4f737340bf",
       "style": "IPY_MODEL_4ab54dc32d744083a37048bb58de1ca1",
       "value": " 5/5 [01:08&lt;00:00, 16.85s/it]"
      }
     },
     "3b6032192d764a81a61750cb7253de22": {
      "model_module": "@jupyter-widgets/controls",
      "model_module_version": "1.5.0",
      "model_name": "HBoxModel",
      "state": {
       "children": [
        "IPY_MODEL_ba3bf368b5dc4d6fa5acc085880541f1",
        "IPY_MODEL_bf4b0e43e995412e9214fdd7401572bd",
        "IPY_MODEL_cf548c85f58a43ca9e3e5bfb381efe4a"
       ],
       "layout": "IPY_MODEL_e5dc4c2f2df04faaa18d7b6c07af2c6e"
      }
     },
     "3b61bb4294bf4ee79152b240d3685a4e": {
      "model_module": "@jupyter-widgets/controls",
      "model_module_version": "1.5.0",
      "model_name": "DescriptionStyleModel",
      "state": {
       "description_width": ""
      }
     },
     "3b834ddce15f44d7abd22e4653a13268": {
      "model_module": "@jupyter-widgets/controls",
      "model_module_version": "1.5.0",
      "model_name": "HTMLModel",
      "state": {
       "layout": "IPY_MODEL_94bf365187f7461baf8338c242645381",
       "style": "IPY_MODEL_0c29132ae90146f8aabe09ea85de1fa7",
       "value": "100%"
      }
     },
     "3ccd83ebef4247cdb9688eaecb9239e7": {
      "model_module": "@jupyter-widgets/base",
      "model_module_version": "1.2.0",
      "model_name": "LayoutModel",
      "state": {}
     },
     "3e6c935e1a7b422f8f31e93683b756d2": {
      "model_module": "@jupyter-widgets/controls",
      "model_module_version": "1.5.0",
      "model_name": "HBoxModel",
      "state": {
       "children": [
        "IPY_MODEL_883173a2b57c419da7caab0e72623e76",
        "IPY_MODEL_4e5831735ec74b79b92fb6323b694b7b",
        "IPY_MODEL_b5b595ec5f654e2ea42827863411226b"
       ],
       "layout": "IPY_MODEL_842c35bb027d4cf8a67be55a3271d778"
      }
     },
     "3e8f80db1e234271a555707d9c434c93": {
      "model_module": "@jupyter-widgets/controls",
      "model_module_version": "1.5.0",
      "model_name": "HBoxModel",
      "state": {
       "children": [
        "IPY_MODEL_21e537b2937e48bdaa4f150c3ef196ff",
        "IPY_MODEL_bab65ac80d2c4bfeb0e8d61c43a664c5",
        "IPY_MODEL_63355af360b84886ac62ccdb9adb6507"
       ],
       "layout": "IPY_MODEL_125b4a09cb73405b93249226ebf53b21"
      }
     },
     "3ffecdb11ca648d48453a627df23870f": {
      "model_module": "@jupyter-widgets/base",
      "model_module_version": "1.2.0",
      "model_name": "LayoutModel",
      "state": {}
     },
     "40d74bb90809453bba2b4173e3c1abce": {
      "model_module": "@jupyter-widgets/controls",
      "model_module_version": "1.5.0",
      "model_name": "DescriptionStyleModel",
      "state": {
       "description_width": ""
      }
     },
     "41bb71edb411475abec7a09c3f5dae47": {
      "model_module": "@jupyter-widgets/base",
      "model_module_version": "1.2.0",
      "model_name": "LayoutModel",
      "state": {}
     },
     "425af19a89c645d8a38b0cff64e87c3f": {
      "model_module": "@jupyter-widgets/base",
      "model_module_version": "1.2.0",
      "model_name": "LayoutModel",
      "state": {}
     },
     "42a6bca3abe242c68cffe765b9c90955": {
      "model_module": "@jupyter-widgets/controls",
      "model_module_version": "1.5.0",
      "model_name": "HTMLModel",
      "state": {
       "layout": "IPY_MODEL_59b9a63cb66045fab9497866cef1e02a",
       "style": "IPY_MODEL_2a6a73a183974d4da3c2351e761872fc",
       "value": " 5/5 [00:05&lt;00:00,  1.32it/s]"
      }
     },
     "44398794f4664eae8e993eb0239bd3ad": {
      "model_module": "@jupyter-widgets/controls",
      "model_module_version": "1.5.0",
      "model_name": "ProgressStyleModel",
      "state": {
       "description_width": ""
      }
     },
     "451d3bd5813f4ef9b0fb46da9b448b71": {
      "model_module": "@jupyter-widgets/controls",
      "model_module_version": "1.5.0",
      "model_name": "HTMLModel",
      "state": {
       "layout": "IPY_MODEL_54ae922c5fe547909de1e2ace030bd41",
       "style": "IPY_MODEL_be2e815cba264aff92b9aec1b70afa96",
       "value": "100%"
      }
     },
     "45269b39505443e090288253f41d9ea4": {
      "model_module": "@jupyter-widgets/controls",
      "model_module_version": "1.5.0",
      "model_name": "ProgressStyleModel",
      "state": {
       "description_width": ""
      }
     },
     "454ef556075044cc8d6ad08520855613": {
      "model_module": "@jupyter-widgets/base",
      "model_module_version": "1.2.0",
      "model_name": "LayoutModel",
      "state": {}
     },
     "45d1cb232a314284a86ee4a9174fede4": {
      "model_module": "@jupyter-widgets/controls",
      "model_module_version": "1.5.0",
      "model_name": "DescriptionStyleModel",
      "state": {
       "description_width": ""
      }
     },
     "461476c15d03470bbb0cec4bc426bfb3": {
      "model_module": "@jupyter-widgets/base",
      "model_module_version": "1.2.0",
      "model_name": "LayoutModel",
      "state": {}
     },
     "46234e6c86b14e3297a8e615bd8a1a0f": {
      "model_module": "@jupyter-widgets/controls",
      "model_module_version": "1.5.0",
      "model_name": "DescriptionStyleModel",
      "state": {
       "description_width": ""
      }
     },
     "473b7534c74c4344a11d8dacbf5aeba5": {
      "model_module": "@jupyter-widgets/controls",
      "model_module_version": "1.5.0",
      "model_name": "ProgressStyleModel",
      "state": {
       "description_width": ""
      }
     },
     "473fe3f728eb4dedb717412ecee7bc64": {
      "model_module": "@jupyter-widgets/controls",
      "model_module_version": "1.5.0",
      "model_name": "FloatProgressModel",
      "state": {
       "bar_style": "success",
       "layout": "IPY_MODEL_da2813f7acf94c43b1ecaf5179f40ea0",
       "max": 5,
       "style": "IPY_MODEL_f21d2651a6254419a902445a3f338c57",
       "value": 5
      }
     },
     "47d1d34e18744a23a67e51edaf64aab4": {
      "model_module": "@jupyter-widgets/base",
      "model_module_version": "1.2.0",
      "model_name": "LayoutModel",
      "state": {}
     },
     "4806504db8d44e9788455745b29bcbd7": {
      "model_module": "@jupyter-widgets/controls",
      "model_module_version": "1.5.0",
      "model_name": "HBoxModel",
      "state": {
       "children": [
        "IPY_MODEL_53305286ac374f56be5a65773cf0de94",
        "IPY_MODEL_0d47a13cbcb3406f923e74a351928b9a",
        "IPY_MODEL_555e5c6913ca4ed9b9343960dbecda59"
       ],
       "layout": "IPY_MODEL_85693e04dfbd48cebd7a277e450e7f7f"
      }
     },
     "4991a010908e43c397144e83edfaa5bf": {
      "model_module": "@jupyter-widgets/controls",
      "model_module_version": "1.5.0",
      "model_name": "HBoxModel",
      "state": {
       "children": [
        "IPY_MODEL_4f4d8bade7934b6b92904641b76d4f5a",
        "IPY_MODEL_06be184f7c3746809adecbb6b6465dcc",
        "IPY_MODEL_f264b2ab184e42f68840152e231d08ec"
       ],
       "layout": "IPY_MODEL_be4621ce596246b0839c3342bfaf1e2e"
      }
     },
     "49b56824b23c4f4cb2614f8689b18708": {
      "model_module": "@jupyter-widgets/controls",
      "model_module_version": "1.5.0",
      "model_name": "HTMLModel",
      "state": {
       "layout": "IPY_MODEL_804905089add428d92a39127a558f23b",
       "style": "IPY_MODEL_6577c53321234fc293071df60f15631f",
       "value": " 5/5 [00:04&lt;00:00,  1.00s/it]"
      }
     },
     "4a94c9e4c1e543d98f3fef7092cf86e4": {
      "model_module": "@jupyter-widgets/base",
      "model_module_version": "1.2.0",
      "model_name": "LayoutModel",
      "state": {}
     },
     "4ab54dc32d744083a37048bb58de1ca1": {
      "model_module": "@jupyter-widgets/controls",
      "model_module_version": "1.5.0",
      "model_name": "DescriptionStyleModel",
      "state": {
       "description_width": ""
      }
     },
     "4bfe0ec7c7154c8697cd24d1f5daaf35": {
      "model_module": "@jupyter-widgets/controls",
      "model_module_version": "1.5.0",
      "model_name": "HTMLModel",
      "state": {
       "layout": "IPY_MODEL_461476c15d03470bbb0cec4bc426bfb3",
       "style": "IPY_MODEL_a8fadd604e6f4104baaea4a846cd5a70",
       "value": "100%"
      }
     },
     "4c6a27626e334d13bf497ea07c1030f3": {
      "model_module": "@jupyter-widgets/base",
      "model_module_version": "1.2.0",
      "model_name": "LayoutModel",
      "state": {}
     },
     "4cdebb8b8e564697a8a20c2c2c38b884": {
      "model_module": "@jupyter-widgets/base",
      "model_module_version": "1.2.0",
      "model_name": "LayoutModel",
      "state": {}
     },
     "4d86298964074c56be7472054ddc5f31": {
      "model_module": "@jupyter-widgets/controls",
      "model_module_version": "1.5.0",
      "model_name": "ProgressStyleModel",
      "state": {
       "description_width": ""
      }
     },
     "4e5831735ec74b79b92fb6323b694b7b": {
      "model_module": "@jupyter-widgets/controls",
      "model_module_version": "1.5.0",
      "model_name": "FloatProgressModel",
      "state": {
       "bar_style": "success",
       "layout": "IPY_MODEL_c58fcd350c574e15a9ae3e8235c4dc28",
       "max": 5,
       "style": "IPY_MODEL_c6bcfbc4ba6f4af5aac2975dd434d87c",
       "value": 5
      }
     },
     "4e73ebcfcd8f4ca2bcfe05155b72519e": {
      "model_module": "@jupyter-widgets/controls",
      "model_module_version": "1.5.0",
      "model_name": "DescriptionStyleModel",
      "state": {
       "description_width": ""
      }
     },
     "4f33f3042a944ad39cda4880721b243e": {
      "model_module": "@jupyter-widgets/base",
      "model_module_version": "1.2.0",
      "model_name": "LayoutModel",
      "state": {}
     },
     "4f4d8bade7934b6b92904641b76d4f5a": {
      "model_module": "@jupyter-widgets/controls",
      "model_module_version": "1.5.0",
      "model_name": "HTMLModel",
      "state": {
       "layout": "IPY_MODEL_1442564cddfb45d682561627c2318bcd",
       "style": "IPY_MODEL_90906303fe0a47469ec45083e36aeae3",
       "value": "100%"
      }
     },
     "4ff3bf1593df4213b2e49b8e646dd689": {
      "model_module": "@jupyter-widgets/base",
      "model_module_version": "1.2.0",
      "model_name": "LayoutModel",
      "state": {}
     },
     "50f3ee874a9c4c0eba37890e842d0f72": {
      "model_module": "@jupyter-widgets/base",
      "model_module_version": "1.2.0",
      "model_name": "LayoutModel",
      "state": {}
     },
     "523e73cad70f4e5da1ca1cecc58dc72f": {
      "model_module": "@jupyter-widgets/controls",
      "model_module_version": "1.5.0",
      "model_name": "FloatProgressModel",
      "state": {
       "bar_style": "success",
       "layout": "IPY_MODEL_58d75ccbce014b048f30595273264aec",
       "max": 5,
       "style": "IPY_MODEL_4d86298964074c56be7472054ddc5f31",
       "value": 5
      }
     },
     "52820c0a807248ea8b86a5900a5613f2": {
      "model_module": "@jupyter-widgets/base",
      "model_module_version": "1.2.0",
      "model_name": "LayoutModel",
      "state": {}
     },
     "52888982242c4d148fda6162464ee54b": {
      "model_module": "@jupyter-widgets/controls",
      "model_module_version": "1.5.0",
      "model_name": "HBoxModel",
      "state": {
       "children": [
        "IPY_MODEL_03e35e688931426abc2222fc5290df0a",
        "IPY_MODEL_c759feb9063547d6a1fc6bb9329c85ca",
        "IPY_MODEL_ccedcee1284c476ea20f79f780faa235"
       ],
       "layout": "IPY_MODEL_6a9dd8a2a61448e69defad79bb2b677a"
      }
     },
     "52cd82f9dbdf41c5994ed53a9ef05ec3": {
      "model_module": "@jupyter-widgets/base",
      "model_module_version": "1.2.0",
      "model_name": "LayoutModel",
      "state": {}
     },
     "53305286ac374f56be5a65773cf0de94": {
      "model_module": "@jupyter-widgets/controls",
      "model_module_version": "1.5.0",
      "model_name": "HTMLModel",
      "state": {
       "layout": "IPY_MODEL_0f2df4921305477099014ae31eb3c3e3",
       "style": "IPY_MODEL_24e83004f6ce419e8e39966dc76172bb",
       "value": "100%"
      }
     },
     "544c439928dc4f7b981f487d8cb483cf": {
      "model_module": "@jupyter-widgets/controls",
      "model_module_version": "1.5.0",
      "model_name": "HTMLModel",
      "state": {
       "layout": "IPY_MODEL_2514a42fd6094b06a9b052baa07fe60a",
       "style": "IPY_MODEL_f9a2894c21d64e56a635842e26512e83",
       "value": " 5/5 [00:03&lt;00:00,  1.24it/s]"
      }
     },
     "54ae922c5fe547909de1e2ace030bd41": {
      "model_module": "@jupyter-widgets/base",
      "model_module_version": "1.2.0",
      "model_name": "LayoutModel",
      "state": {}
     },
     "54c04912b87544059369cfc3bfce7b68": {
      "model_module": "@jupyter-widgets/controls",
      "model_module_version": "1.5.0",
      "model_name": "HTMLModel",
      "state": {
       "layout": "IPY_MODEL_f452db64e5854f53b7433a29395b8494",
       "style": "IPY_MODEL_46234e6c86b14e3297a8e615bd8a1a0f",
       "value": " 5/5 [01:10&lt;00:00, 18.52s/it]"
      }
     },
     "54c13a31819d4a578c0b282f30c7bd5c": {
      "model_module": "@jupyter-widgets/base",
      "model_module_version": "1.2.0",
      "model_name": "LayoutModel",
      "state": {}
     },
     "55418fec8a814b2b977d8d21bcc19862": {
      "model_module": "@jupyter-widgets/controls",
      "model_module_version": "1.5.0",
      "model_name": "DescriptionStyleModel",
      "state": {
       "description_width": ""
      }
     },
     "555e5c6913ca4ed9b9343960dbecda59": {
      "model_module": "@jupyter-widgets/controls",
      "model_module_version": "1.5.0",
      "model_name": "HTMLModel",
      "state": {
       "layout": "IPY_MODEL_b3cbb132d9ab41a898fd27d3bc7773c3",
       "style": "IPY_MODEL_96ed2138123d4f6d87249a2621b92294",
       "value": " 5/5 [01:01&lt;00:00, 16.07s/it]"
      }
     },
     "579a9b9e2c4042129c3af038d01a8263": {
      "model_module": "@jupyter-widgets/controls",
      "model_module_version": "1.5.0",
      "model_name": "HTMLModel",
      "state": {
       "layout": "IPY_MODEL_9f269a745de04758b96975f64b67f78f",
       "style": "IPY_MODEL_84e6ca642e1147738821d7aee70a1dc9",
       "value": "100%"
      }
     },
     "581f942f5e084393b7e4797d2e320a63": {
      "model_module": "@jupyter-widgets/controls",
      "model_module_version": "1.5.0",
      "model_name": "ProgressStyleModel",
      "state": {
       "description_width": ""
      }
     },
     "58a9381deb5e48a9a8109b05dc30c28e": {
      "model_module": "@jupyter-widgets/controls",
      "model_module_version": "1.5.0",
      "model_name": "DescriptionStyleModel",
      "state": {
       "description_width": ""
      }
     },
     "58ad84202c944e899369fbb8cedae75f": {
      "model_module": "@jupyter-widgets/controls",
      "model_module_version": "1.5.0",
      "model_name": "HTMLModel",
      "state": {
       "layout": "IPY_MODEL_bf30b09af37c43e1996438cab4163af8",
       "style": "IPY_MODEL_d21788fc4c49467ba238fc65510a8364",
       "value": " 5/5 [00:17&lt;00:00,  2.77s/it]"
      }
     },
     "58bef6752f7c49b49624740ccdfe4b6e": {
      "model_module": "@jupyter-widgets/base",
      "model_module_version": "1.2.0",
      "model_name": "LayoutModel",
      "state": {}
     },
     "58d75ccbce014b048f30595273264aec": {
      "model_module": "@jupyter-widgets/base",
      "model_module_version": "1.2.0",
      "model_name": "LayoutModel",
      "state": {}
     },
     "59128e41e5ca4a71bcce581bbbb956ad": {
      "model_module": "@jupyter-widgets/controls",
      "model_module_version": "1.5.0",
      "model_name": "ProgressStyleModel",
      "state": {
       "description_width": ""
      }
     },
     "594235f2e5e24560a7be74c906440cb1": {
      "model_module": "@jupyter-widgets/base",
      "model_module_version": "1.2.0",
      "model_name": "LayoutModel",
      "state": {}
     },
     "59727eb949004e049bcbb3b0f0c7c606": {
      "model_module": "@jupyter-widgets/controls",
      "model_module_version": "1.5.0",
      "model_name": "HTMLModel",
      "state": {
       "layout": "IPY_MODEL_58bef6752f7c49b49624740ccdfe4b6e",
       "style": "IPY_MODEL_f57ee5336de041bbbdd6e64974e6e449",
       "value": "100%"
      }
     },
     "5979e90c6a11449082390d17457d317c": {
      "model_module": "@jupyter-widgets/base",
      "model_module_version": "1.2.0",
      "model_name": "LayoutModel",
      "state": {}
     },
     "59b9a63cb66045fab9497866cef1e02a": {
      "model_module": "@jupyter-widgets/base",
      "model_module_version": "1.2.0",
      "model_name": "LayoutModel",
      "state": {}
     },
     "5a10cc5bd9654fb3be041f915e1e1bd9": {
      "model_module": "@jupyter-widgets/controls",
      "model_module_version": "1.5.0",
      "model_name": "DescriptionStyleModel",
      "state": {
       "description_width": ""
      }
     },
     "5af2b305ecb54ed3a79a5b9997ddce27": {
      "model_module": "@jupyter-widgets/controls",
      "model_module_version": "1.5.0",
      "model_name": "HBoxModel",
      "state": {
       "children": [
        "IPY_MODEL_09269308c37e46419b39f48d248e8fdc",
        "IPY_MODEL_473fe3f728eb4dedb717412ecee7bc64",
        "IPY_MODEL_544c439928dc4f7b981f487d8cb483cf"
       ],
       "layout": "IPY_MODEL_09213cac742b4bc58b82bc4366b88924"
      }
     },
     "5bd34afe40f1434d967639cf2d20d054": {
      "model_module": "@jupyter-widgets/controls",
      "model_module_version": "1.5.0",
      "model_name": "ProgressStyleModel",
      "state": {
       "description_width": ""
      }
     },
     "5bd5064018fd40829ebd297c56199c0e": {
      "model_module": "@jupyter-widgets/controls",
      "model_module_version": "1.5.0",
      "model_name": "HTMLModel",
      "state": {
       "layout": "IPY_MODEL_92d6a11c4a8346ac9e1d1ded2d1ad513",
       "style": "IPY_MODEL_faadb982862d4d77828e142e90670ecf",
       "value": " 5/5 [00:05&lt;00:00,  1.11it/s]"
      }
     },
     "5dea785c415341d7979e44af258e0194": {
      "model_module": "@jupyter-widgets/controls",
      "model_module_version": "1.5.0",
      "model_name": "HTMLModel",
      "state": {
       "layout": "IPY_MODEL_1a1a1884774a47bb8f339f14838fbe61",
       "style": "IPY_MODEL_9907c83ac1b042249c92bb58253e2f5f",
       "value": " 5/5 [00:52&lt;00:00, 13.48s/it]"
      }
     },
     "5e3f88a085054172874206fd03084693": {
      "model_module": "@jupyter-widgets/base",
      "model_module_version": "1.2.0",
      "model_name": "LayoutModel",
      "state": {}
     },
     "5e4f7012334c4585b8acb6d92833e5a3": {
      "model_module": "@jupyter-widgets/controls",
      "model_module_version": "1.5.0",
      "model_name": "ProgressStyleModel",
      "state": {
       "description_width": ""
      }
     },
     "5fb681b28a4e42e194aaaf120d2714fe": {
      "model_module": "@jupyter-widgets/base",
      "model_module_version": "1.2.0",
      "model_name": "LayoutModel",
      "state": {}
     },
     "60e23ca799f14b1385788661a648aa19": {
      "model_module": "@jupyter-widgets/base",
      "model_module_version": "1.2.0",
      "model_name": "LayoutModel",
      "state": {}
     },
     "61335a0f919245668ee81fb42a7c510b": {
      "model_module": "@jupyter-widgets/controls",
      "model_module_version": "1.5.0",
      "model_name": "ProgressStyleModel",
      "state": {
       "description_width": ""
      }
     },
     "61a52d573eba4e028def1c95a8cacfe3": {
      "model_module": "@jupyter-widgets/controls",
      "model_module_version": "1.5.0",
      "model_name": "ProgressStyleModel",
      "state": {
       "description_width": ""
      }
     },
     "61d9287171a741a3b91856e4cd3f8dc9": {
      "model_module": "@jupyter-widgets/controls",
      "model_module_version": "1.5.0",
      "model_name": "DescriptionStyleModel",
      "state": {
       "description_width": ""
      }
     },
     "63355af360b84886ac62ccdb9adb6507": {
      "model_module": "@jupyter-widgets/controls",
      "model_module_version": "1.5.0",
      "model_name": "HTMLModel",
      "state": {
       "layout": "IPY_MODEL_db5fb3527d5748968034bada6f69ed54",
       "style": "IPY_MODEL_2fac2431c57a42d8abd04578a73efa66",
       "value": " 5/5 [01:01&lt;00:00, 15.97s/it]"
      }
     },
     "6351d1d159374458876f0e0c0d65d408": {
      "model_module": "@jupyter-widgets/controls",
      "model_module_version": "1.5.0",
      "model_name": "FloatProgressModel",
      "state": {
       "bar_style": "success",
       "layout": "IPY_MODEL_3ffecdb11ca648d48453a627df23870f",
       "max": 5,
       "style": "IPY_MODEL_2438a09b6f0c409bb272464b752b7a77",
       "value": 5
      }
     },
     "63e2418b4764429fa25b334dc95fd91a": {
      "model_module": "@jupyter-widgets/controls",
      "model_module_version": "1.5.0",
      "model_name": "HTMLModel",
      "state": {
       "layout": "IPY_MODEL_756c858094634237b5bc4f144ae95e3d",
       "style": "IPY_MODEL_696d25ac080946dc918e8588268dda1c",
       "value": " 5/5 [00:06&lt;00:00,  1.13it/s]"
      }
     },
     "64acff766231446baa08e68cc38dfd36": {
      "model_module": "@jupyter-widgets/base",
      "model_module_version": "1.2.0",
      "model_name": "LayoutModel",
      "state": {}
     },
     "6577c53321234fc293071df60f15631f": {
      "model_module": "@jupyter-widgets/controls",
      "model_module_version": "1.5.0",
      "model_name": "DescriptionStyleModel",
      "state": {
       "description_width": ""
      }
     },
     "65bc761f78ff42afae6e19e370e6a91d": {
      "model_module": "@jupyter-widgets/controls",
      "model_module_version": "1.5.0",
      "model_name": "DescriptionStyleModel",
      "state": {
       "description_width": ""
      }
     },
     "66a2966de3ef487b8cb2ed86de5e0266": {
      "model_module": "@jupyter-widgets/controls",
      "model_module_version": "1.5.0",
      "model_name": "HTMLModel",
      "state": {
       "layout": "IPY_MODEL_5fb681b28a4e42e194aaaf120d2714fe",
       "style": "IPY_MODEL_96bf180f33b2453d8518da5e0455593b",
       "value": " 5/5 [01:37&lt;00:00, 24.87s/it]"
      }
     },
     "6725e4e14fa74cf4b1c6052782cfed44": {
      "model_module": "@jupyter-widgets/base",
      "model_module_version": "1.2.0",
      "model_name": "LayoutModel",
      "state": {}
     },
     "68466f06044a4b148cca6a0c8630a385": {
      "model_module": "@jupyter-widgets/controls",
      "model_module_version": "1.5.0",
      "model_name": "HTMLModel",
      "state": {
       "layout": "IPY_MODEL_f465b9a8ef93420abf8ae602151e777d",
       "style": "IPY_MODEL_74d64c8b3bda41c5ae861df6d7d594f3",
       "value": "100%"
      }
     },
     "68481ea5be394a2ca5a60deaf8dbbdb6": {
      "model_module": "@jupyter-widgets/base",
      "model_module_version": "1.2.0",
      "model_name": "LayoutModel",
      "state": {}
     },
     "6848bc61818342568ba3b9b07aefe10c": {
      "model_module": "@jupyter-widgets/controls",
      "model_module_version": "1.5.0",
      "model_name": "HTMLModel",
      "state": {
       "layout": "IPY_MODEL_cff400cc4bee430c902f75e857881967",
       "style": "IPY_MODEL_e9a4093c93a6456ca37266f7bb1852a8",
       "value": " 5/5 [01:37&lt;00:00, 25.29s/it]"
      }
     },
     "685b9d89d27d4ba4b1291f1aa3860315": {
      "model_module": "@jupyter-widgets/base",
      "model_module_version": "1.2.0",
      "model_name": "LayoutModel",
      "state": {}
     },
     "686aeba34276409082efc1dc45fc8416": {
      "model_module": "@jupyter-widgets/controls",
      "model_module_version": "1.5.0",
      "model_name": "DescriptionStyleModel",
      "state": {
       "description_width": ""
      }
     },
     "68c93064515445ba9767b17adfdcdd24": {
      "model_module": "@jupyter-widgets/controls",
      "model_module_version": "1.5.0",
      "model_name": "HBoxModel",
      "state": {
       "children": [
        "IPY_MODEL_125d703f44df40dc81d4127660338555",
        "IPY_MODEL_f3bd25fbad6f4b7eb0f7eecfc9e8f085",
        "IPY_MODEL_6848bc61818342568ba3b9b07aefe10c"
       ],
       "layout": "IPY_MODEL_1eddc1da991b4dd3a0ff3d66d9d95d90"
      }
     },
     "696d25ac080946dc918e8588268dda1c": {
      "model_module": "@jupyter-widgets/controls",
      "model_module_version": "1.5.0",
      "model_name": "DescriptionStyleModel",
      "state": {
       "description_width": ""
      }
     },
     "6a9dd8a2a61448e69defad79bb2b677a": {
      "model_module": "@jupyter-widgets/base",
      "model_module_version": "1.2.0",
      "model_name": "LayoutModel",
      "state": {}
     },
     "6a9f57a1e58b4d8f9944c6439526a260": {
      "model_module": "@jupyter-widgets/controls",
      "model_module_version": "1.5.0",
      "model_name": "HTMLModel",
      "state": {
       "layout": "IPY_MODEL_a96bbc1d5cf946a0b7aa5a30e1ee4151",
       "style": "IPY_MODEL_268390a2f3e04df99428b8be1fbb92b7",
       "value": "100%"
      }
     },
     "6b181a46c18249d8b481ccdb92ab463e": {
      "model_module": "@jupyter-widgets/controls",
      "model_module_version": "1.5.0",
      "model_name": "FloatProgressModel",
      "state": {
       "bar_style": "success",
       "layout": "IPY_MODEL_54c13a31819d4a578c0b282f30c7bd5c",
       "max": 5,
       "style": "IPY_MODEL_44398794f4664eae8e993eb0239bd3ad",
       "value": 5
      }
     },
     "6b282ef1139c4135b1f2ffbd3684b251": {
      "model_module": "@jupyter-widgets/controls",
      "model_module_version": "1.5.0",
      "model_name": "FloatProgressModel",
      "state": {
       "bar_style": "success",
       "layout": "IPY_MODEL_7669b735aa44472da85eca6100d0b614",
       "max": 5,
       "style": "IPY_MODEL_b1574cf2205f42a5ba0ce5225463da7c",
       "value": 5
      }
     },
     "6b5279d3abba40ae9373a3e30944ae3e": {
      "model_module": "@jupyter-widgets/controls",
      "model_module_version": "1.5.0",
      "model_name": "HBoxModel",
      "state": {
       "children": [
        "IPY_MODEL_998f5edf24374a6a97dcc145b30d899b",
        "IPY_MODEL_776450bd66fe4859b45d5652390c82fb",
        "IPY_MODEL_1af61b80935349539a513d0bd9c47f79"
       ],
       "layout": "IPY_MODEL_7229dd4b1dff4a5b86d25c91dc36781e"
      }
     },
     "6c2a8080563c4edd8788b77964b7b8cc": {
      "model_module": "@jupyter-widgets/controls",
      "model_module_version": "1.5.0",
      "model_name": "HTMLModel",
      "state": {
       "layout": "IPY_MODEL_e7b060522e254f72851777c47342b721",
       "style": "IPY_MODEL_5a10cc5bd9654fb3be041f915e1e1bd9",
       "value": "100%"
      }
     },
     "6c81d97715a142b99bec08f4117436bf": {
      "model_module": "@jupyter-widgets/controls",
      "model_module_version": "1.5.0",
      "model_name": "HTMLModel",
      "state": {
       "layout": "IPY_MODEL_685b9d89d27d4ba4b1291f1aa3860315",
       "style": "IPY_MODEL_0ed44ec80b2a413392199bc06e7c66ce",
       "value": "100%"
      }
     },
     "6cb1924b69344c4792b147f428ce626f": {
      "model_module": "@jupyter-widgets/base",
      "model_module_version": "1.2.0",
      "model_name": "LayoutModel",
      "state": {}
     },
     "6d18c445e737416297d47523d93e9afb": {
      "model_module": "@jupyter-widgets/controls",
      "model_module_version": "1.5.0",
      "model_name": "HTMLModel",
      "state": {
       "layout": "IPY_MODEL_99c99f6baafc427287f5dfd94a0b0f7b",
       "style": "IPY_MODEL_40d74bb90809453bba2b4173e3c1abce",
       "value": "100%"
      }
     },
     "6d97a3dd306647fbb0e985cf0a367973": {
      "model_module": "@jupyter-widgets/controls",
      "model_module_version": "1.5.0",
      "model_name": "HTMLModel",
      "state": {
       "layout": "IPY_MODEL_a4c7c225cdf9401b8c54ac994d57bc5b",
       "style": "IPY_MODEL_0bf90df9b52e4837a3e9d9477bda8a80",
       "value": " 5/5 [06:17&lt;00:00, 65.62s/it]"
      }
     },
     "6ed9da4be51f4ca8a7fa07fce2bb0673": {
      "model_module": "@jupyter-widgets/controls",
      "model_module_version": "1.5.0",
      "model_name": "DescriptionStyleModel",
      "state": {
       "description_width": ""
      }
     },
     "6f57ee1b94724b299164b661c8af4633": {
      "model_module": "@jupyter-widgets/controls",
      "model_module_version": "1.5.0",
      "model_name": "HTMLModel",
      "state": {
       "layout": "IPY_MODEL_191c137423a74024815b0bb2f56c2cae",
       "style": "IPY_MODEL_a57333eb02b44e748a81a77f27661779",
       "value": "100%"
      }
     },
     "70689a79230e4f83991209a865746cd1": {
      "model_module": "@jupyter-widgets/controls",
      "model_module_version": "1.5.0",
      "model_name": "HTMLModel",
      "state": {
       "layout": "IPY_MODEL_f3641aa75b6c4531954c8b0ff7d123e1",
       "style": "IPY_MODEL_33ecf014e062490a9b2aec1b7a79148b",
       "value": " 5/5 [01:15&lt;00:00, 19.11s/it]"
      }
     },
     "718efaf3cbcc4732873489bf33fb8750": {
      "model_module": "@jupyter-widgets/controls",
      "model_module_version": "1.5.0",
      "model_name": "ProgressStyleModel",
      "state": {
       "description_width": ""
      }
     },
     "7229dd4b1dff4a5b86d25c91dc36781e": {
      "model_module": "@jupyter-widgets/base",
      "model_module_version": "1.2.0",
      "model_name": "LayoutModel",
      "state": {}
     },
     "7232374656ca4b9db7b402cc2da3e720": {
      "model_module": "@jupyter-widgets/controls",
      "model_module_version": "1.5.0",
      "model_name": "DescriptionStyleModel",
      "state": {
       "description_width": ""
      }
     },
     "728c0ac64ff046c986dc1edd63aad0d7": {
      "model_module": "@jupyter-widgets/base",
      "model_module_version": "1.2.0",
      "model_name": "LayoutModel",
      "state": {}
     },
     "72c2891cb39d4bf092d5c02d0df77d37": {
      "model_module": "@jupyter-widgets/controls",
      "model_module_version": "1.5.0",
      "model_name": "HBoxModel",
      "state": {
       "children": [
        "IPY_MODEL_6d18c445e737416297d47523d93e9afb",
        "IPY_MODEL_6351d1d159374458876f0e0c0d65d408",
        "IPY_MODEL_3870ae35b1fc4d858cc5fbf4d111a1d1"
       ],
       "layout": "IPY_MODEL_eae3c34713374a93affa9a105c8bc594"
      }
     },
     "742fa1d524ff4b529d1a13c1fb80bb0b": {
      "model_module": "@jupyter-widgets/base",
      "model_module_version": "1.2.0",
      "model_name": "LayoutModel",
      "state": {}
     },
     "743f0d23218c4fe294709cd31ffaaf45": {
      "model_module": "@jupyter-widgets/base",
      "model_module_version": "1.2.0",
      "model_name": "LayoutModel",
      "state": {}
     },
     "749f16a845874ecea85baecf12eab136": {
      "model_module": "@jupyter-widgets/base",
      "model_module_version": "1.2.0",
      "model_name": "LayoutModel",
      "state": {}
     },
     "74d64c8b3bda41c5ae861df6d7d594f3": {
      "model_module": "@jupyter-widgets/controls",
      "model_module_version": "1.5.0",
      "model_name": "DescriptionStyleModel",
      "state": {
       "description_width": ""
      }
     },
     "756c858094634237b5bc4f144ae95e3d": {
      "model_module": "@jupyter-widgets/base",
      "model_module_version": "1.2.0",
      "model_name": "LayoutModel",
      "state": {}
     },
     "7669b735aa44472da85eca6100d0b614": {
      "model_module": "@jupyter-widgets/base",
      "model_module_version": "1.2.0",
      "model_name": "LayoutModel",
      "state": {}
     },
     "776450bd66fe4859b45d5652390c82fb": {
      "model_module": "@jupyter-widgets/controls",
      "model_module_version": "1.5.0",
      "model_name": "FloatProgressModel",
      "state": {
       "bar_style": "success",
       "layout": "IPY_MODEL_5e3f88a085054172874206fd03084693",
       "max": 5,
       "style": "IPY_MODEL_aad5733dcbb647a9ba501a02cc3a2e05",
       "value": 5
      }
     },
     "78f25f844169463b8cb4dbb39161d594": {
      "model_module": "@jupyter-widgets/base",
      "model_module_version": "1.2.0",
      "model_name": "LayoutModel",
      "state": {}
     },
     "7a4a84c2a8264ead92dfafd2661d510b": {
      "model_module": "@jupyter-widgets/controls",
      "model_module_version": "1.5.0",
      "model_name": "HBoxModel",
      "state": {
       "children": [
        "IPY_MODEL_6c81d97715a142b99bec08f4117436bf",
        "IPY_MODEL_ad7fb09ffcc54ac2bfd6cf64f57cb0f5",
        "IPY_MODEL_66a2966de3ef487b8cb2ed86de5e0266"
       ],
       "layout": "IPY_MODEL_ac3e4d2bfa0e425daf2feac8f46d79c8"
      }
     },
     "7bec455872a24d96973e6bf0324054a4": {
      "model_module": "@jupyter-widgets/controls",
      "model_module_version": "1.5.0",
      "model_name": "DescriptionStyleModel",
      "state": {
       "description_width": ""
      }
     },
     "7c078f30985f4e509e94296c28a42cf9": {
      "model_module": "@jupyter-widgets/base",
      "model_module_version": "1.2.0",
      "model_name": "LayoutModel",
      "state": {}
     },
     "7c447de56f914b50b3904f06afea8e7a": {
      "model_module": "@jupyter-widgets/base",
      "model_module_version": "1.2.0",
      "model_name": "LayoutModel",
      "state": {}
     },
     "7cdea3519896473a8d8578d818323998": {
      "model_module": "@jupyter-widgets/controls",
      "model_module_version": "1.5.0",
      "model_name": "HTMLModel",
      "state": {
       "layout": "IPY_MODEL_23492e85d7c24016917a80d50e3a4c80",
       "style": "IPY_MODEL_45d1cb232a314284a86ee4a9174fede4",
       "value": "100%"
      }
     },
     "7e566b84e4b1499bb84eae59c9c0dfa1": {
      "model_module": "@jupyter-widgets/base",
      "model_module_version": "1.2.0",
      "model_name": "LayoutModel",
      "state": {}
     },
     "7f774973c3304a0bbdd78022f105e75a": {
      "model_module": "@jupyter-widgets/controls",
      "model_module_version": "1.5.0",
      "model_name": "HBoxModel",
      "state": {
       "children": [
        "IPY_MODEL_6f57ee1b94724b299164b661c8af4633",
        "IPY_MODEL_cebc0d8facb74c2f99886e90e0b0f1a4",
        "IPY_MODEL_8e517fdf47b047aaa262d01cbfdcab96"
       ],
       "layout": "IPY_MODEL_b891e94e6e06456585a735f186709064"
      }
     },
     "804905089add428d92a39127a558f23b": {
      "model_module": "@jupyter-widgets/base",
      "model_module_version": "1.2.0",
      "model_name": "LayoutModel",
      "state": {}
     },
     "805d471f451441de8f89a0ee8dd613c6": {
      "model_module": "@jupyter-widgets/controls",
      "model_module_version": "1.5.0",
      "model_name": "HBoxModel",
      "state": {
       "children": [
        "IPY_MODEL_1b8d9359271941cf9a19f1c6c208fc9d",
        "IPY_MODEL_37b6b179aaec4fa6b14a498ee46eb2a2",
        "IPY_MODEL_d8e5d8a6ab7d4e28aefb10c15fcdcd82"
       ],
       "layout": "IPY_MODEL_1afe249ab9544f8c8f379bddb9e13bfc"
      }
     },
     "827d77165d344a488da3afb675aec694": {
      "model_module": "@jupyter-widgets/base",
      "model_module_version": "1.2.0",
      "model_name": "LayoutModel",
      "state": {}
     },
     "835d1bf10d5243888f61b5e12da674b5": {
      "model_module": "@jupyter-widgets/controls",
      "model_module_version": "1.5.0",
      "model_name": "FloatProgressModel",
      "state": {
       "bar_style": "success",
       "layout": "IPY_MODEL_6cb1924b69344c4792b147f428ce626f",
       "max": 5,
       "style": "IPY_MODEL_473b7534c74c4344a11d8dacbf5aeba5",
       "value": 5
      }
     },
     "842c35bb027d4cf8a67be55a3271d778": {
      "model_module": "@jupyter-widgets/base",
      "model_module_version": "1.2.0",
      "model_name": "LayoutModel",
      "state": {}
     },
     "84813391b8e24783af956d3738f20a6e": {
      "model_module": "@jupyter-widgets/controls",
      "model_module_version": "1.5.0",
      "model_name": "ProgressStyleModel",
      "state": {
       "description_width": ""
      }
     },
     "84e6ca642e1147738821d7aee70a1dc9": {
      "model_module": "@jupyter-widgets/controls",
      "model_module_version": "1.5.0",
      "model_name": "DescriptionStyleModel",
      "state": {
       "description_width": ""
      }
     },
     "85693e04dfbd48cebd7a277e450e7f7f": {
      "model_module": "@jupyter-widgets/base",
      "model_module_version": "1.2.0",
      "model_name": "LayoutModel",
      "state": {}
     },
     "85fd2a575e1140c9b678491b154b8c8f": {
      "model_module": "@jupyter-widgets/controls",
      "model_module_version": "1.5.0",
      "model_name": "HBoxModel",
      "state": {
       "children": [
        "IPY_MODEL_59727eb949004e049bcbb3b0f0c7c606",
        "IPY_MODEL_cda0a0139155494194a4dd6274d2c85f",
        "IPY_MODEL_dc810c1a8ecc4f549991d7954d0c677c"
       ],
       "layout": "IPY_MODEL_728c0ac64ff046c986dc1edd63aad0d7"
      }
     },
     "87ccb2ffaaed43aaaeafd35e4cf1a76c": {
      "model_module": "@jupyter-widgets/controls",
      "model_module_version": "1.5.0",
      "model_name": "HTMLModel",
      "state": {
       "layout": "IPY_MODEL_3ccd83ebef4247cdb9688eaecb9239e7",
       "style": "IPY_MODEL_3b61bb4294bf4ee79152b240d3685a4e",
       "value": "100%"
      }
     },
     "883173a2b57c419da7caab0e72623e76": {
      "model_module": "@jupyter-widgets/controls",
      "model_module_version": "1.5.0",
      "model_name": "HTMLModel",
      "state": {
       "layout": "IPY_MODEL_d3e75d08af0a43f7b702833eaaf39535",
       "style": "IPY_MODEL_9fef008909a046778bf9591388abe20f",
       "value": "100%"
      }
     },
     "883d83b720a445f687da67b81b6948c7": {
      "model_module": "@jupyter-widgets/base",
      "model_module_version": "1.2.0",
      "model_name": "LayoutModel",
      "state": {}
     },
     "89e55da93e0e46bca6cbaa28d229d7b3": {
      "model_module": "@jupyter-widgets/controls",
      "model_module_version": "1.5.0",
      "model_name": "DescriptionStyleModel",
      "state": {
       "description_width": ""
      }
     },
     "89edff8594054ae4a85bf63a7765736a": {
      "model_module": "@jupyter-widgets/controls",
      "model_module_version": "1.5.0",
      "model_name": "HBoxModel",
      "state": {
       "children": [
        "IPY_MODEL_1e78f5904fb34febaf69c286f3a8cb95",
        "IPY_MODEL_ab86b98b86084ebd87bd48220b83b3dd",
        "IPY_MODEL_5bd5064018fd40829ebd297c56199c0e"
       ],
       "layout": "IPY_MODEL_e98a8b8f25fd427f8993e560a170cd9c"
      }
     },
     "8b9a1ea58067400a9d5a788360646581": {
      "model_module": "@jupyter-widgets/controls",
      "model_module_version": "1.5.0",
      "model_name": "DescriptionStyleModel",
      "state": {
       "description_width": ""
      }
     },
     "8bc512514d0c4a4aad8373521d5ccda8": {
      "model_module": "@jupyter-widgets/controls",
      "model_module_version": "1.5.0",
      "model_name": "DescriptionStyleModel",
      "state": {
       "description_width": ""
      }
     },
     "8bf6cbdace2043e9bb2700b79772d2b2": {
      "model_module": "@jupyter-widgets/base",
      "model_module_version": "1.2.0",
      "model_name": "LayoutModel",
      "state": {}
     },
     "8e517fdf47b047aaa262d01cbfdcab96": {
      "model_module": "@jupyter-widgets/controls",
      "model_module_version": "1.5.0",
      "model_name": "HTMLModel",
      "state": {
       "layout": "IPY_MODEL_50f3ee874a9c4c0eba37890e842d0f72",
       "style": "IPY_MODEL_686aeba34276409082efc1dc45fc8416",
       "value": " 5/5 [01:06&lt;00:00, 17.38s/it]"
      }
     },
     "8ea6e57b96cc4ee482dc41be80ffa2b5": {
      "model_module": "@jupyter-widgets/controls",
      "model_module_version": "1.5.0",
      "model_name": "ProgressStyleModel",
      "state": {
       "description_width": ""
      }
     },
     "90906303fe0a47469ec45083e36aeae3": {
      "model_module": "@jupyter-widgets/controls",
      "model_module_version": "1.5.0",
      "model_name": "DescriptionStyleModel",
      "state": {
       "description_width": ""
      }
     },
     "9254ba28da7e4de0a50088e37aa4616f": {
      "model_module": "@jupyter-widgets/base",
      "model_module_version": "1.2.0",
      "model_name": "LayoutModel",
      "state": {}
     },
     "92d6a11c4a8346ac9e1d1ded2d1ad513": {
      "model_module": "@jupyter-widgets/base",
      "model_module_version": "1.2.0",
      "model_name": "LayoutModel",
      "state": {}
     },
     "94bf365187f7461baf8338c242645381": {
      "model_module": "@jupyter-widgets/base",
      "model_module_version": "1.2.0",
      "model_name": "LayoutModel",
      "state": {}
     },
     "96bf180f33b2453d8518da5e0455593b": {
      "model_module": "@jupyter-widgets/controls",
      "model_module_version": "1.5.0",
      "model_name": "DescriptionStyleModel",
      "state": {
       "description_width": ""
      }
     },
     "96ed2138123d4f6d87249a2621b92294": {
      "model_module": "@jupyter-widgets/controls",
      "model_module_version": "1.5.0",
      "model_name": "DescriptionStyleModel",
      "state": {
       "description_width": ""
      }
     },
     "97e01b9688d9438b88c902361509e8de": {
      "model_module": "@jupyter-widgets/controls",
      "model_module_version": "1.5.0",
      "model_name": "ProgressStyleModel",
      "state": {
       "description_width": ""
      }
     },
     "9848049a0bc341e7b0f6736f5dbb9f2d": {
      "model_module": "@jupyter-widgets/controls",
      "model_module_version": "1.5.0",
      "model_name": "DescriptionStyleModel",
      "state": {
       "description_width": ""
      }
     },
     "9907c83ac1b042249c92bb58253e2f5f": {
      "model_module": "@jupyter-widgets/controls",
      "model_module_version": "1.5.0",
      "model_name": "DescriptionStyleModel",
      "state": {
       "description_width": ""
      }
     },
     "998f5edf24374a6a97dcc145b30d899b": {
      "model_module": "@jupyter-widgets/controls",
      "model_module_version": "1.5.0",
      "model_name": "HTMLModel",
      "state": {
       "layout": "IPY_MODEL_c6a85f70136f4b7db80ebb9c2320a212",
       "style": "IPY_MODEL_1676b24612044e93aa6795fa01962594",
       "value": "100%"
      }
     },
     "99c99f6baafc427287f5dfd94a0b0f7b": {
      "model_module": "@jupyter-widgets/base",
      "model_module_version": "1.2.0",
      "model_name": "LayoutModel",
      "state": {}
     },
     "9a16db38dcee4de493c7f8ad00829b20": {
      "model_module": "@jupyter-widgets/base",
      "model_module_version": "1.2.0",
      "model_name": "LayoutModel",
      "state": {}
     },
     "9a87c16552d84965950e18860b267b0e": {
      "model_module": "@jupyter-widgets/base",
      "model_module_version": "1.2.0",
      "model_name": "LayoutModel",
      "state": {}
     },
     "9c14918ddff042a0a24163ef793a186e": {
      "model_module": "@jupyter-widgets/controls",
      "model_module_version": "1.5.0",
      "model_name": "DescriptionStyleModel",
      "state": {
       "description_width": ""
      }
     },
     "9d9dec0ecd4c434da82a7aaf07a6a5cd": {
      "model_module": "@jupyter-widgets/controls",
      "model_module_version": "1.5.0",
      "model_name": "DescriptionStyleModel",
      "state": {
       "description_width": ""
      }
     },
     "9db640998fb54199b338e5e631f1c63a": {
      "model_module": "@jupyter-widgets/base",
      "model_module_version": "1.2.0",
      "model_name": "LayoutModel",
      "state": {}
     },
     "9e9de4662ff249329fecbc3c522ae112": {
      "model_module": "@jupyter-widgets/base",
      "model_module_version": "1.2.0",
      "model_name": "LayoutModel",
      "state": {}
     },
     "9f269a745de04758b96975f64b67f78f": {
      "model_module": "@jupyter-widgets/base",
      "model_module_version": "1.2.0",
      "model_name": "LayoutModel",
      "state": {}
     },
     "9fef008909a046778bf9591388abe20f": {
      "model_module": "@jupyter-widgets/controls",
      "model_module_version": "1.5.0",
      "model_name": "DescriptionStyleModel",
      "state": {
       "description_width": ""
      }
     },
     "a176a23a136f46209ff09fb892e4456e": {
      "model_module": "@jupyter-widgets/base",
      "model_module_version": "1.2.0",
      "model_name": "LayoutModel",
      "state": {}
     },
     "a20deeb3b9e54d139600fd46708253da": {
      "model_module": "@jupyter-widgets/controls",
      "model_module_version": "1.5.0",
      "model_name": "FloatProgressModel",
      "state": {
       "bar_style": "success",
       "layout": "IPY_MODEL_64acff766231446baa08e68cc38dfd36",
       "max": 5,
       "style": "IPY_MODEL_d65e4676f9194cd78bb87ac8945cc9f6",
       "value": 5
      }
     },
     "a2df6dea9f504e1b816e0308f6f7db02": {
      "model_module": "@jupyter-widgets/base",
      "model_module_version": "1.2.0",
      "model_name": "LayoutModel",
      "state": {}
     },
     "a36aa0cc3c544e2ab8f0a66780fda894": {
      "model_module": "@jupyter-widgets/controls",
      "model_module_version": "1.5.0",
      "model_name": "HTMLModel",
      "state": {
       "layout": "IPY_MODEL_742fa1d524ff4b529d1a13c1fb80bb0b",
       "style": "IPY_MODEL_8b9a1ea58067400a9d5a788360646581",
       "value": "100%"
      }
     },
     "a4c7c225cdf9401b8c54ac994d57bc5b": {
      "model_module": "@jupyter-widgets/base",
      "model_module_version": "1.2.0",
      "model_name": "LayoutModel",
      "state": {}
     },
     "a51baa08495542c7975e57fa2dfb4313": {
      "model_module": "@jupyter-widgets/base",
      "model_module_version": "1.2.0",
      "model_name": "LayoutModel",
      "state": {}
     },
     "a51cfc0a0cd64329b4ed6593837cb7f3": {
      "model_module": "@jupyter-widgets/base",
      "model_module_version": "1.2.0",
      "model_name": "LayoutModel",
      "state": {}
     },
     "a57333eb02b44e748a81a77f27661779": {
      "model_module": "@jupyter-widgets/controls",
      "model_module_version": "1.5.0",
      "model_name": "DescriptionStyleModel",
      "state": {
       "description_width": ""
      }
     },
     "a788f13fe0404e7292b3c468a870ed11": {
      "model_module": "@jupyter-widgets/base",
      "model_module_version": "1.2.0",
      "model_name": "LayoutModel",
      "state": {}
     },
     "a86e01c224564c64b5f4cf7bb372dea4": {
      "model_module": "@jupyter-widgets/controls",
      "model_module_version": "1.5.0",
      "model_name": "FloatProgressModel",
      "state": {
       "bar_style": "success",
       "layout": "IPY_MODEL_41bb71edb411475abec7a09c3f5dae47",
       "max": 5,
       "style": "IPY_MODEL_b5ca5a97b62b4775a9eb7693b45c85f3",
       "value": 5
      }
     },
     "a8fadd604e6f4104baaea4a846cd5a70": {
      "model_module": "@jupyter-widgets/controls",
      "model_module_version": "1.5.0",
      "model_name": "DescriptionStyleModel",
      "state": {
       "description_width": ""
      }
     },
     "a90439b9af1b4183adb8000d22128269": {
      "model_module": "@jupyter-widgets/controls",
      "model_module_version": "1.5.0",
      "model_name": "ProgressStyleModel",
      "state": {
       "description_width": ""
      }
     },
     "a93ed7f966cb44a3bbd3d448022833f8": {
      "model_module": "@jupyter-widgets/controls",
      "model_module_version": "1.5.0",
      "model_name": "DescriptionStyleModel",
      "state": {
       "description_width": ""
      }
     },
     "a96bbc1d5cf946a0b7aa5a30e1ee4151": {
      "model_module": "@jupyter-widgets/base",
      "model_module_version": "1.2.0",
      "model_name": "LayoutModel",
      "state": {}
     },
     "a9bd7ef461b84379b90e7e286b8f759d": {
      "model_module": "@jupyter-widgets/controls",
      "model_module_version": "1.5.0",
      "model_name": "DescriptionStyleModel",
      "state": {
       "description_width": ""
      }
     },
     "aa3a92960d3f4ff1b5c788285cdc206b": {
      "model_module": "@jupyter-widgets/controls",
      "model_module_version": "1.5.0",
      "model_name": "HBoxModel",
      "state": {
       "children": [
        "IPY_MODEL_3b834ddce15f44d7abd22e4653a13268",
        "IPY_MODEL_a20deeb3b9e54d139600fd46708253da",
        "IPY_MODEL_f860a5c893914388aa0d1dc9e6bc5627"
       ],
       "layout": "IPY_MODEL_f7985f6904504aa68c46717c36c1d320"
      }
     },
     "aa40c89311544f4282ee1a9df8b1046e": {
      "model_module": "@jupyter-widgets/controls",
      "model_module_version": "1.5.0",
      "model_name": "DescriptionStyleModel",
      "state": {
       "description_width": ""
      }
     },
     "aaaf342a331248f6946fd8d547882e76": {
      "model_module": "@jupyter-widgets/base",
      "model_module_version": "1.2.0",
      "model_name": "LayoutModel",
      "state": {}
     },
     "aad5733dcbb647a9ba501a02cc3a2e05": {
      "model_module": "@jupyter-widgets/controls",
      "model_module_version": "1.5.0",
      "model_name": "ProgressStyleModel",
      "state": {
       "description_width": ""
      }
     },
     "ab86b98b86084ebd87bd48220b83b3dd": {
      "model_module": "@jupyter-widgets/controls",
      "model_module_version": "1.5.0",
      "model_name": "FloatProgressModel",
      "state": {
       "bar_style": "success",
       "layout": "IPY_MODEL_4cdebb8b8e564697a8a20c2c2c38b884",
       "max": 5,
       "style": "IPY_MODEL_5bd34afe40f1434d967639cf2d20d054",
       "value": 5
      }
     },
     "ac12afccb24f4be5b0cc649264838903": {
      "model_module": "@jupyter-widgets/controls",
      "model_module_version": "1.5.0",
      "model_name": "DescriptionStyleModel",
      "state": {
       "description_width": ""
      }
     },
     "ac3e4d2bfa0e425daf2feac8f46d79c8": {
      "model_module": "@jupyter-widgets/base",
      "model_module_version": "1.2.0",
      "model_name": "LayoutModel",
      "state": {}
     },
     "ac734544769c45c4bef7ec80b41ab8cc": {
      "model_module": "@jupyter-widgets/controls",
      "model_module_version": "1.5.0",
      "model_name": "HTMLModel",
      "state": {
       "layout": "IPY_MODEL_0fa0ef87be974d4e9e950c867b368151",
       "style": "IPY_MODEL_ee223d01dd84413d80b8755d61d3c148",
       "value": " 5/5 [00:04&lt;00:00,  1.38it/s]"
      }
     },
     "ad773bb596d24e11a22ab5377f0a2ebd": {
      "model_module": "@jupyter-widgets/controls",
      "model_module_version": "1.5.0",
      "model_name": "FloatProgressModel",
      "state": {
       "bar_style": "success",
       "layout": "IPY_MODEL_a176a23a136f46209ff09fb892e4456e",
       "max": 5,
       "style": "IPY_MODEL_24d554578bc245f0bb1cc0e91fc8a6d7",
       "value": 5
      }
     },
     "ad7fb09ffcc54ac2bfd6cf64f57cb0f5": {
      "model_module": "@jupyter-widgets/controls",
      "model_module_version": "1.5.0",
      "model_name": "FloatProgressModel",
      "state": {
       "bar_style": "success",
       "layout": "IPY_MODEL_beb9611645c947e0a42d97259165e4f7",
       "max": 5,
       "style": "IPY_MODEL_59128e41e5ca4a71bcce581bbbb956ad",
       "value": 5
      }
     },
     "b1574cf2205f42a5ba0ce5225463da7c": {
      "model_module": "@jupyter-widgets/controls",
      "model_module_version": "1.5.0",
      "model_name": "ProgressStyleModel",
      "state": {
       "description_width": ""
      }
     },
     "b1633c0c972e44f084111bea58401479": {
      "model_module": "@jupyter-widgets/base",
      "model_module_version": "1.2.0",
      "model_name": "LayoutModel",
      "state": {}
     },
     "b279874006424b6c97bf18dc7702444f": {
      "model_module": "@jupyter-widgets/base",
      "model_module_version": "1.2.0",
      "model_name": "LayoutModel",
      "state": {}
     },
     "b3cbb132d9ab41a898fd27d3bc7773c3": {
      "model_module": "@jupyter-widgets/base",
      "model_module_version": "1.2.0",
      "model_name": "LayoutModel",
      "state": {}
     },
     "b484940ad2594fe586fdcbe497caab52": {
      "model_module": "@jupyter-widgets/controls",
      "model_module_version": "1.5.0",
      "model_name": "HBoxModel",
      "state": {
       "children": [
        "IPY_MODEL_7cdea3519896473a8d8578d818323998",
        "IPY_MODEL_f2055981b89841e4bbfa1a00d23f58d3",
        "IPY_MODEL_cac47298a6094f3ab42a831eeb5f8e3b"
       ],
       "layout": "IPY_MODEL_4f33f3042a944ad39cda4880721b243e"
      }
     },
     "b4db3abf5d6045a49f8ebc4612f25691": {
      "model_module": "@jupyter-widgets/base",
      "model_module_version": "1.2.0",
      "model_name": "LayoutModel",
      "state": {}
     },
     "b5b595ec5f654e2ea42827863411226b": {
      "model_module": "@jupyter-widgets/controls",
      "model_module_version": "1.5.0",
      "model_name": "HTMLModel",
      "state": {
       "layout": "IPY_MODEL_2d2d0465b8fd4c9fbe9c4a1330764363",
       "style": "IPY_MODEL_ac12afccb24f4be5b0cc649264838903",
       "value": " 5/5 [00:04&lt;00:00,  1.49it/s]"
      }
     },
     "b5bb20b3514f40aab98fea577cfd4c32": {
      "model_module": "@jupyter-widgets/controls",
      "model_module_version": "1.5.0",
      "model_name": "FloatProgressModel",
      "state": {
       "bar_style": "success",
       "layout": "IPY_MODEL_e3b25f87c7aa47d8985f4a40a51ed455",
       "max": 5,
       "style": "IPY_MODEL_bc7eb8f1bf3b4351b4ce1d5eef76c531",
       "value": 5
      }
     },
     "b5ca5a97b62b4775a9eb7693b45c85f3": {
      "model_module": "@jupyter-widgets/controls",
      "model_module_version": "1.5.0",
      "model_name": "ProgressStyleModel",
      "state": {
       "description_width": ""
      }
     },
     "b5db0e0dc34c4dac9376ff27753939d0": {
      "model_module": "@jupyter-widgets/controls",
      "model_module_version": "1.5.0",
      "model_name": "HTMLModel",
      "state": {
       "layout": "IPY_MODEL_4c6a27626e334d13bf497ea07c1030f3",
       "style": "IPY_MODEL_1557b357e8a8478c92f175782387a813",
       "value": "100%"
      }
     },
     "b66427e672804cf5895421ca93aaa426": {
      "model_module": "@jupyter-widgets/base",
      "model_module_version": "1.2.0",
      "model_name": "LayoutModel",
      "state": {}
     },
     "b6a90cdce7a442dd9eee66cf3825b135": {
      "model_module": "@jupyter-widgets/controls",
      "model_module_version": "1.5.0",
      "model_name": "HBoxModel",
      "state": {
       "children": [
        "IPY_MODEL_b5db0e0dc34c4dac9376ff27753939d0",
        "IPY_MODEL_523e73cad70f4e5da1ca1cecc58dc72f",
        "IPY_MODEL_c64b228f238e4727acbc32a0065ece95"
       ],
       "layout": "IPY_MODEL_e7d5829b0d6f4e6d9c2e81ade901d7ba"
      }
     },
     "b817837232f74ddea274fd6f840a435a": {
      "model_module": "@jupyter-widgets/base",
      "model_module_version": "1.2.0",
      "model_name": "LayoutModel",
      "state": {}
     },
     "b891e94e6e06456585a735f186709064": {
      "model_module": "@jupyter-widgets/base",
      "model_module_version": "1.2.0",
      "model_name": "LayoutModel",
      "state": {}
     },
     "ba3bf368b5dc4d6fa5acc085880541f1": {
      "model_module": "@jupyter-widgets/controls",
      "model_module_version": "1.5.0",
      "model_name": "HTMLModel",
      "state": {
       "layout": "IPY_MODEL_425af19a89c645d8a38b0cff64e87c3f",
       "style": "IPY_MODEL_89e55da93e0e46bca6cbaa28d229d7b3",
       "value": "100%"
      }
     },
     "bab65ac80d2c4bfeb0e8d61c43a664c5": {
      "model_module": "@jupyter-widgets/controls",
      "model_module_version": "1.5.0",
      "model_name": "FloatProgressModel",
      "state": {
       "bar_style": "success",
       "layout": "IPY_MODEL_9db640998fb54199b338e5e631f1c63a",
       "max": 5,
       "style": "IPY_MODEL_5e4f7012334c4585b8acb6d92833e5a3",
       "value": 5
      }
     },
     "bc7eb8f1bf3b4351b4ce1d5eef76c531": {
      "model_module": "@jupyter-widgets/controls",
      "model_module_version": "1.5.0",
      "model_name": "ProgressStyleModel",
      "state": {
       "description_width": ""
      }
     },
     "bcefe77b6c424ca4a48f0dee0f38b5c2": {
      "model_module": "@jupyter-widgets/base",
      "model_module_version": "1.2.0",
      "model_name": "LayoutModel",
      "state": {}
     },
     "be2e815cba264aff92b9aec1b70afa96": {
      "model_module": "@jupyter-widgets/controls",
      "model_module_version": "1.5.0",
      "model_name": "DescriptionStyleModel",
      "state": {
       "description_width": ""
      }
     },
     "be4621ce596246b0839c3342bfaf1e2e": {
      "model_module": "@jupyter-widgets/base",
      "model_module_version": "1.2.0",
      "model_name": "LayoutModel",
      "state": {}
     },
     "be83c259dd484d0081ec7f2eef4a380f": {
      "model_module": "@jupyter-widgets/controls",
      "model_module_version": "1.5.0",
      "model_name": "HTMLModel",
      "state": {
       "layout": "IPY_MODEL_2c13d5b6402f43c1b9761aeb773ffa37",
       "style": "IPY_MODEL_61d9287171a741a3b91856e4cd3f8dc9",
       "value": " 5/5 [01:30&lt;00:00, 23.22s/it]"
      }
     },
     "beb9611645c947e0a42d97259165e4f7": {
      "model_module": "@jupyter-widgets/base",
      "model_module_version": "1.2.0",
      "model_name": "LayoutModel",
      "state": {}
     },
     "bf30b09af37c43e1996438cab4163af8": {
      "model_module": "@jupyter-widgets/base",
      "model_module_version": "1.2.0",
      "model_name": "LayoutModel",
      "state": {}
     },
     "bf4b0e43e995412e9214fdd7401572bd": {
      "model_module": "@jupyter-widgets/controls",
      "model_module_version": "1.5.0",
      "model_name": "FloatProgressModel",
      "state": {
       "bar_style": "success",
       "layout": "IPY_MODEL_dc795d0ab85f4ef48a5075afba4b9631",
       "max": 5,
       "style": "IPY_MODEL_84813391b8e24783af956d3738f20a6e",
       "value": 5
      }
     },
     "bfbfeed5c7f046b38e9855b8057b2e39": {
      "model_module": "@jupyter-widgets/base",
      "model_module_version": "1.2.0",
      "model_name": "LayoutModel",
      "state": {}
     },
     "c1e3088bd138485085ec73e6ee755b08": {
      "model_module": "@jupyter-widgets/controls",
      "model_module_version": "1.5.0",
      "model_name": "DescriptionStyleModel",
      "state": {
       "description_width": ""
      }
     },
     "c58fcd350c574e15a9ae3e8235c4dc28": {
      "model_module": "@jupyter-widgets/base",
      "model_module_version": "1.2.0",
      "model_name": "LayoutModel",
      "state": {}
     },
     "c5a48865ecc34967a3868957cd2d5ada": {
      "model_module": "@jupyter-widgets/base",
      "model_module_version": "1.2.0",
      "model_name": "LayoutModel",
      "state": {}
     },
     "c62f9db773534ca18cf599df0f4049a2": {
      "model_module": "@jupyter-widgets/controls",
      "model_module_version": "1.5.0",
      "model_name": "ProgressStyleModel",
      "state": {
       "description_width": ""
      }
     },
     "c64b228f238e4727acbc32a0065ece95": {
      "model_module": "@jupyter-widgets/controls",
      "model_module_version": "1.5.0",
      "model_name": "HTMLModel",
      "state": {
       "layout": "IPY_MODEL_7e566b84e4b1499bb84eae59c9c0dfa1",
       "style": "IPY_MODEL_139e0d46182a4299a47d21f176d25d98",
       "value": " 5/5 [01:39&lt;00:00, 26.56s/it]"
      }
     },
     "c6a85f70136f4b7db80ebb9c2320a212": {
      "model_module": "@jupyter-widgets/base",
      "model_module_version": "1.2.0",
      "model_name": "LayoutModel",
      "state": {}
     },
     "c6bcfbc4ba6f4af5aac2975dd434d87c": {
      "model_module": "@jupyter-widgets/controls",
      "model_module_version": "1.5.0",
      "model_name": "ProgressStyleModel",
      "state": {
       "description_width": ""
      }
     },
     "c759feb9063547d6a1fc6bb9329c85ca": {
      "model_module": "@jupyter-widgets/controls",
      "model_module_version": "1.5.0",
      "model_name": "FloatProgressModel",
      "state": {
       "bar_style": "success",
       "layout": "IPY_MODEL_e5d62a5d685b4594ae22ccc30ae12b51",
       "max": 5,
       "style": "IPY_MODEL_12257d2a18a64aca8d1a4f5d4ba4b782",
       "value": 5
      }
     },
     "c82402e2a8c74bbe85731a8535cb6614": {
      "model_module": "@jupyter-widgets/controls",
      "model_module_version": "1.5.0",
      "model_name": "HTMLModel",
      "state": {
       "layout": "IPY_MODEL_a51baa08495542c7975e57fa2dfb4313",
       "style": "IPY_MODEL_a9bd7ef461b84379b90e7e286b8f759d",
       "value": "100%"
      }
     },
     "c877bf05e1944aa09f175f9b1cdb0bf5": {
      "model_module": "@jupyter-widgets/controls",
      "model_module_version": "1.5.0",
      "model_name": "DescriptionStyleModel",
      "state": {
       "description_width": ""
      }
     },
     "c9c93ecd88294c77b3b9f63d6902dae2": {
      "model_module": "@jupyter-widgets/base",
      "model_module_version": "1.2.0",
      "model_name": "LayoutModel",
      "state": {}
     },
     "cac47298a6094f3ab42a831eeb5f8e3b": {
      "model_module": "@jupyter-widgets/controls",
      "model_module_version": "1.5.0",
      "model_name": "HTMLModel",
      "state": {
       "layout": "IPY_MODEL_ed94982e6d3c4cbaaf35b7ae2e0cad2b",
       "style": "IPY_MODEL_361b6580ec234dbf94db6d641277a5c1",
       "value": " 5/5 [01:28&lt;00:00, 22.74s/it]"
      }
     },
     "cacb529331614d40bccdc2803937dd59": {
      "model_module": "@jupyter-widgets/controls",
      "model_module_version": "1.5.0",
      "model_name": "FloatProgressModel",
      "state": {
       "bar_style": "success",
       "layout": "IPY_MODEL_7c447de56f914b50b3904f06afea8e7a",
       "max": 5,
       "style": "IPY_MODEL_718efaf3cbcc4732873489bf33fb8750",
       "value": 5
      }
     },
     "cb3e073299404be591ba256bfc51c754": {
      "model_module": "@jupyter-widgets/base",
      "model_module_version": "1.2.0",
      "model_name": "LayoutModel",
      "state": {}
     },
     "cb98b65b1e504f53879729cdb60d5b30": {
      "model_module": "@jupyter-widgets/controls",
      "model_module_version": "1.5.0",
      "model_name": "FloatProgressModel",
      "state": {
       "bar_style": "success",
       "layout": "IPY_MODEL_ce3e72be88e74116a224b23b99b83047",
       "max": 5,
       "style": "IPY_MODEL_8ea6e57b96cc4ee482dc41be80ffa2b5",
       "value": 5
      }
     },
     "ccedcee1284c476ea20f79f780faa235": {
      "model_module": "@jupyter-widgets/controls",
      "model_module_version": "1.5.0",
      "model_name": "HTMLModel",
      "state": {
       "layout": "IPY_MODEL_454ef556075044cc8d6ad08520855613",
       "style": "IPY_MODEL_a93ed7f966cb44a3bbd3d448022833f8",
       "value": " 5/5 [00:03&lt;00:00,  1.98it/s]"
      }
     },
     "cd861f638484476a8bd98d5b4fbdc064": {
      "model_module": "@jupyter-widgets/controls",
      "model_module_version": "1.5.0",
      "model_name": "DescriptionStyleModel",
      "state": {
       "description_width": ""
      }
     },
     "cd8a2ca3dcbd4212a6c96d2e92e4fdf2": {
      "model_module": "@jupyter-widgets/controls",
      "model_module_version": "1.5.0",
      "model_name": "HTMLModel",
      "state": {
       "layout": "IPY_MODEL_9254ba28da7e4de0a50088e37aa4616f",
       "style": "IPY_MODEL_c1e3088bd138485085ec73e6ee755b08",
       "value": "100%"
      }
     },
     "cda0a0139155494194a4dd6274d2c85f": {
      "model_module": "@jupyter-widgets/controls",
      "model_module_version": "1.5.0",
      "model_name": "FloatProgressModel",
      "state": {
       "bar_style": "success",
       "layout": "IPY_MODEL_8bf6cbdace2043e9bb2700b79772d2b2",
       "max": 5,
       "style": "IPY_MODEL_45269b39505443e090288253f41d9ea4",
       "value": 5
      }
     },
     "ce3e72be88e74116a224b23b99b83047": {
      "model_module": "@jupyter-widgets/base",
      "model_module_version": "1.2.0",
      "model_name": "LayoutModel",
      "state": {}
     },
     "cebc0d8facb74c2f99886e90e0b0f1a4": {
      "model_module": "@jupyter-widgets/controls",
      "model_module_version": "1.5.0",
      "model_name": "FloatProgressModel",
      "state": {
       "bar_style": "success",
       "layout": "IPY_MODEL_d1ce026d1e43495a81661f08505220f4",
       "max": 5,
       "style": "IPY_MODEL_24fe5f80d62349dca566ac08e14da5b2",
       "value": 5
      }
     },
     "cf375f4568f84df5b9ffb073e406e582": {
      "model_module": "@jupyter-widgets/controls",
      "model_module_version": "1.5.0",
      "model_name": "HBoxModel",
      "state": {
       "children": [
        "IPY_MODEL_2c8813c7899c43f299407e1b64030d34",
        "IPY_MODEL_6b181a46c18249d8b481ccdb92ab463e",
        "IPY_MODEL_246d7dff56bd495c9d9373dca362eb87"
       ],
       "layout": "IPY_MODEL_bcefe77b6c424ca4a48f0dee0f38b5c2"
      }
     },
     "cf548c85f58a43ca9e3e5bfb381efe4a": {
      "model_module": "@jupyter-widgets/controls",
      "model_module_version": "1.5.0",
      "model_name": "HTMLModel",
      "state": {
       "layout": "IPY_MODEL_594235f2e5e24560a7be74c906440cb1",
       "style": "IPY_MODEL_c877bf05e1944aa09f175f9b1cdb0bf5",
       "value": " 5/5 [01:23&lt;00:00, 21.97s/it]"
      }
     },
     "cfa8b727ad124485b3010ba20ad7103d": {
      "model_module": "@jupyter-widgets/controls",
      "model_module_version": "1.5.0",
      "model_name": "FloatProgressModel",
      "state": {
       "bar_style": "success",
       "layout": "IPY_MODEL_c9c93ecd88294c77b3b9f63d6902dae2",
       "max": 5,
       "style": "IPY_MODEL_ed6a3611817a4ad5a22f20bce6d70f79",
       "value": 5
      }
     },
     "cff400cc4bee430c902f75e857881967": {
      "model_module": "@jupyter-widgets/base",
      "model_module_version": "1.2.0",
      "model_name": "LayoutModel",
      "state": {}
     },
     "d11624e89b54406ba8a416b8d697ad8c": {
      "model_module": "@jupyter-widgets/controls",
      "model_module_version": "1.5.0",
      "model_name": "ProgressStyleModel",
      "state": {
       "description_width": ""
      }
     },
     "d1ce026d1e43495a81661f08505220f4": {
      "model_module": "@jupyter-widgets/base",
      "model_module_version": "1.2.0",
      "model_name": "LayoutModel",
      "state": {}
     },
     "d21788fc4c49467ba238fc65510a8364": {
      "model_module": "@jupyter-widgets/controls",
      "model_module_version": "1.5.0",
      "model_name": "DescriptionStyleModel",
      "state": {
       "description_width": ""
      }
     },
     "d262965c53cf4a83946413209a9ffb3e": {
      "model_module": "@jupyter-widgets/controls",
      "model_module_version": "1.5.0",
      "model_name": "HBoxModel",
      "state": {
       "children": [
        "IPY_MODEL_e6ba4186a7824223b237ed46675defe5",
        "IPY_MODEL_351730f6988e48aca6a5c6f1563a6614",
        "IPY_MODEL_70689a79230e4f83991209a865746cd1"
       ],
       "layout": "IPY_MODEL_47d1d34e18744a23a67e51edaf64aab4"
      }
     },
     "d3e75d08af0a43f7b702833eaaf39535": {
      "model_module": "@jupyter-widgets/base",
      "model_module_version": "1.2.0",
      "model_name": "LayoutModel",
      "state": {}
     },
     "d58af5c233f249759ef0f7d6ba8a2271": {
      "model_module": "@jupyter-widgets/controls",
      "model_module_version": "1.5.0",
      "model_name": "DescriptionStyleModel",
      "state": {
       "description_width": ""
      }
     },
     "d5af5326f0f040818928a42f2cb5d2ba": {
      "model_module": "@jupyter-widgets/controls",
      "model_module_version": "1.5.0",
      "model_name": "ProgressStyleModel",
      "state": {
       "description_width": ""
      }
     },
     "d65e4676f9194cd78bb87ac8945cc9f6": {
      "model_module": "@jupyter-widgets/controls",
      "model_module_version": "1.5.0",
      "model_name": "ProgressStyleModel",
      "state": {
       "description_width": ""
      }
     },
     "d7dbeea2a8ba4b1898974f7e6742edf1": {
      "model_module": "@jupyter-widgets/controls",
      "model_module_version": "1.5.0",
      "model_name": "FloatProgressModel",
      "state": {
       "bar_style": "success",
       "layout": "IPY_MODEL_7c078f30985f4e509e94296c28a42cf9",
       "max": 5,
       "style": "IPY_MODEL_385705b9fa454bc6b60997eaff94d7f0",
       "value": 5
      }
     },
     "d8e5d8a6ab7d4e28aefb10c15fcdcd82": {
      "model_module": "@jupyter-widgets/controls",
      "model_module_version": "1.5.0",
      "model_name": "HTMLModel",
      "state": {
       "layout": "IPY_MODEL_1ad6955f4f9141a29ecb292c22fb1bf1",
       "style": "IPY_MODEL_278f12e0b90348d0aa2919e92814852f",
       "value": " 5/5 [00:04&lt;00:00,  1.10it/s]"
      }
     },
     "d9f99502f6084fee89091e6c80f5bd66": {
      "model_module": "@jupyter-widgets/controls",
      "model_module_version": "1.5.0",
      "model_name": "HBoxModel",
      "state": {
       "children": [
        "IPY_MODEL_579a9b9e2c4042129c3af038d01a8263",
        "IPY_MODEL_a86e01c224564c64b5f4cf7bb372dea4",
        "IPY_MODEL_42a6bca3abe242c68cffe765b9c90955"
       ],
       "layout": "IPY_MODEL_52cd82f9dbdf41c5994ed53a9ef05ec3"
      }
     },
     "da2813f7acf94c43b1ecaf5179f40ea0": {
      "model_module": "@jupyter-widgets/base",
      "model_module_version": "1.2.0",
      "model_name": "LayoutModel",
      "state": {}
     },
     "dab15b796d584afbae24b8c20278c118": {
      "model_module": "@jupyter-widgets/base",
      "model_module_version": "1.2.0",
      "model_name": "LayoutModel",
      "state": {}
     },
     "db528e55575847a6a5a00841ee499dfc": {
      "model_module": "@jupyter-widgets/controls",
      "model_module_version": "1.5.0",
      "model_name": "HTMLModel",
      "state": {
       "layout": "IPY_MODEL_9e9de4662ff249329fecbc3c522ae112",
       "style": "IPY_MODEL_7232374656ca4b9db7b402cc2da3e720",
       "value": " 5/5 [01:00&lt;00:00, 15.92s/it]"
      }
     },
     "db5fb3527d5748968034bada6f69ed54": {
      "model_module": "@jupyter-widgets/base",
      "model_module_version": "1.2.0",
      "model_name": "LayoutModel",
      "state": {}
     },
     "dc795d0ab85f4ef48a5075afba4b9631": {
      "model_module": "@jupyter-widgets/base",
      "model_module_version": "1.2.0",
      "model_name": "LayoutModel",
      "state": {}
     },
     "dc810c1a8ecc4f549991d7954d0c677c": {
      "model_module": "@jupyter-widgets/controls",
      "model_module_version": "1.5.0",
      "model_name": "HTMLModel",
      "state": {
       "layout": "IPY_MODEL_aaaf342a331248f6946fd8d547882e76",
       "style": "IPY_MODEL_58a9381deb5e48a9a8109b05dc30c28e",
       "value": " 5/5 [00:03&lt;00:00,  1.77it/s]"
      }
     },
     "df0ab7e66af44d00b6d7a9b86bbb5b26": {
      "model_module": "@jupyter-widgets/controls",
      "model_module_version": "1.5.0",
      "model_name": "HTMLModel",
      "state": {
       "layout": "IPY_MODEL_a2df6dea9f504e1b816e0308f6f7db02",
       "style": "IPY_MODEL_cd861f638484476a8bd98d5b4fbdc064",
       "value": "100%"
      }
     },
     "e22f9b4afc3042608b15f685335692af": {
      "model_module": "@jupyter-widgets/controls",
      "model_module_version": "1.5.0",
      "model_name": "DescriptionStyleModel",
      "state": {
       "description_width": ""
      }
     },
     "e2d4cbe330c04b528706dc800311619f": {
      "model_module": "@jupyter-widgets/controls",
      "model_module_version": "1.5.0",
      "model_name": "FloatProgressModel",
      "state": {
       "bar_style": "success",
       "layout": "IPY_MODEL_827d77165d344a488da3afb675aec694",
       "max": 5,
       "style": "IPY_MODEL_d5af5326f0f040818928a42f2cb5d2ba",
       "value": 5
      }
     },
     "e2dbc2ded3af43d38b6dbf1a01aba19b": {
      "model_module": "@jupyter-widgets/controls",
      "model_module_version": "1.5.0",
      "model_name": "FloatProgressModel",
      "state": {
       "bar_style": "success",
       "layout": "IPY_MODEL_2fc67a73a1994fb0b06ee66538885a08",
       "max": 5,
       "style": "IPY_MODEL_97e01b9688d9438b88c902361509e8de",
       "value": 5
      }
     },
     "e3b25f87c7aa47d8985f4a40a51ed455": {
      "model_module": "@jupyter-widgets/base",
      "model_module_version": "1.2.0",
      "model_name": "LayoutModel",
      "state": {}
     },
     "e5748f17daf24d9fb1a9319e412aa155": {
      "model_module": "@jupyter-widgets/base",
      "model_module_version": "1.2.0",
      "model_name": "LayoutModel",
      "state": {}
     },
     "e5b2d172edbc478d910f15efada4e8c2": {
      "model_module": "@jupyter-widgets/controls",
      "model_module_version": "1.5.0",
      "model_name": "FloatProgressModel",
      "state": {
       "bar_style": "success",
       "layout": "IPY_MODEL_c5a48865ecc34967a3868957cd2d5ada",
       "max": 5,
       "style": "IPY_MODEL_d11624e89b54406ba8a416b8d697ad8c",
       "value": 5
      }
     },
     "e5d62a5d685b4594ae22ccc30ae12b51": {
      "model_module": "@jupyter-widgets/base",
      "model_module_version": "1.2.0",
      "model_name": "LayoutModel",
      "state": {}
     },
     "e5dc4c2f2df04faaa18d7b6c07af2c6e": {
      "model_module": "@jupyter-widgets/base",
      "model_module_version": "1.2.0",
      "model_name": "LayoutModel",
      "state": {}
     },
     "e6ba4186a7824223b237ed46675defe5": {
      "model_module": "@jupyter-widgets/controls",
      "model_module_version": "1.5.0",
      "model_name": "HTMLModel",
      "state": {
       "layout": "IPY_MODEL_07e8e985b5b6474eac05deed6ac157aa",
       "style": "IPY_MODEL_1a9a331d15bb46f1aa73df97cc6699ba",
       "value": "100%"
      }
     },
     "e7b060522e254f72851777c47342b721": {
      "model_module": "@jupyter-widgets/base",
      "model_module_version": "1.2.0",
      "model_name": "LayoutModel",
      "state": {}
     },
     "e7d5829b0d6f4e6d9c2e81ade901d7ba": {
      "model_module": "@jupyter-widgets/base",
      "model_module_version": "1.2.0",
      "model_name": "LayoutModel",
      "state": {}
     },
     "e98a8b8f25fd427f8993e560a170cd9c": {
      "model_module": "@jupyter-widgets/base",
      "model_module_version": "1.2.0",
      "model_name": "LayoutModel",
      "state": {}
     },
     "e9a4093c93a6456ca37266f7bb1852a8": {
      "model_module": "@jupyter-widgets/controls",
      "model_module_version": "1.5.0",
      "model_name": "DescriptionStyleModel",
      "state": {
       "description_width": ""
      }
     },
     "eae3c34713374a93affa9a105c8bc594": {
      "model_module": "@jupyter-widgets/base",
      "model_module_version": "1.2.0",
      "model_name": "LayoutModel",
      "state": {}
     },
     "ec35af8b3f1146caaf282118886899c3": {
      "model_module": "@jupyter-widgets/base",
      "model_module_version": "1.2.0",
      "model_name": "LayoutModel",
      "state": {}
     },
     "ed6a3611817a4ad5a22f20bce6d70f79": {
      "model_module": "@jupyter-widgets/controls",
      "model_module_version": "1.5.0",
      "model_name": "ProgressStyleModel",
      "state": {
       "description_width": ""
      }
     },
     "ed94982e6d3c4cbaaf35b7ae2e0cad2b": {
      "model_module": "@jupyter-widgets/base",
      "model_module_version": "1.2.0",
      "model_name": "LayoutModel",
      "state": {}
     },
     "ee223d01dd84413d80b8755d61d3c148": {
      "model_module": "@jupyter-widgets/controls",
      "model_module_version": "1.5.0",
      "model_name": "DescriptionStyleModel",
      "state": {
       "description_width": ""
      }
     },
     "f2055981b89841e4bbfa1a00d23f58d3": {
      "model_module": "@jupyter-widgets/controls",
      "model_module_version": "1.5.0",
      "model_name": "FloatProgressModel",
      "state": {
       "bar_style": "success",
       "layout": "IPY_MODEL_b4db3abf5d6045a49f8ebc4612f25691",
       "max": 5,
       "style": "IPY_MODEL_15873699753d4365830b2a4a91df4165",
       "value": 5
      }
     },
     "f21d2651a6254419a902445a3f338c57": {
      "model_module": "@jupyter-widgets/controls",
      "model_module_version": "1.5.0",
      "model_name": "ProgressStyleModel",
      "state": {
       "description_width": ""
      }
     },
     "f264b2ab184e42f68840152e231d08ec": {
      "model_module": "@jupyter-widgets/controls",
      "model_module_version": "1.5.0",
      "model_name": "HTMLModel",
      "state": {
       "layout": "IPY_MODEL_a51cfc0a0cd64329b4ed6593837cb7f3",
       "style": "IPY_MODEL_1fb784402fec42dc9fa3e3b2faf74563",
       "value": " 5/5 [00:04&lt;00:00,  1.46it/s]"
      }
     },
     "f32ce2aa06c6459a911cf8cd83c10a28": {
      "model_module": "@jupyter-widgets/base",
      "model_module_version": "1.2.0",
      "model_name": "LayoutModel",
      "state": {}
     },
     "f3641aa75b6c4531954c8b0ff7d123e1": {
      "model_module": "@jupyter-widgets/base",
      "model_module_version": "1.2.0",
      "model_name": "LayoutModel",
      "state": {}
     },
     "f3843e59b17e4e13a3a53c63c16eedde": {
      "model_module": "@jupyter-widgets/controls",
      "model_module_version": "1.5.0",
      "model_name": "HBoxModel",
      "state": {
       "children": [
        "IPY_MODEL_df0ab7e66af44d00b6d7a9b86bbb5b26",
        "IPY_MODEL_b5bb20b3514f40aab98fea577cfd4c32",
        "IPY_MODEL_27e310a1fb7740f39eb7bc931b66de9a"
       ],
       "layout": "IPY_MODEL_9a87c16552d84965950e18860b267b0e"
      }
     },
     "f3bd25fbad6f4b7eb0f7eecfc9e8f085": {
      "model_module": "@jupyter-widgets/controls",
      "model_module_version": "1.5.0",
      "model_name": "FloatProgressModel",
      "state": {
       "bar_style": "success",
       "layout": "IPY_MODEL_749f16a845874ecea85baecf12eab136",
       "max": 5,
       "style": "IPY_MODEL_20b56b361ee647a5b83400a9750a9a92",
       "value": 5
      }
     },
     "f452db64e5854f53b7433a29395b8494": {
      "model_module": "@jupyter-widgets/base",
      "model_module_version": "1.2.0",
      "model_name": "LayoutModel",
      "state": {}
     },
     "f465b9a8ef93420abf8ae602151e777d": {
      "model_module": "@jupyter-widgets/base",
      "model_module_version": "1.2.0",
      "model_name": "LayoutModel",
      "state": {}
     },
     "f57ee5336de041bbbdd6e64974e6e449": {
      "model_module": "@jupyter-widgets/controls",
      "model_module_version": "1.5.0",
      "model_name": "DescriptionStyleModel",
      "state": {
       "description_width": ""
      }
     },
     "f5f275d071674b5eb3af5295206670c7": {
      "model_module": "@jupyter-widgets/controls",
      "model_module_version": "1.5.0",
      "model_name": "DescriptionStyleModel",
      "state": {
       "description_width": ""
      }
     },
     "f7985f6904504aa68c46717c36c1d320": {
      "model_module": "@jupyter-widgets/base",
      "model_module_version": "1.2.0",
      "model_name": "LayoutModel",
      "state": {}
     },
     "f7e1cd3e9b5347549a390a43666f4ee2": {
      "model_module": "@jupyter-widgets/controls",
      "model_module_version": "1.5.0",
      "model_name": "HTMLModel",
      "state": {
       "layout": "IPY_MODEL_6725e4e14fa74cf4b1c6052782cfed44",
       "style": "IPY_MODEL_7bec455872a24d96973e6bf0324054a4",
       "value": " 5/5 [01:33&lt;00:00, 24.21s/it]"
      }
     },
     "f860a5c893914388aa0d1dc9e6bc5627": {
      "model_module": "@jupyter-widgets/controls",
      "model_module_version": "1.5.0",
      "model_name": "HTMLModel",
      "state": {
       "layout": "IPY_MODEL_28638ec309c7492b983eb8a4c6b767a3",
       "style": "IPY_MODEL_f5f275d071674b5eb3af5295206670c7",
       "value": " 5/5 [01:04&lt;00:00, 16.89s/it]"
      }
     },
     "f96a1f0adaaa4ca78962d22916545689": {
      "model_module": "@jupyter-widgets/controls",
      "model_module_version": "1.5.0",
      "model_name": "FloatProgressModel",
      "state": {
       "bar_style": "success",
       "layout": "IPY_MODEL_68481ea5be394a2ca5a60deaf8dbbdb6",
       "max": 5,
       "style": "IPY_MODEL_61a52d573eba4e028def1c95a8cacfe3",
       "value": 5
      }
     },
     "f9a2894c21d64e56a635842e26512e83": {
      "model_module": "@jupyter-widgets/controls",
      "model_module_version": "1.5.0",
      "model_name": "DescriptionStyleModel",
      "state": {
       "description_width": ""
      }
     },
     "faa67f8b5ad540cca3d76f1ed928dc2f": {
      "model_module": "@jupyter-widgets/controls",
      "model_module_version": "1.5.0",
      "model_name": "HBoxModel",
      "state": {
       "children": [
        "IPY_MODEL_6a9f57a1e58b4d8f9944c6439526a260",
        "IPY_MODEL_cb98b65b1e504f53879729cdb60d5b30",
        "IPY_MODEL_db528e55575847a6a5a00841ee499dfc"
       ],
       "layout": "IPY_MODEL_bfbfeed5c7f046b38e9855b8057b2e39"
      }
     },
     "faadb982862d4d77828e142e90670ecf": {
      "model_module": "@jupyter-widgets/controls",
      "model_module_version": "1.5.0",
      "model_name": "DescriptionStyleModel",
      "state": {
       "description_width": ""
      }
     },
     "fbbe25dc54ba44638a11070c3ea7879f": {
      "model_module": "@jupyter-widgets/controls",
      "model_module_version": "1.5.0",
      "model_name": "HBoxModel",
      "state": {
       "children": [
        "IPY_MODEL_87ccb2ffaaed43aaaeafd35e4cf1a76c",
        "IPY_MODEL_ad773bb596d24e11a22ab5377f0a2ebd",
        "IPY_MODEL_ac734544769c45c4bef7ec80b41ab8cc"
       ],
       "layout": "IPY_MODEL_5979e90c6a11449082390d17457d317c"
      }
     },
     "fe930141e37345da920fac4f737340bf": {
      "model_module": "@jupyter-widgets/base",
      "model_module_version": "1.2.0",
      "model_name": "LayoutModel",
      "state": {}
     }
    },
    "version_major": 2,
    "version_minor": 0
   }
  }
 },
 "nbformat": 4,
 "nbformat_minor": 4
}
